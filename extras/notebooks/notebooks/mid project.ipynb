{
 "cells": [
  {
   "cell_type": "markdown",
   "id": "4d578b85",
   "metadata": {},
   "source": [
    "### Import Libraries"
   ]
  },
  {
   "cell_type": "code",
   "execution_count": 15,
   "id": "3f6f0bd0",
   "metadata": {},
   "outputs": [],
   "source": [
    "# Imports\n",
    "import numpy as np\n",
    "import pandas as pd\n",
    "import plotly.express as px\n"
   ]
  },
  {
   "cell_type": "markdown",
   "id": "d8a8073b",
   "metadata": {},
   "source": [
    "### Data preview"
   ]
  },
  {
   "cell_type": "code",
   "execution_count": 16,
   "id": "f6ad6e6f",
   "metadata": {},
   "outputs": [
    {
     "name": "stdout",
     "output_type": "stream",
     "text": [
      "(171666, 21)\n",
      "<class 'pandas.core.frame.DataFrame'>\n",
      "RangeIndex: 171666 entries, 0 to 171665\n",
      "Data columns (total 21 columns):\n",
      " #   Column               Non-Null Count   Dtype  \n",
      "---  ------               --------------   -----  \n",
      " 0   year                 171666 non-null  int64  \n",
      " 1   month                171666 non-null  int64  \n",
      " 2   carrier              171666 non-null  object \n",
      " 3   carrier_name         171666 non-null  object \n",
      " 4   airport              171666 non-null  object \n",
      " 5   airport_name         171666 non-null  object \n",
      " 6   arr_flights          171426 non-null  float64\n",
      " 7   arr_del15            171223 non-null  float64\n",
      " 8   carrier_ct           171426 non-null  float64\n",
      " 9   weather_ct           171426 non-null  float64\n",
      " 10  nas_ct               171426 non-null  float64\n",
      " 11  security_ct          171426 non-null  float64\n",
      " 12  late_aircraft_ct     171426 non-null  float64\n",
      " 13  arr_cancelled        171426 non-null  float64\n",
      " 14  arr_diverted         171426 non-null  float64\n",
      " 15  arr_delay            171426 non-null  float64\n",
      " 16  carrier_delay        171426 non-null  float64\n",
      " 17  weather_delay        171426 non-null  float64\n",
      " 18  nas_delay            171426 non-null  float64\n",
      " 19  security_delay       171426 non-null  float64\n",
      " 20  late_aircraft_delay  171426 non-null  float64\n",
      "dtypes: float64(15), int64(2), object(4)\n",
      "memory usage: 27.5+ MB\n",
      "None\n",
      "                year          month    arr_flights      arr_del15  \\\n",
      "count  171666.000000  171666.000000  171426.000000  171223.000000   \n",
      "mean     2018.551361       6.493633     362.528467      66.434387   \n",
      "std         2.890006       3.440908     992.894662     179.540694   \n",
      "min      2013.000000       1.000000       1.000000       0.000000   \n",
      "25%      2016.000000       4.000000      50.000000       6.000000   \n",
      "50%      2019.000000       7.000000     100.000000      17.000000   \n",
      "75%      2021.000000       9.000000     250.000000      47.000000   \n",
      "max      2023.000000      12.000000   21977.000000    4176.000000   \n",
      "\n",
      "          carrier_ct     weather_ct         nas_ct    security_ct  \\\n",
      "count  171426.000000  171426.000000  171426.000000  171426.000000   \n",
      "mean       20.796615       2.250347      19.381147       0.157096   \n",
      "std        50.315176       7.314252      61.675244       0.717405   \n",
      "min         0.000000       0.000000       0.000000       0.000000   \n",
      "25%         2.160000       0.000000       1.000000       0.000000   \n",
      "50%         6.400000       0.400000       3.910000       0.000000   \n",
      "75%        17.260000       1.860000      11.710000       0.000000   \n",
      "max      1293.910000     266.420000    1884.420000      58.690000   \n",
      "\n",
      "       late_aircraft_ct  arr_cancelled   arr_diverted     arr_delay  \\\n",
      "count     171426.000000  171426.000000  171426.000000  171426.00000   \n",
      "mean          23.770554       7.530497       0.863387    4239.48733   \n",
      "std           72.393477      43.654880       3.772853   12618.56605   \n",
      "min            0.000000       0.000000       0.000000       0.00000   \n",
      "25%            1.230000       0.000000       0.000000     335.00000   \n",
      "50%            5.000000       1.000000       0.000000    1018.00000   \n",
      "75%           15.260000       4.000000       1.000000    2884.00000   \n",
      "max         2069.070000    4951.000000     197.000000  438783.00000   \n",
      "\n",
      "       carrier_delay  weather_delay      nas_delay  security_delay  \\\n",
      "count  171426.000000  171426.000000  171426.000000   171426.000000   \n",
      "mean     1437.185124     222.563497     920.651704        7.382725   \n",
      "std      4215.677812     821.086511    3423.509335       41.779985   \n",
      "min         0.000000       0.000000       0.000000        0.000000   \n",
      "25%       110.000000       0.000000      34.000000        0.000000   \n",
      "50%       375.000000      18.000000     146.000000        0.000000   \n",
      "75%      1109.000000     146.000000     477.000000        0.000000   \n",
      "max    196944.000000   31960.000000  112018.000000     3760.000000   \n",
      "\n",
      "       late_aircraft_delay  \n",
      "count        171426.000000  \n",
      "mean           1651.700063  \n",
      "std            5221.878385  \n",
      "min               0.000000  \n",
      "25%              65.000000  \n",
      "50%             320.000000  \n",
      "75%            1070.000000  \n",
      "max          227959.000000  \n",
      "   year  month carrier       carrier_name airport  \\\n",
      "0  2023      8      9E  Endeavor Air Inc.     ABE   \n",
      "1  2023      8      9E  Endeavor Air Inc.     ABY   \n",
      "2  2023      8      9E  Endeavor Air Inc.     AEX   \n",
      "3  2023      8      9E  Endeavor Air Inc.     AGS   \n",
      "4  2023      8      9E  Endeavor Air Inc.     ALB   \n",
      "\n",
      "                                        airport_name  arr_flights  arr_del15  \\\n",
      "0  Allentown/Bethlehem/Easton, PA: Lehigh Valley ...         89.0       13.0   \n",
      "1             Albany, GA: Southwest Georgia Regional         62.0       10.0   \n",
      "2           Alexandria, LA: Alexandria International         62.0       10.0   \n",
      "3        Augusta, GA: Augusta Regional at Bush Field         66.0       12.0   \n",
      "4                   Albany, NY: Albany International         92.0       22.0   \n",
      "\n",
      "   carrier_ct  weather_ct  ...  security_ct  late_aircraft_ct  arr_cancelled  \\\n",
      "0        2.25        1.60  ...          0.0              5.99            2.0   \n",
      "1        1.97        0.04  ...          0.0              7.42            0.0   \n",
      "2        2.73        1.18  ...          0.0              4.28            1.0   \n",
      "3        3.69        2.27  ...          0.0              1.57            1.0   \n",
      "4        7.76        0.00  ...          0.0             11.28            2.0   \n",
      "\n",
      "   arr_diverted  arr_delay  carrier_delay  weather_delay  nas_delay  \\\n",
      "0           1.0     1375.0           71.0          761.0      118.0   \n",
      "1           1.0      799.0          218.0            1.0       62.0   \n",
      "2           0.0      766.0           56.0          188.0       78.0   \n",
      "3           1.0     1397.0          471.0          320.0      388.0   \n",
      "4           0.0     1530.0          628.0            0.0      134.0   \n",
      "\n",
      "   security_delay  late_aircraft_delay  \n",
      "0             0.0                425.0  \n",
      "1             0.0                518.0  \n",
      "2             0.0                444.0  \n",
      "3             0.0                218.0  \n",
      "4             0.0                768.0  \n",
      "\n",
      "[5 rows x 21 columns]\n",
      "(171666, 21)\n"
     ]
    },
    {
     "data": {
      "text/plain": [
       "Index(['year', 'month', 'carrier', 'carrier_name', 'airport', 'airport_name',\n",
       "       'arr_flights', 'arr_del15', 'carrier_ct', 'weather_ct', 'nas_ct',\n",
       "       'security_ct', 'late_aircraft_ct', 'arr_cancelled', 'arr_diverted',\n",
       "       'arr_delay', 'carrier_delay', 'weather_delay', 'nas_delay',\n",
       "       'security_delay', 'late_aircraft_delay'],\n",
       "      dtype='object')"
      ]
     },
     "execution_count": 16,
     "metadata": {},
     "output_type": "execute_result"
    }
   ],
   "source": [
    "# Load data\n",
    "flight = pd.read_csv('Airline_Delay_Cause.csv')\n",
    "\n",
    "# Basic dataset overview\n",
    "print(flight.shape)         # Rows and columns\n",
    "print(flight.info())        # Data types and non-null counts\n",
    "print(flight.describe())    # Summary stats\n",
    "print(flight.head())        # Preview first 5 rows\n",
    "print(flight.shape)\n",
    "flight.columns"
   ]
  },
  {
   "cell_type": "markdown",
   "id": "fa811b5c",
   "metadata": {},
   "source": [
    "### Check for Missing Values and feature understanding"
   ]
  },
  {
   "cell_type": "code",
   "execution_count": 17,
   "id": "06bd78e2",
   "metadata": {},
   "outputs": [
    {
     "name": "stdout",
     "output_type": "stream",
     "text": [
      "year                     int64\n",
      "month                    int64\n",
      "carrier                 object\n",
      "carrier_name            object\n",
      "airport                 object\n",
      "airport_name            object\n",
      "arr_flights            float64\n",
      "arr_del15              float64\n",
      "carrier_ct             float64\n",
      "weather_ct             float64\n",
      "nas_ct                 float64\n",
      "security_ct            float64\n",
      "late_aircraft_ct       float64\n",
      "arr_cancelled          float64\n",
      "arr_diverted           float64\n",
      "arr_delay              float64\n",
      "carrier_delay          float64\n",
      "weather_delay          float64\n",
      "nas_delay              float64\n",
      "security_delay         float64\n",
      "late_aircraft_delay    float64\n",
      "dtype: object\n",
      "year                     0\n",
      "month                    0\n",
      "carrier                  0\n",
      "carrier_name             0\n",
      "airport                  0\n",
      "airport_name             0\n",
      "arr_flights            240\n",
      "arr_del15              443\n",
      "carrier_ct             240\n",
      "weather_ct             240\n",
      "nas_ct                 240\n",
      "security_ct            240\n",
      "late_aircraft_ct       240\n",
      "arr_cancelled          240\n",
      "arr_diverted           240\n",
      "arr_delay              240\n",
      "carrier_delay          240\n",
      "weather_delay          240\n",
      "nas_delay              240\n",
      "security_delay         240\n",
      "late_aircraft_delay    240\n",
      "dtype: int64\n",
      "Index(['year', 'month', 'carrier', 'carrier_name', 'airport', 'airport_name',\n",
      "       'arr_flights', 'arr_del15', 'carrier_ct', 'weather_ct', 'nas_ct',\n",
      "       'security_ct', 'late_aircraft_ct', 'arr_cancelled', 'arr_diverted',\n",
      "       'arr_delay', 'carrier_delay', 'weather_delay', 'nas_delay',\n",
      "       'security_delay', 'late_aircraft_delay'],\n",
      "      dtype='object')\n"
     ]
    }
   ],
   "source": [
    "# Check data types and missing values\n",
    "print(flight.dtypes)\n",
    "print(flight.isnull().sum())\n",
    "\n",
    "# Check column names\n",
    "print(flight.columns)\n",
    "\n",
    "# 📌 Dataset Column Analysis: Flight Delay Prediction\n",
    "# The dataset contains monthly aggregated flight arrival statistics for different carriers and airports.\n",
    "# Each row = unique (carrier, airport, month, year) combination.\n",
    "\n",
    "# 🔸 Temporal Features:\n",
    "#   - 'year', 'month': Track seasonal trends and yearly changes.\n",
    "\n",
    "# 🔸 Airline Info:\n",
    "#   - 'carrier': IATA code (e.g., 'AA')\n",
    "#   - 'carrier_name': Full airline name (visuals only)\n",
    "\n",
    "# 🔸 Airport Info:\n",
    "#   - 'airport': IATA code (e.g., 'LAX')\n",
    "#   - 'airport_name': Full airport name (visuals only)\n",
    "\n",
    "# 🔸 Flight & Delay Counts:\n",
    "#   - 'arr_flights': Total monthly arriving flights\n",
    "#   - 'arr_del15': Flights delayed >15 mins (used to calculate delay rate)\n",
    "\n",
    "# 🔸 Delay Cause Counts (per flight):\n",
    "#   - 'carrier_ct', 'weather_ct', 'nas_ct', 'security_ct', 'late_aircraft_ct'\n",
    "\n",
    "# 🔸 Cancellation & Diversion:\n",
    "#   - 'arr_cancelled': Canceled flights\n",
    "#   - 'arr_diverted': Diverted flights\n",
    "\n",
    "# 🔸 Delay Duration (in minutes):\n",
    "#   - 'arr_delay': Total delay minutes\n",
    "#   - 'carrier_delay', 'weather_delay', 'nas_delay', 'security_delay', 'late_aircraft_delay'\n",
    "\n",
    "# ✅ Summary:\n",
    "# This dataset supports EDA, feature engineering (e.g., delay ratios), and predictive modeling.\n"
   ]
  },
  {
   "cell_type": "markdown",
   "id": "7c532ce9",
   "metadata": {},
   "source": [
    "### Data Cleaning"
   ]
  },
  {
   "cell_type": "code",
   "execution_count": null,
   "id": "376cd628",
   "metadata": {},
   "outputs": [
    {
     "name": "stdout",
     "output_type": "stream",
     "text": [
      "Duplicate rows: 0\n",
      "\n",
      "Missing values per column:\n",
      "arr_del15              443\n",
      "weather_ct             240\n",
      "carrier_ct             240\n",
      "arr_flights            240\n",
      "security_ct            240\n",
      "weather_delay          240\n",
      "arr_diverted           240\n",
      "arr_delay              240\n",
      "carrier_delay          240\n",
      "security_delay         240\n",
      "nas_ct                 240\n",
      "late_aircraft_ct       240\n",
      "arr_cancelled          240\n",
      "late_aircraft_delay    240\n",
      "nas_delay              240\n",
      "dtype: int64\n",
      "\n",
      "Rows with missing values: 443\n",
      "\n",
      "Remaining missing values: 0\n",
      "New shape after dropping missing values: (171223, 21)\n",
      "\n",
      "Sample of categorical backup (first 5 rows):\n",
      "  carrier       carrier_name airport  \\\n",
      "0      9E  Endeavor Air Inc.     ABE   \n",
      "1      9E  Endeavor Air Inc.     ABY   \n",
      "2      9E  Endeavor Air Inc.     AEX   \n",
      "3      9E  Endeavor Air Inc.     AGS   \n",
      "4      9E  Endeavor Air Inc.     ALB   \n",
      "\n",
      "                                        airport_name  \n",
      "0  Allentown/Bethlehem/Easton, PA: Lehigh Valley ...  \n",
      "1             Albany, GA: Southwest Georgia Regional  \n",
      "2           Alexandria, LA: Alexandria International  \n",
      "3        Augusta, GA: Augusta Regional at Bush Field  \n",
      "4                   Albany, NY: Albany International  \n",
      "\n",
      "Month value distribution:\n",
      "month\n",
      "1     14368\n",
      "2     14129\n",
      "3     14332\n",
      "4     14063\n",
      "5     14044\n",
      "6     14301\n",
      "7     14172\n",
      "8     15666\n",
      "9     14062\n",
      "10    13941\n",
      "11    13998\n",
      "12    14147\n",
      "Name: count, dtype: int64\n",
      "\n",
      "arr_flights and arr_del15 stats:\n",
      "         arr_flights      arr_del15\n",
      "count  171223.000000  171223.000000\n",
      "mean      362.946427      66.434387\n",
      "std       993.408638     179.540694\n",
      "min         1.000000       0.000000\n",
      "25%        50.000000       6.000000\n",
      "50%       101.000000      17.000000\n",
      "75%       250.000000      47.000000\n",
      "max     21977.000000    4176.000000\n",
      "\n",
      "Final DataFrame info:\n",
      "<class 'pandas.core.frame.DataFrame'>\n",
      "Index: 171223 entries, 0 to 171665\n",
      "Data columns (total 21 columns):\n",
      " #   Column               Non-Null Count   Dtype   \n",
      "---  ------               --------------   -----   \n",
      " 0   year                 171223 non-null  int64   \n",
      " 1   month                171223 non-null  int64   \n",
      " 2   carrier              171223 non-null  category\n",
      " 3   carrier_name         171223 non-null  category\n",
      " 4   airport              171223 non-null  category\n",
      " 5   airport_name         171223 non-null  category\n",
      " 6   arr_flights          171223 non-null  int64   \n",
      " 7   arr_del15            171223 non-null  int64   \n",
      " 8   carrier_ct           171223 non-null  float64 \n",
      " 9   weather_ct           171223 non-null  float64 \n",
      " 10  nas_ct               171223 non-null  float64 \n",
      " 11  security_ct          171223 non-null  float64 \n",
      " 12  late_aircraft_ct     171223 non-null  float64 \n",
      " 13  arr_cancelled        171223 non-null  float64 \n",
      " 14  arr_diverted         171223 non-null  float64 \n",
      " 15  arr_delay            171223 non-null  float64 \n",
      " 16  carrier_delay        171223 non-null  float64 \n",
      " 17  weather_delay        171223 non-null  float64 \n",
      " 18  nas_delay            171223 non-null  float64 \n",
      " 19  security_delay       171223 non-null  float64 \n",
      " 20  late_aircraft_delay  171223 non-null  float64 \n",
      "dtypes: category(4), float64(13), int64(4)\n",
      "memory usage: 24.5 MB\n",
      "None\n",
      "Rows with missing values (final): 0\n"
     ]
    }
   ],
   "source": [
    "\n",
    "\n",
    "# 1. Check for duplicates\n",
    "print(\"Duplicate rows:\", flight.duplicated().sum())\n",
    "\n",
    "# 2. Missing values summary\n",
    "missing_summary = flight.isna().sum().sort_values(ascending=False)\n",
    "missing_summary = missing_summary[missing_summary > 0]\n",
    "print(\"\\nMissing values per column:\")\n",
    "print(missing_summary)\n",
    "\n",
    "# 3. Rows with any missing values\n",
    "print(\"\\nRows with missing values:\", flight[flight.isna().sum(axis=1) > 0].shape[0])\n",
    "\n",
    "# 4. Drop missing values\n",
    "flight.dropna(inplace=True)\n",
    "\n",
    "# 5. Confirm all missing values are gone\n",
    "print(\"\\nRemaining missing values:\", flight.isna().sum().sum())\n",
    "print(\"New shape after dropping missing values:\", flight.shape)\n",
    "\n",
    "# 6. Convert key categorical columns to category type\n",
    "cat_cols = ['carrier', 'carrier_name', 'airport', 'airport_name']\n",
    "for col in cat_cols:\n",
    "    flight[col] = flight[col].astype('category')\n",
    "\n",
    "# 7. Backup categorical columns (good practice)\n",
    "flight_categorical = flight[cat_cols].copy()\n",
    "print(\"\\nSample of categorical backup (first 5 rows):\")\n",
    "print(flight_categorical.head())\n",
    "\n",
    "# 8. Check for invalid month values\n",
    "print(\"\\nMonth value distribution:\")\n",
    "print(flight['month'].value_counts().sort_index())\n",
    "\n",
    "# 9. Confirm arr_flights and arr_del15 should be integers\n",
    "print(\"\\narr_flights and arr_del15 stats:\")\n",
    "print(flight[['arr_flights', 'arr_del15']].describe())\n",
    "\n",
    "flight['arr_flights'] = flight['arr_flights'].astype(int)\n",
    "flight['arr_del15'] = flight['arr_del15'].astype(int)\n",
    "\n",
    "# 10. Final structure check\n",
    "print(\"\\nFinal DataFrame info:\")\n",
    "print(flight.info())\n",
    "\n",
    "print(\"Rows with missing values (final):\", flight.isna().any(axis=1).sum())\n"
   ]
  },
  {
   "cell_type": "markdown",
   "id": "15390072",
   "metadata": {},
   "source": [
    "###  Feature Engineering"
   ]
  },
  {
   "cell_type": "code",
   "execution_count": null,
   "id": "99120658",
   "metadata": {},
   "outputs": [
    {
     "data": {
      "text/plain": [
       "Index(['year', 'month', 'carrier', 'carrier_name', 'airport', 'airport_name',\n",
       "       'arr_flights', 'arr_del15', 'carrier_ct', 'weather_ct', 'nas_ct',\n",
       "       'security_ct', 'late_aircraft_ct', 'arr_cancelled', 'arr_diverted',\n",
       "       'arr_delay', 'carrier_delay', 'weather_delay', 'nas_delay',\n",
       "       'security_delay', 'late_aircraft_delay', 'delay_ratio',\n",
       "       'cancellation_rate', 'diversion_rate', 'total_delay',\n",
       "       'carrier_delay_pct', 'weather_delay_pct', 'nas_delay_pct',\n",
       "       'security_delay_pct', 'late_aircraft_delay_pct', 'year_month', 'season',\n",
       "       'carrier_total_flights', 'airport_delay_rate', 'disrupted',\n",
       "       'high_delay_flag', 'mean_delay_per_flight', 'dominant_delay_cause',\n",
       "       'month_delay_rate', 'carrier_vs_airport_ratio', 'season_airport_combo',\n",
       "       'season_airport_delay_rate'],\n",
       "      dtype='object')"
      ]
     },
     "execution_count": 19,
     "metadata": {},
     "output_type": "execute_result"
    }
   ],
   "source": [
    "\n",
    "\n",
    "# Normalize delays by flight volume\n",
    "flight['delay_ratio'] = flight['arr_del15'] / flight['arr_flights']\n",
    "flight['cancellation_rate'] = flight['arr_cancelled'] / flight['arr_flights']\n",
    "flight['diversion_rate'] = flight['arr_diverted'] / flight['arr_flights']\n",
    "\n",
    "# Aggregate total delay and calculate delay percentages\n",
    "flight['total_delay'] = flight[['carrier_delay', 'weather_delay', 'nas_delay', 'security_delay', 'late_aircraft_delay']].sum(axis=1)\n",
    "flight['carrier_delay_pct'] = flight['carrier_delay'] / flight['total_delay']\n",
    "flight['weather_delay_pct'] = flight['weather_delay'] / flight['total_delay']\n",
    "flight['nas_delay_pct'] = flight['nas_delay'] / flight['total_delay']\n",
    "flight['security_delay_pct'] = flight['security_delay'] / flight['total_delay']\n",
    "flight['late_aircraft_delay_pct'] = flight['late_aircraft_delay'] / flight['total_delay']\n",
    "\n",
    "# Add time-related features\n",
    "flight['year_month'] = flight['year'].astype(str) + '-' + flight['month'].astype(str).str.zfill(2)\n",
    "\n",
    "# Seasonal grouping\n",
    "def get_season(month):\n",
    "    if month in [12, 1, 2]:\n",
    "        return 'Winter'\n",
    "    elif month in [3, 4, 5]:\n",
    "        return 'Spring'\n",
    "    elif month in [6, 7, 8]:\n",
    "        return 'Summer'\n",
    "    return 'Fall'\n",
    "\n",
    "flight['season'] = flight['month'].apply(get_season)\n",
    "\n",
    "# Total flights per carrier\n",
    "carrier_flight_counts = flight.groupby('carrier', observed=False)['arr_flights'].sum().to_dict()\n",
    "flight['carrier_total_flights'] = flight['carrier'].map(carrier_flight_counts)\n",
    "\n",
    "# Airport-level delay rates\n",
    "airport_delay_ratio = (\n",
    "    flight.groupby('airport', observed=False)['arr_del15'].sum() /\n",
    "    flight.groupby('airport', observed=False)['arr_flights'].sum()\n",
    ")\n",
    "flight['airport_delay_rate'] = flight['airport'].map(airport_delay_ratio)\n",
    "\n",
    "# Disruption and delay flags\n",
    "flight['disrupted'] = ((flight['arr_cancelled'] > 0) | (flight['arr_diverted'] > 0)).astype(int)\n",
    "flight['high_delay_flag'] = (flight['delay_ratio'] > 0.3).astype(int)\n",
    "\n",
    "# Flight-level delay average\n",
    "flight['mean_delay_per_flight'] = flight['total_delay'] / flight['arr_flights']\n",
    "\n",
    "# Dominant delay cause\n",
    "delay_cols = ['carrier_delay', 'weather_delay', 'nas_delay', 'security_delay', 'late_aircraft_delay']\n",
    "flight['dominant_delay_cause'] = flight[delay_cols].idxmax(axis=1)\n",
    "\n",
    "# Monthly delay trend\n",
    "monthly_delay_rate = (\n",
    "    flight.groupby('month', observed=False)['arr_del15'].sum() /\n",
    "    flight.groupby('month', observed=False)['arr_flights'].sum()\n",
    ")\n",
    "flight['month_delay_rate'] = flight['month'].map(monthly_delay_rate)\n",
    "\n",
    "# Carrier vs. external delay ratio\n",
    "flight['carrier_vs_airport_ratio'] = flight['carrier_delay_pct'] / (\n",
    "    flight['weather_delay_pct'] + flight['nas_delay_pct'] + 1e-6\n",
    ")\n",
    "\n",
    "# Seasonal + Airport interaction\n",
    "flight['season_airport_combo'] = flight['season'].astype(str) + '_' + flight['airport'].astype(str)\n",
    "season_airport_delay = (\n",
    "    flight.groupby('season_airport_combo', observed=False)['arr_del15'].sum() /\n",
    "    flight.groupby('season_airport_combo', observed=False)['arr_flights'].sum()\n",
    ")\n",
    "flight['season_airport_delay_rate'] = flight['season_airport_combo'].map(season_airport_delay)\n",
    "\n",
    "# Save final cleaned and engineered dataset\n",
    "flight.to_csv('cleaned_airline_delay.csv', index=False)\n",
    "flight.columns"
   ]
  },
  {
   "cell_type": "markdown",
   "id": "48cf9363",
   "metadata": {},
   "source": [
    "### EDA and making Plots"
   ]
  },
  {
   "cell_type": "code",
   "execution_count": 20,
   "id": "76873b87",
   "metadata": {},
   "outputs": [
    {
     "name": "stderr",
     "output_type": "stream",
     "text": [
      "C:\\Users\\omar yasser\\AppData\\Local\\Temp\\ipykernel_33396\\3693002115.py:43: FutureWarning:\n",
      "\n",
      "The default of observed=False is deprecated and will be changed to True in a future version of pandas. Pass observed=False to retain current behavior or observed=True to adopt the future default and silence this warning.\n",
      "\n",
      "C:\\Users\\omar yasser\\AppData\\Local\\Temp\\ipykernel_33396\\3693002115.py:66: FutureWarning:\n",
      "\n",
      "The default of observed=False is deprecated and will be changed to True in a future version of pandas. Pass observed=False to retain current behavior or observed=True to adopt the future default and silence this warning.\n",
      "\n"
     ]
    }
   ],
   "source": [
    "import plotly.express as px\n",
    "import pandas as pd\n",
    "\n",
    "# -----------------------------------------------\n",
    "# 1. Monthly Flight Volumes and Delays Trends\n",
    "#    - Shows overall flight counts vs delayed flights (15+ mins)\n",
    "#    - Foundation for understanding seasonality and trends\n",
    "# -----------------------------------------------\n",
    "fig1 = px.line(\n",
    "    flight,\n",
    "    x='year_month',\n",
    "    y=['arr_flights', 'arr_del15'],\n",
    "    title='Monthly Trends: Total Flights vs Delayed Flights (15+ mins)',\n",
    "    labels={'value': 'Count', 'year_month': 'Month'},\n",
    "    markers=True\n",
    ")\n",
    "fig1.update_layout(yaxis_title='Flights / Delays')\n",
    "#fig1.show()\n",
    "\n",
    "# -----------------------------------------------\n",
    "# 1b. Delay Ratio Over Time\n",
    "#     - Normalizes delays by total flights for proportional insights\n",
    "# -----------------------------------------------\n",
    "flight['delay_ratio'] = flight['arr_del15'] / flight['arr_flights']\n",
    "fig1b = px.line(\n",
    "    flight,\n",
    "    x='year_month',\n",
    "    y='delay_ratio',\n",
    "    title='Delay Ratio Over Time (Delays / Total Flights)',\n",
    "    labels={'delay_ratio': 'Delay Ratio', 'year_month': 'Month'},\n",
    "    markers=True\n",
    ")\n",
    "#fig1b.show()\n",
    "\n",
    "# -----------------------------------------------\n",
    "# 2. Carrier Delays During Peak Travel Months\n",
    "#    - Identifies carriers with highest average delays during busiest months (Jun, Jul, Aug, Dec)\n",
    "# -----------------------------------------------\n",
    "peak_months = [6, 7, 8, 12]\n",
    "peak_flights = flight[flight['month'].isin(peak_months)]\n",
    "\n",
    "carrier_peak_delay = (\n",
    "    peak_flights.groupby('carrier_name')['mean_delay_per_flight']\n",
    "    .mean()\n",
    "    .reset_index()\n",
    "    .sort_values(by='mean_delay_per_flight', ascending=False)\n",
    ")\n",
    "\n",
    "fig2 = px.bar(\n",
    "    carrier_peak_delay,\n",
    "    x='carrier_name',\n",
    "    y='mean_delay_per_flight',\n",
    "    title='Carrier Delays During Peak Travel Months',\n",
    "    labels={'carrier_name': 'Carrier', 'mean_delay_per_flight': 'Avg Delay per Flight'},\n",
    "    color='mean_delay_per_flight',\n",
    "    color_continuous_scale='Reds'\n",
    ")\n",
    "fig2.update_xaxes(tickangle=45)\n",
    "#fig2.show()\n",
    "\n",
    "# -----------------------------------------------\n",
    "# 3. Top 10 Airports with Highest Delays During Peak Months\n",
    "#    - Highlights airports contributing most to delays during peak season\n",
    "# -----------------------------------------------\n",
    "airport_peak_delay = (\n",
    "    peak_flights.groupby('airport_name')['mean_delay_per_flight']\n",
    "    .mean()\n",
    "    .reset_index()\n",
    "    .sort_values(by='mean_delay_per_flight', ascending=False)\n",
    "    .head(10)\n",
    ")\n",
    "\n",
    "fig3 = px.bar(\n",
    "    airport_peak_delay,\n",
    "    x='mean_delay_per_flight',\n",
    "    y='airport_name',\n",
    "    orientation='h',\n",
    "    title='Top 10 Airports with Highest Delays During Peak Months',\n",
    "    labels={'airport_name': 'Airport', 'mean_delay_per_flight': 'Avg Delay per Flight'},\n",
    "    color='mean_delay_per_flight',\n",
    "    color_continuous_scale='Oranges'\n",
    ")\n",
    "fig3.update_yaxes(autorange=\"reversed\")  # For top-down ordering\n",
    "#fig3.show()\n",
    "\n",
    "# -----------------------------------------------\n",
    "# 4. Proportion of Delay Causes in Peak Travel Months\n",
    "#    - Visualizes contribution of different delay causes by total delay minutes\n",
    "# -----------------------------------------------\n",
    "delay_causes = (\n",
    "    peak_flights[\n",
    "        ['carrier_delay', 'weather_delay', 'nas_delay', 'security_delay', 'late_aircraft_delay']\n",
    "    ]\n",
    "    .sum()\n",
    "    .reset_index()\n",
    ")\n",
    "delay_causes.columns = ['Delay Cause', 'Total Delay (mins)']\n",
    "\n",
    "fig4 = px.pie(\n",
    "    delay_causes,\n",
    "    values='Total Delay (mins)',\n",
    "    names='Delay Cause',\n",
    "    title='Proportion of Delay Causes in Peak Travel Months',\n",
    "    color_discrete_sequence=px.colors.sequential.RdBu\n",
    ")\n",
    "fig4.update_traces(textinfo='percent+label', pull=[0.05]*len(delay_causes))  # Slight slice pull\n",
    "#fig4.show()\n",
    "\n",
    "# -----------------------------------------------\n",
    "# 5. Average Delay Percentage by Cause\n",
    "#    - Shows average delay impact (%) of each cause across all flights\n",
    "# -----------------------------------------------\n",
    "avg_pct_delay = flight[['carrier_delay_pct', 'weather_delay_pct', 'nas_delay_pct',\n",
    "                        'security_delay_pct', 'late_aircraft_delay_pct']].mean()\n",
    "\n",
    "fig5 = px.bar(\n",
    "    x=avg_pct_delay.index,\n",
    "    y=avg_pct_delay.values,\n",
    "    title='Average Delay Percentage by Cause',\n",
    "    labels={'x': 'Cause', 'y': 'Average Percentage'}\n",
    ")\n",
    "#fig5.show()\n",
    "\n",
    "# -----------------------------------------------\n",
    "# 6. Dominant Delay Causes Count\n",
    "#    - Counts flights by their main delay cause to understand prevalence\n",
    "# -----------------------------------------------\n",
    "dominant_counts = flight['dominant_delay_cause'].value_counts().reset_index()\n",
    "dominant_counts.columns = ['cause', 'count']\n",
    "\n",
    "fig6 = px.bar(\n",
    "    dominant_counts,\n",
    "    x='cause',\n",
    "    y='count',\n",
    "    title='Dominant Delay Causes Count',\n",
    "    labels={'cause': 'Dominant Cause', 'count': 'Number of Flights'}\n",
    ")\n",
    "#fig6.show()\n",
    "\n",
    "# -----------------------------------------------\n",
    "# 7. Cancellation Rate Over Time\n",
    "#    - Tracks cancellations as a key disruption metric over months\n",
    "# -----------------------------------------------\n",
    "monthly_cancel = flight.groupby('year_month')['cancellation_rate'].mean().reset_index()\n",
    "\n",
    "fig7 = px.line(\n",
    "    monthly_cancel,\n",
    "    x='year_month',\n",
    "    y='cancellation_rate',\n",
    "    title='Cancellation Rate Over Time',\n",
    "    markers=True\n",
    ")\n",
    "#fig7.show()\n",
    "\n",
    "# -----------------------------------------------\n",
    "# 8. Diversion Rate Over Time\n",
    "#    - Tracks flight diversions, another important disruption metric over months\n",
    "# -----------------------------------------------\n",
    "monthly_divert = flight.groupby('year_month')['diversion_rate'].mean().reset_index()\n",
    "\n",
    "fig8 = px.line(\n",
    "    monthly_divert,\n",
    "    x='year_month',\n",
    "    y='diversion_rate',\n",
    "    title='Diversion Rate Over Time',\n",
    "    markers=True\n",
    ")\n",
    "#fig8.show()\n"
   ]
  },
  {
   "cell_type": "markdown",
   "id": "9fb15d3a",
   "metadata": {},
   "source": [
    "### EDA continue"
   ]
  },
  {
   "cell_type": "code",
   "execution_count": 21,
   "id": "7691c59b",
   "metadata": {},
   "outputs": [
    {
     "name": "stderr",
     "output_type": "stream",
     "text": [
      "C:\\Users\\omar yasser\\AppData\\Local\\Temp\\ipykernel_33396\\786363326.py:91: FutureWarning:\n",
      "\n",
      "The default of observed=False is deprecated and will be changed to True in a future version of pandas. Pass observed=False to retain current behavior or observed=True to adopt the future default and silence this warning.\n",
      "\n"
     ]
    }
   ],
   "source": [
    "import plotly.express as px\n",
    "\n",
    "# --- Seasonal Delay Trends Analysis ---\n",
    "\n",
    "# Insight 1: Average Delay per Flight by Season\n",
    "# Let's start by looking at the overall average delay per flight across the four seasons.\n",
    "# This sets the baseline for understanding how delays fluctuate seasonally.\n",
    "fig_avg_delay_season = px.bar(\n",
    "    flight.groupby('season')['mean_delay_per_flight'].mean().reset_index(),\n",
    "    x='season',\n",
    "    y='mean_delay_per_flight',\n",
    "    title='Average Delay per Flight by Season',\n",
    "    labels={'season': 'Season', 'mean_delay_per_flight': 'Avg Delay per Flight'},\n",
    "    color='season',\n",
    "    color_discrete_sequence=px.colors.qualitative.Set2\n",
    ")\n",
    "#fig_avg_delay_season.show()\n",
    "\n",
    "\n",
    "# Insight 2: Total Flights Scheduled per Season\n",
    "# Next, let's see the total number of flights each season.\n",
    "# Understanding flight volume helps contextualize delay impacts.\n",
    "fig_total_flights_season = px.bar(\n",
    "    flight.groupby('season')['arr_flights'].sum().reset_index(),\n",
    "    x='season',\n",
    "    y='arr_flights',\n",
    "    title='Total Flights per Season',\n",
    "    labels={'season': 'Season', 'arr_flights': 'Total Flights'},\n",
    "    color='season',\n",
    "    color_discrete_sequence=px.colors.qualitative.Set3\n",
    ")\n",
    "#fig_total_flights_season.show()\n",
    "\n",
    "\n",
    "# Insight 3: Carrier Performance by Season (Delay Distribution)\n",
    "# Now, we break down delays by carrier and season to identify which carriers contribute most to seasonal delays.\n",
    "# The boxplot shows distribution and variability, highlighting outliers and consistency.\n",
    "fig_carrier_delay_season = px.box(\n",
    "    flight,\n",
    "    x='season',\n",
    "    y='mean_delay_per_flight',\n",
    "    color='carrier_name',\n",
    "    title='Average Delay per Flight by Season and Carrier',\n",
    "    labels={'season': 'Season', 'mean_delay_per_flight': 'Avg Delay per Flight', 'carrier_name': 'Carrier'},\n",
    "    points='all'  # Shows all data points for granular insight\n",
    ")\n",
    "fig_carrier_delay_season.update_layout(boxmode='group')\n",
    "#fig_carrier_delay_season.show()\n",
    "\n",
    "\n",
    "# Insight 4: Main Delay Causes by Season (Stacked Bar Chart)\n",
    "# Let's examine the causes behind the delays each season.\n",
    "# This stacked bar chart helps us understand which delay factors dominate per season.\n",
    "delay_cols = ['carrier_delay', 'weather_delay', 'nas_delay', 'security_delay', 'late_aircraft_delay']\n",
    "seasonal_delay_causes = flight.groupby('season')[delay_cols].sum().reset_index()\n",
    "seasonal_delay_causes_melted = seasonal_delay_causes.melt(\n",
    "    id_vars='season', var_name='Delay Cause', value_name='Total Delay'\n",
    ")\n",
    "\n",
    "fig_delay_causes_season = px.bar(\n",
    "    seasonal_delay_causes_melted,\n",
    "    x='season',\n",
    "    y='Total Delay',\n",
    "    color='Delay Cause',\n",
    "    title='Distribution of Delay Causes by Season',\n",
    "    barmode='stack',\n",
    "    color_discrete_sequence=px.colors.qualitative.Pastel\n",
    ")\n",
    "#fig_delay_causes_season.show()\n",
    "\n",
    "\n",
    "# Insight 5: Flight Disruption Rate by Season (Delays + Cancellations)\n",
    "# We then measure overall flight disruption rates (including cancellations) by season.\n",
    "# This tells us how frequently flights are disrupted during different times of the year.\n",
    "fig_disruption_rate_season = px.bar(\n",
    "    flight.groupby('season')['disrupted'].mean().reset_index(),\n",
    "    x='season',\n",
    "    y='disrupted',\n",
    "    title='Flight Disruption Rate by Season',\n",
    "    labels={'season': 'Season', 'disrupted': 'Disruption Rate'},\n",
    "    color='season',\n",
    "    color_discrete_sequence=px.colors.sequential.Viridis\n",
    ")\n",
    "#fig_disruption_rate_season.show()\n",
    "\n",
    "\n",
    "# Insight 6: Top 5 Airports with Highest Delay Rates per Season\n",
    "# Finally, we identify the airports with the worst delay rates for each season.\n",
    "# This highlights potential infrastructure or operational issues impacting delays regionally.\n",
    "top_season_airport = (\n",
    "    flight.groupby(['season', 'airport_name'])['season_airport_delay_rate']\n",
    "    .mean()\n",
    "    .reset_index()\n",
    ")\n",
    "top_season_airport = (\n",
    "    top_season_airport\n",
    "    .sort_values('season_airport_delay_rate', ascending=False)\n",
    "    .groupby('season')\n",
    "    .head(5)\n",
    ")\n",
    "\n",
    "fig_top_airports_season = px.bar(\n",
    "    top_season_airport,\n",
    "    x='airport_name',\n",
    "    y='season_airport_delay_rate',\n",
    "    color='season',\n",
    "    title='Top 5 Airports with Highest Seasonal Delay Rates',\n",
    "    labels={'airport_name': 'Airport', 'season_airport_delay_rate': 'Delay Rate'},\n",
    "    barmode='group'\n",
    ")\n",
    "#fig_top_airports_season.update_xaxes(tickangle=45)\n",
    "#fig_top_airports_season.show()\n"
   ]
  },
  {
   "cell_type": "markdown",
   "id": "e77b9793",
   "metadata": {},
   "source": [
    "### EDA continue"
   ]
  },
  {
   "cell_type": "code",
   "execution_count": 22,
   "id": "ea6c7349",
   "metadata": {},
   "outputs": [
    {
     "name": "stderr",
     "output_type": "stream",
     "text": [
      "C:\\Users\\omar yasser\\AppData\\Local\\Temp\\ipykernel_33396\\1460230262.py:9: FutureWarning:\n",
      "\n",
      "The default of observed=False is deprecated and will be changed to True in a future version of pandas. Pass observed=False to retain current behavior or observed=True to adopt the future default and silence this warning.\n",
      "\n",
      "C:\\Users\\omar yasser\\AppData\\Local\\Temp\\ipykernel_33396\\1460230262.py:19: FutureWarning:\n",
      "\n",
      "The default of observed=False is deprecated and will be changed to True in a future version of pandas. Pass observed=False to retain current behavior or observed=True to adopt the future default and silence this warning.\n",
      "\n",
      "C:\\Users\\omar yasser\\AppData\\Local\\Temp\\ipykernel_33396\\1460230262.py:38: FutureWarning:\n",
      "\n",
      "The default of observed=False is deprecated and will be changed to True in a future version of pandas. Pass observed=False to retain current behavior or observed=True to adopt the future default and silence this warning.\n",
      "\n",
      "C:\\Users\\omar yasser\\AppData\\Local\\Temp\\ipykernel_33396\\1460230262.py:49: FutureWarning:\n",
      "\n",
      "The default of observed=False is deprecated and will be changed to True in a future version of pandas. Pass observed=False to retain current behavior or observed=True to adopt the future default and silence this warning.\n",
      "\n",
      "C:\\Users\\omar yasser\\AppData\\Local\\Temp\\ipykernel_33396\\1460230262.py:62: FutureWarning:\n",
      "\n",
      "The default of observed=False is deprecated and will be changed to True in a future version of pandas. Pass observed=False to retain current behavior or observed=True to adopt the future default and silence this warning.\n",
      "\n",
      "C:\\Users\\omar yasser\\AppData\\Local\\Temp\\ipykernel_33396\\1460230262.py:63: FutureWarning:\n",
      "\n",
      "The default of observed=False is deprecated and will be changed to True in a future version of pandas. Pass observed=False to retain current behavior or observed=True to adopt the future default and silence this warning.\n",
      "\n",
      "C:\\Users\\omar yasser\\AppData\\Local\\Temp\\ipykernel_33396\\1460230262.py:85: FutureWarning:\n",
      "\n",
      "The default of observed=False is deprecated and will be changed to True in a future version of pandas. Pass observed=False to retain current behavior or observed=True to adopt the future default and silence this warning.\n",
      "\n",
      "C:\\Users\\omar yasser\\AppData\\Local\\Temp\\ipykernel_33396\\1460230262.py:108: FutureWarning:\n",
      "\n",
      "The default of observed=False is deprecated and will be changed to True in a future version of pandas. Pass observed=False to retain current behavior or observed=True to adopt the future default and silence this warning.\n",
      "\n"
     ]
    }
   ],
   "source": [
    "import pandas as pd\n",
    "import numpy as np\n",
    "import plotly.express as px\n",
    "import plotly.graph_objects as go\n",
    "\n",
    "# === Group 3: Carrier-Focused Flight Delay Analysis (Reduced) ===\n",
    "\n",
    "# 1. Average Delay Ratio per Carrier\n",
    "carrier_delay_ratio = flight.groupby('carrier_name')['delay_ratio'].mean().reset_index()\n",
    "carrier_delay_ratio = carrier_delay_ratio.sort_values(by='delay_ratio', ascending=False)\n",
    "\n",
    "fig_avg_delay_ratio = px.bar(carrier_delay_ratio, x='carrier_name', y='delay_ratio',\n",
    "                            title='Average Delay Ratio per Carrier',\n",
    "                            labels={'carrier_name': 'Carrier', 'delay_ratio': 'Average Delay Ratio'})\n",
    "#fig_avg_delay_ratio.update_xaxes(tickangle=45)\n",
    "#fig_avg_delay_ratio.show()\n",
    "\n",
    "# 2. Heatmap: Delay Ratio by Carrier and Flight Volume Bin\n",
    "carrier_stats = flight.groupby('carrier_name').agg({\n",
    "    'arr_flights': 'sum',\n",
    "    'delay_ratio': 'mean'\n",
    "}).reset_index()\n",
    "\n",
    "bins = [0, 10000, 20000, 30000, 40000, 50000, np.inf]\n",
    "labels = ['0-10k', '10k-20k', '20k-30k', '30k-40k', '40k-50k', '50k+']\n",
    "carrier_stats['flights_bin'] = pd.cut(carrier_stats['arr_flights'], bins=bins, labels=labels)\n",
    "\n",
    "heatmap_data = carrier_stats.pivot(index='flights_bin', columns='carrier_name', values='delay_ratio')\n",
    "\n",
    "fig_heatmap = px.imshow(heatmap_data,\n",
    "                        labels=dict(x=\"Carrier\", y=\"Total Flights Bin\", color=\"Mean Delay Ratio\"),\n",
    "                        x=heatmap_data.columns,\n",
    "                        y=heatmap_data.index,\n",
    "                        title=\"Heatmap of Mean Delay Ratio by Carrier and Flight Volume Bin\")\n",
    "#fig_heatmap.show()\n",
    "\n",
    "# 3. Carrier Delay Ratio Across Seasons\n",
    "carrier_season = flight.groupby(['carrier_name', 'season'])['delay_ratio'].mean().reset_index()\n",
    "\n",
    "fig_season = px.bar(carrier_season, x='season', y='delay_ratio',\n",
    "                    color='carrier_name', barmode='group',\n",
    "                    title='Carrier Delay Ratio Across Seasons',\n",
    "                    labels={'delay_ratio': 'Average Delay Ratio', 'season': 'Season', 'carrier_name': 'Carrier'})\n",
    "#fig_season.show()\n",
    "\n",
    "# 4. Dominant Delay Cause Frequency Across Carriers (Histogram)\n",
    "delay_cols = ['carrier_delay', 'weather_delay', 'nas_delay', 'security_delay', 'late_aircraft_delay']\n",
    "\n",
    "carrier_delays = flight.groupby('carrier_name')[delay_cols].mean()\n",
    "carrier_delays['dominant_cause'] = carrier_delays.idxmax(axis=1)\n",
    "carrier_dominant = carrier_delays['dominant_cause'].reset_index()\n",
    "\n",
    "dominant_cause_counts = carrier_dominant['dominant_cause'].value_counts().reset_index()\n",
    "dominant_cause_counts.columns = ['Delay Cause', 'Number of Carriers']\n",
    "\n",
    "fig_dominant_cause_hist = px.histogram(dominant_cause_counts, x='Delay Cause', y='Number of Carriers',\n",
    "                                      title='Dominant Delay Cause Frequency Across Carriers',\n",
    "                                      labels={'Delay Cause': 'Dominant Delay Cause', 'Number of Carriers': 'Number of Carriers'})\n",
    "#fig_dominant_cause_hist.show()\n",
    "\n",
    "# 5. Delay Causes Breakdown by Top 10 Carriers (Total Delay in minutes)\n",
    "top_carriers = flight.groupby('carrier_name')['arr_flights'].sum().nlargest(10).index\n",
    "carrier_delay_causes = flight[flight['carrier_name'].isin(top_carriers)].groupby('carrier_name')[delay_cols].sum().reset_index()\n",
    "\n",
    "carrier_delay_melted = carrier_delay_causes.melt(\n",
    "    id_vars='carrier_name',\n",
    "    value_vars=delay_cols,\n",
    "    var_name='Delay Cause', value_name='Total Delay'\n",
    ")\n",
    "\n",
    "fig_delay_breakdown_top10 = px.bar(\n",
    "    carrier_delay_melted,\n",
    "    x='carrier_name',\n",
    "    y='Total Delay',\n",
    "    color='Delay Cause',\n",
    "    title='Delay Causes Breakdown by Top 10 Carriers',\n",
    "    labels={'carrier_name': 'Carrier', 'Total Delay': 'Total Delay (minutes)'},\n",
    "    text_auto=True\n",
    ")\n",
    "#fig_delay_breakdown_top10.update_xaxes(tickangle=45)\n",
    "#fig_delay_breakdown_top10.show()\n",
    "\n",
    "# 6. Average Delay Minutes per Flight by Cause and Carrier (Normalized)\n",
    "delay_per_flight = carrier_delay_causes.copy()\n",
    "delay_per_flight['total_flights'] = flight.groupby('carrier_name')['arr_flights'].sum().reindex(delay_per_flight['carrier_name']).values\n",
    "\n",
    "for cause in delay_cols:\n",
    "    delay_per_flight[cause] = delay_per_flight[cause] / delay_per_flight['total_flights']\n",
    "\n",
    "delay_per_flight_long = delay_per_flight.melt(\n",
    "    id_vars='carrier_name',\n",
    "    value_vars=delay_cols,\n",
    "    var_name='Delay Cause', value_name='Avg Delay per Flight (min)'\n",
    ")\n",
    "\n",
    "fig_avg_delay_per_flight = px.bar(\n",
    "    delay_per_flight_long,\n",
    "    x='carrier_name',\n",
    "    y='Avg Delay per Flight (min)',\n",
    "    color='Delay Cause',\n",
    "    title='Average Delay Minutes per Flight by Cause and Carrier',\n",
    "    labels={'carrier_name': 'Carrier', 'Avg Delay per Flight (min)': 'Avg Delay (minutes)', 'Delay Cause': 'Cause of Delay'}\n",
    ")\n",
    "#fig_avg_delay_per_flight.update_xaxes(tickangle=45)\n",
    "#fig_avg_delay_per_flight.show()\n",
    "\n",
    "# 7. Correlation of Delay Causes vs Disruption Rate per Carrier\n",
    "carrier_summary = flight.groupby('carrier_name').agg({\n",
    "    'disrupted': 'mean',\n",
    "    **{cause: 'sum' for cause in delay_cols}\n",
    "}).reset_index()\n",
    "\n",
    "fig_correlation = go.Figure()\n",
    "for cause in delay_cols:\n",
    "    fig_correlation.add_trace(go.Scatter(\n",
    "        x=carrier_summary[cause],\n",
    "        y=carrier_summary['disrupted'],\n",
    "        mode='markers',\n",
    "        name=cause.replace('_', ' ').title(),\n",
    "        text=carrier_summary['carrier_name']\n",
    "    ))\n",
    "\n",
    "#fig_correlation.update_layout(\n",
    "#    title='Correlation of Delay Causes vs Disruption Rate per Carrier',\n",
    "#    xaxis_title='Total Delay Minutes by Cause',\n",
    "#    yaxis_title='Disruption Rate',\n",
    "#    legend_title='Delay Cause',\n",
    "#    hovermode='closest'\n",
    "#)\n",
    "#fig_correlation.show()\n"
   ]
  },
  {
   "cell_type": "markdown",
   "id": "6cf3fb89",
   "metadata": {},
   "source": [
    "### EDA continue"
   ]
  },
  {
   "cell_type": "code",
   "execution_count": 23,
   "id": "e60152d7",
   "metadata": {},
   "outputs": [
    {
     "name": "stderr",
     "output_type": "stream",
     "text": [
      "C:\\Users\\omar yasser\\AppData\\Local\\Temp\\ipykernel_33396\\2027291451.py:6: FutureWarning:\n",
      "\n",
      "The default of observed=False is deprecated and will be changed to True in a future version of pandas. Pass observed=False to retain current behavior or observed=True to adopt the future default and silence this warning.\n",
      "\n",
      "C:\\Users\\omar yasser\\AppData\\Local\\Temp\\ipykernel_33396\\2027291451.py:17: FutureWarning:\n",
      "\n",
      "The default of observed=False is deprecated and will be changed to True in a future version of pandas. Pass observed=False to retain current behavior or observed=True to adopt the future default and silence this warning.\n",
      "\n"
     ]
    },
    {
     "data": {
      "application/vnd.plotly.v1+json": {
       "config": {
        "plotlyServerURL": "https://plot.ly"
       },
       "data": [
        {
         "alignmentgroup": "True",
         "hovertemplate": "Metric=mean_delay_per_flight<br>Airport=%{x}<br>Minutes / Rate=%{y}<extra></extra>",
         "legendgroup": "mean_delay_per_flight",
         "marker": {
          "color": "#636efa",
          "pattern": {
           "shape": ""
          }
         },
         "name": "mean_delay_per_flight",
         "offsetgroup": "mean_delay_per_flight",
         "orientation": "v",
         "showlegend": true,
         "textposition": "auto",
         "type": "bar",
         "x": [
          "Atlanta, G",
          "Charlotte,",
          "Chicago, I",
          "Dallas/For",
          "Denver, CO",
          "Houston, T",
          "Los Angele",
          "Phoenix, A",
          "San Franci",
          "Seattle, W"
         ],
         "xaxis": "x",
         "y": {
          "bdata": "eNEoKH6jJ0DGnAoK/k8oQNKELAkIayxAAU3QGebyKkDfR/KuhtonQLLyg7WZwydACl7YUUhFJ0DsU0NZOcMmQGD2/UFCzCxAeViR9CaSJUA=",
          "dtype": "f8"
         },
         "yaxis": "y"
        },
        {
         "alignmentgroup": "True",
         "hovertemplate": "Metric=airport_delay_rate<br>Airport=%{x}<br>Minutes / Rate=%{y}<extra></extra>",
         "legendgroup": "airport_delay_rate",
         "marker": {
          "color": "#EF553B",
          "pattern": {
           "shape": ""
          }
         },
         "name": "airport_delay_rate",
         "offsetgroup": "airport_delay_rate",
         "orientation": "v",
         "showlegend": true,
         "textposition": "auto",
         "type": "bar",
         "x": [
          "Atlanta, G",
          "Charlotte,",
          "Chicago, I",
          "Dallas/For",
          "Denver, CO",
          "Houston, T",
          "Los Angele",
          "Phoenix, A",
          "San Franci",
          "Seattle, W"
         ],
         "xaxis": "x",
         "y": {
          "bdata": "ofexIzhLwj8gbBTbIGbDP136Gn2Xusg/P1C8ZtrLxz8YdHCrYi3HP7PQfDRXDsY/Uw0ysHo5yT+P7lJq67LFP22EJzWeeM0//it6XHNMxT8=",
          "dtype": "f8"
         },
         "yaxis": "y"
        }
       ],
       "layout": {
        "barmode": "group",
        "legend": {
         "title": {
          "text": "Metric"
         },
         "tracegroupgap": 0
        },
        "template": {
         "data": {
          "bar": [
           {
            "error_x": {
             "color": "#2a3f5f"
            },
            "error_y": {
             "color": "#2a3f5f"
            },
            "marker": {
             "line": {
              "color": "#E5ECF6",
              "width": 0.5
             },
             "pattern": {
              "fillmode": "overlay",
              "size": 10,
              "solidity": 0.2
             }
            },
            "type": "bar"
           }
          ],
          "barpolar": [
           {
            "marker": {
             "line": {
              "color": "#E5ECF6",
              "width": 0.5
             },
             "pattern": {
              "fillmode": "overlay",
              "size": 10,
              "solidity": 0.2
             }
            },
            "type": "barpolar"
           }
          ],
          "carpet": [
           {
            "aaxis": {
             "endlinecolor": "#2a3f5f",
             "gridcolor": "white",
             "linecolor": "white",
             "minorgridcolor": "white",
             "startlinecolor": "#2a3f5f"
            },
            "baxis": {
             "endlinecolor": "#2a3f5f",
             "gridcolor": "white",
             "linecolor": "white",
             "minorgridcolor": "white",
             "startlinecolor": "#2a3f5f"
            },
            "type": "carpet"
           }
          ],
          "choropleth": [
           {
            "colorbar": {
             "outlinewidth": 0,
             "ticks": ""
            },
            "type": "choropleth"
           }
          ],
          "contour": [
           {
            "colorbar": {
             "outlinewidth": 0,
             "ticks": ""
            },
            "colorscale": [
             [
              0,
              "#0d0887"
             ],
             [
              0.1111111111111111,
              "#46039f"
             ],
             [
              0.2222222222222222,
              "#7201a8"
             ],
             [
              0.3333333333333333,
              "#9c179e"
             ],
             [
              0.4444444444444444,
              "#bd3786"
             ],
             [
              0.5555555555555556,
              "#d8576b"
             ],
             [
              0.6666666666666666,
              "#ed7953"
             ],
             [
              0.7777777777777778,
              "#fb9f3a"
             ],
             [
              0.8888888888888888,
              "#fdca26"
             ],
             [
              1,
              "#f0f921"
             ]
            ],
            "type": "contour"
           }
          ],
          "contourcarpet": [
           {
            "colorbar": {
             "outlinewidth": 0,
             "ticks": ""
            },
            "type": "contourcarpet"
           }
          ],
          "heatmap": [
           {
            "colorbar": {
             "outlinewidth": 0,
             "ticks": ""
            },
            "colorscale": [
             [
              0,
              "#0d0887"
             ],
             [
              0.1111111111111111,
              "#46039f"
             ],
             [
              0.2222222222222222,
              "#7201a8"
             ],
             [
              0.3333333333333333,
              "#9c179e"
             ],
             [
              0.4444444444444444,
              "#bd3786"
             ],
             [
              0.5555555555555556,
              "#d8576b"
             ],
             [
              0.6666666666666666,
              "#ed7953"
             ],
             [
              0.7777777777777778,
              "#fb9f3a"
             ],
             [
              0.8888888888888888,
              "#fdca26"
             ],
             [
              1,
              "#f0f921"
             ]
            ],
            "type": "heatmap"
           }
          ],
          "histogram": [
           {
            "marker": {
             "pattern": {
              "fillmode": "overlay",
              "size": 10,
              "solidity": 0.2
             }
            },
            "type": "histogram"
           }
          ],
          "histogram2d": [
           {
            "colorbar": {
             "outlinewidth": 0,
             "ticks": ""
            },
            "colorscale": [
             [
              0,
              "#0d0887"
             ],
             [
              0.1111111111111111,
              "#46039f"
             ],
             [
              0.2222222222222222,
              "#7201a8"
             ],
             [
              0.3333333333333333,
              "#9c179e"
             ],
             [
              0.4444444444444444,
              "#bd3786"
             ],
             [
              0.5555555555555556,
              "#d8576b"
             ],
             [
              0.6666666666666666,
              "#ed7953"
             ],
             [
              0.7777777777777778,
              "#fb9f3a"
             ],
             [
              0.8888888888888888,
              "#fdca26"
             ],
             [
              1,
              "#f0f921"
             ]
            ],
            "type": "histogram2d"
           }
          ],
          "histogram2dcontour": [
           {
            "colorbar": {
             "outlinewidth": 0,
             "ticks": ""
            },
            "colorscale": [
             [
              0,
              "#0d0887"
             ],
             [
              0.1111111111111111,
              "#46039f"
             ],
             [
              0.2222222222222222,
              "#7201a8"
             ],
             [
              0.3333333333333333,
              "#9c179e"
             ],
             [
              0.4444444444444444,
              "#bd3786"
             ],
             [
              0.5555555555555556,
              "#d8576b"
             ],
             [
              0.6666666666666666,
              "#ed7953"
             ],
             [
              0.7777777777777778,
              "#fb9f3a"
             ],
             [
              0.8888888888888888,
              "#fdca26"
             ],
             [
              1,
              "#f0f921"
             ]
            ],
            "type": "histogram2dcontour"
           }
          ],
          "mesh3d": [
           {
            "colorbar": {
             "outlinewidth": 0,
             "ticks": ""
            },
            "type": "mesh3d"
           }
          ],
          "parcoords": [
           {
            "line": {
             "colorbar": {
              "outlinewidth": 0,
              "ticks": ""
             }
            },
            "type": "parcoords"
           }
          ],
          "pie": [
           {
            "automargin": true,
            "type": "pie"
           }
          ],
          "scatter": [
           {
            "fillpattern": {
             "fillmode": "overlay",
             "size": 10,
             "solidity": 0.2
            },
            "type": "scatter"
           }
          ],
          "scatter3d": [
           {
            "line": {
             "colorbar": {
              "outlinewidth": 0,
              "ticks": ""
             }
            },
            "marker": {
             "colorbar": {
              "outlinewidth": 0,
              "ticks": ""
             }
            },
            "type": "scatter3d"
           }
          ],
          "scattercarpet": [
           {
            "marker": {
             "colorbar": {
              "outlinewidth": 0,
              "ticks": ""
             }
            },
            "type": "scattercarpet"
           }
          ],
          "scattergeo": [
           {
            "marker": {
             "colorbar": {
              "outlinewidth": 0,
              "ticks": ""
             }
            },
            "type": "scattergeo"
           }
          ],
          "scattergl": [
           {
            "marker": {
             "colorbar": {
              "outlinewidth": 0,
              "ticks": ""
             }
            },
            "type": "scattergl"
           }
          ],
          "scattermap": [
           {
            "marker": {
             "colorbar": {
              "outlinewidth": 0,
              "ticks": ""
             }
            },
            "type": "scattermap"
           }
          ],
          "scattermapbox": [
           {
            "marker": {
             "colorbar": {
              "outlinewidth": 0,
              "ticks": ""
             }
            },
            "type": "scattermapbox"
           }
          ],
          "scatterpolar": [
           {
            "marker": {
             "colorbar": {
              "outlinewidth": 0,
              "ticks": ""
             }
            },
            "type": "scatterpolar"
           }
          ],
          "scatterpolargl": [
           {
            "marker": {
             "colorbar": {
              "outlinewidth": 0,
              "ticks": ""
             }
            },
            "type": "scatterpolargl"
           }
          ],
          "scatterternary": [
           {
            "marker": {
             "colorbar": {
              "outlinewidth": 0,
              "ticks": ""
             }
            },
            "type": "scatterternary"
           }
          ],
          "surface": [
           {
            "colorbar": {
             "outlinewidth": 0,
             "ticks": ""
            },
            "colorscale": [
             [
              0,
              "#0d0887"
             ],
             [
              0.1111111111111111,
              "#46039f"
             ],
             [
              0.2222222222222222,
              "#7201a8"
             ],
             [
              0.3333333333333333,
              "#9c179e"
             ],
             [
              0.4444444444444444,
              "#bd3786"
             ],
             [
              0.5555555555555556,
              "#d8576b"
             ],
             [
              0.6666666666666666,
              "#ed7953"
             ],
             [
              0.7777777777777778,
              "#fb9f3a"
             ],
             [
              0.8888888888888888,
              "#fdca26"
             ],
             [
              1,
              "#f0f921"
             ]
            ],
            "type": "surface"
           }
          ],
          "table": [
           {
            "cells": {
             "fill": {
              "color": "#EBF0F8"
             },
             "line": {
              "color": "white"
             }
            },
            "header": {
             "fill": {
              "color": "#C8D4E3"
             },
             "line": {
              "color": "white"
             }
            },
            "type": "table"
           }
          ]
         },
         "layout": {
          "annotationdefaults": {
           "arrowcolor": "#2a3f5f",
           "arrowhead": 0,
           "arrowwidth": 1
          },
          "autotypenumbers": "strict",
          "coloraxis": {
           "colorbar": {
            "outlinewidth": 0,
            "ticks": ""
           }
          },
          "colorscale": {
           "diverging": [
            [
             0,
             "#8e0152"
            ],
            [
             0.1,
             "#c51b7d"
            ],
            [
             0.2,
             "#de77ae"
            ],
            [
             0.3,
             "#f1b6da"
            ],
            [
             0.4,
             "#fde0ef"
            ],
            [
             0.5,
             "#f7f7f7"
            ],
            [
             0.6,
             "#e6f5d0"
            ],
            [
             0.7,
             "#b8e186"
            ],
            [
             0.8,
             "#7fbc41"
            ],
            [
             0.9,
             "#4d9221"
            ],
            [
             1,
             "#276419"
            ]
           ],
           "sequential": [
            [
             0,
             "#0d0887"
            ],
            [
             0.1111111111111111,
             "#46039f"
            ],
            [
             0.2222222222222222,
             "#7201a8"
            ],
            [
             0.3333333333333333,
             "#9c179e"
            ],
            [
             0.4444444444444444,
             "#bd3786"
            ],
            [
             0.5555555555555556,
             "#d8576b"
            ],
            [
             0.6666666666666666,
             "#ed7953"
            ],
            [
             0.7777777777777778,
             "#fb9f3a"
            ],
            [
             0.8888888888888888,
             "#fdca26"
            ],
            [
             1,
             "#f0f921"
            ]
           ],
           "sequentialminus": [
            [
             0,
             "#0d0887"
            ],
            [
             0.1111111111111111,
             "#46039f"
            ],
            [
             0.2222222222222222,
             "#7201a8"
            ],
            [
             0.3333333333333333,
             "#9c179e"
            ],
            [
             0.4444444444444444,
             "#bd3786"
            ],
            [
             0.5555555555555556,
             "#d8576b"
            ],
            [
             0.6666666666666666,
             "#ed7953"
            ],
            [
             0.7777777777777778,
             "#fb9f3a"
            ],
            [
             0.8888888888888888,
             "#fdca26"
            ],
            [
             1,
             "#f0f921"
            ]
           ]
          },
          "colorway": [
           "#636efa",
           "#EF553B",
           "#00cc96",
           "#ab63fa",
           "#FFA15A",
           "#19d3f3",
           "#FF6692",
           "#B6E880",
           "#FF97FF",
           "#FECB52"
          ],
          "font": {
           "color": "#2a3f5f"
          },
          "geo": {
           "bgcolor": "white",
           "lakecolor": "white",
           "landcolor": "#E5ECF6",
           "showlakes": true,
           "showland": true,
           "subunitcolor": "white"
          },
          "hoverlabel": {
           "align": "left"
          },
          "hovermode": "closest",
          "mapbox": {
           "style": "light"
          },
          "paper_bgcolor": "white",
          "plot_bgcolor": "#E5ECF6",
          "polar": {
           "angularaxis": {
            "gridcolor": "white",
            "linecolor": "white",
            "ticks": ""
           },
           "bgcolor": "#E5ECF6",
           "radialaxis": {
            "gridcolor": "white",
            "linecolor": "white",
            "ticks": ""
           }
          },
          "scene": {
           "xaxis": {
            "backgroundcolor": "#E5ECF6",
            "gridcolor": "white",
            "gridwidth": 2,
            "linecolor": "white",
            "showbackground": true,
            "ticks": "",
            "zerolinecolor": "white"
           },
           "yaxis": {
            "backgroundcolor": "#E5ECF6",
            "gridcolor": "white",
            "gridwidth": 2,
            "linecolor": "white",
            "showbackground": true,
            "ticks": "",
            "zerolinecolor": "white"
           },
           "zaxis": {
            "backgroundcolor": "#E5ECF6",
            "gridcolor": "white",
            "gridwidth": 2,
            "linecolor": "white",
            "showbackground": true,
            "ticks": "",
            "zerolinecolor": "white"
           }
          },
          "shapedefaults": {
           "line": {
            "color": "#2a3f5f"
           }
          },
          "ternary": {
           "aaxis": {
            "gridcolor": "white",
            "linecolor": "white",
            "ticks": ""
           },
           "baxis": {
            "gridcolor": "white",
            "linecolor": "white",
            "ticks": ""
           },
           "bgcolor": "#E5ECF6",
           "caxis": {
            "gridcolor": "white",
            "linecolor": "white",
            "ticks": ""
           }
          },
          "title": {
           "x": 0.05
          },
          "xaxis": {
           "automargin": true,
           "gridcolor": "white",
           "linecolor": "white",
           "ticks": "",
           "title": {
            "standoff": 15
           },
           "zerolinecolor": "white",
           "zerolinewidth": 2
          },
          "yaxis": {
           "automargin": true,
           "gridcolor": "white",
           "linecolor": "white",
           "ticks": "",
           "title": {
            "standoff": 15
           },
           "zerolinecolor": "white",
           "zerolinewidth": 2
          }
         }
        },
        "title": {
         "text": "Top Airports: Avg Delay per Flight vs Delay Rate"
        },
        "xaxis": {
         "anchor": "y",
         "domain": [
          0,
          1
         ],
         "tickangle": 45,
         "title": {
          "text": "Airport"
         }
        },
        "yaxis": {
         "anchor": "x",
         "domain": [
          0,
          1
         ],
         "title": {
          "text": "Minutes / Rate"
         }
        }
       }
      }
     },
     "metadata": {},
     "output_type": "display_data"
    },
    {
     "data": {
      "application/vnd.plotly.v1+json": {
       "config": {
        "plotlyServerURL": "https://plot.ly"
       },
       "data": [
        {
         "hovertemplate": "Airport=Atlanta, G<br>Total Flights=%{x}<br>Delay Ratio=%{y}<extra></extra>",
         "legendgroup": "Atlanta, G",
         "marker": {
          "color": "#636efa",
          "symbol": "circle"
         },
         "mode": "markers",
         "name": "Atlanta, G",
         "showlegend": true,
         "type": "scattergl",
         "x": {
          "bdata": "ZAb3AnwANQEETcADMwAgBKAAcwL/AkcMeACgBvoCfAAtAXROeQOgDKUAJQA3BFsAsgL9Aj8GzwJ4ACIBDUttAwEAUAROAMUC/gLPC7MA1wQlA2sAXgGCSowDxQQzAMAD9gLGC/4AbgXHAlgACQHnRvACAwDZBEMATQSRAv0KMAE+BuACPgAXAUhI/AIfAN8EYQDxBMUC5AoDASYGlgI4AOcA0zuVAiIAnwRhABgEFQK1CfAALwiJAkMA4wAvQsQCfwAiBTUAawMhAsYKzQCbBgsCSADJAMVE7gJ5AK8EawAwA+oBxQqAAMcAdwQWAj4A0ABzReQCcABRBHAA9QMCAmwKngA4AZQEKwI/ANYA4kVgA1wA/QORAKAEJAJpC1wArQFZBQICXwCuAFpEFQN+ALwDrQBDBOABmwp1AI4BGAgYAnwAmwBXR/ICcAA8A6oA5wLJAacKZACKAasIDAJ7AJUA1EfwAnAAJgOTAEUCtAGeCoYAtAHOCg0CTQCEAHRFrAJwAAcDdAAEAaQBPAphADMC4gsRAlQAxAB5R5sCqgAwA2oA5QBTAYYKdgBFAgEMKwJUAJgA3EOqAW0A1AJbAIcABgHaCZYAXQKpC6gCHwCkAINFnQFoAM8CPwBbAPsA1wmqAH0CWAtmAjgAtgDjOY0BYABpAlEAYgDVAPgIrQDLAQANoQItANcAIEDIAWYAmQJhAHsA6wCTCacA6wF5Ds4CXADYAFtATwJAAOkCYgB4AMsAwAmnAFYCCw39AloA2QBgQjwCagAxA1wAXQDiAOwJqgBHAhISyQJXAPkAuEFgAkUAAQNvAD8AjQGYCqMASwIrD3ICPADLAN5AXgJjAP4CWwBBABgBOwqFAG0CDRCuAj4A5wCLRFMCagBHA3QAWQAtAYYKeACCAq4RwAI+AOwAeENRAl0AUgN4AFQAEgGeClYA7gMjE5ICOgAJAdY+AwJWAMcCWwAdAM4AiwqKAGkEQxZYAjkAAwF7OZcBBgD+AnoAOQBtAFUKdwBYBmoXOQI4ALIARDREAQMApwKIADEAbwDaCXAAYgZ/F6sBLADAAFM1MgFcAMYCXQAzAHEAAgp7AO4FeRNAARwAggBrKqUACAAwAj8AEABeAH0GbwAEBe4UcwEfAFoAAi+pAAgAWQJDAEYAgQCNB0sAagVhF3UBHwBoAIQw1wBwAjwAZgCkABgIKwCjA0sTawEeAH0AEjK5AJgCLABaAM4AwwgwAAUCbhKYATsAfQB0ML0AAwBPAjoAWwDaAMIIKwAJAc4PmQEjAGoAci+2AAkAyAE3AGQAkgB/CB4AIgFtEOUBWQB7AM8x1ABZASICOwB8AN4AKAofAOoMyAEoAIQA/if1AAQA3wJFAFQAjwB/CSQAUgEtBuAAHgA9ADAXgAAWABUBeAA2AAEArwc+APMA+AXAABkAGgD8EQUAPwASAB8AbgAlAAIAfwVXAMYAIgXbARYAQwCIGjgALwDBAGoAtgNuAHwKMwAhAZYPwQMsACkBvVBgAIIBNAOPAEgCFghVAfcMqAAlDUkDHQD0AJ5HYwBkAeECgwBmB0QBgQuTAAoC2w6DAyQAJQEDTHQAfgEKAPgCfgAGCG0BcgyPACsC2g4QBD4AFgEBTUwAdAEUAOACUAADCEIB3wuaADkC4wsrBDsADQExTE0AYQEBAAsDaQD0B14BbQt1AP8BAwyaBDkAGgEsUjwAfQEjA3AA0AhNAQYNxAAgAisMwQD0AQAMbQQ4ABUB7k09AF4BAwAiA2QAzwdSAQ4PiwQ9ACwBcVVLAE4BHACoA3IANAliAQINjAAEAuUOfQQ+ACQBT1VXAFwBOg13ADUCUAEZAKUDWAAQCRAOMAQ8ACIBylInAEYBFwBiA28AZwlKAfUMfQBOAk8BIwBPA2QA7QGEChgBzQ2yAFMMhQQ+AC4BD1NuC5kDPAAbAQVQ9QBJAL0CpAB9ChYBsg2nAL8BQwzeAy0ALAGqUgEA/gBPAMYCpgAQCjwBkQ6aALkBgAqRAyAA+gAiQwMA4AA6AFoCkAA0CDEBZAx/AH8BsgKRADoJEAHkDasAwgG3C+YDJAAjAb9JAwD3ADQASAwFBDQA9QAYS/gAOACyAm0AhghRAYkNvgDdAe0J6QMzAAwBbE2WAP4ANwCxAmcAOgdmAZINrADgAU4JCAQ1ACQBw1IwAhcBOQC1Am8ATQdbAQEOwAABAvAHwwMzACIBZ07cAhsBNwC1AmYAKAd5ASINvwDnAeQJ6gM/AC4Bq1V7BC8BOgD6AnAAswirATsO4gB+AaIJ9gNYAC4BuFRTBEQBNQD6AnAA3QiuAQQO6QApAQgJxANVACABJVK0BDgBTgDhAmgA9wi5AaANyQA/AcsJ8AM+ACoBiFM+A0QBMwCrAmsAwQe4AQkOvwB0Ab4JogM8ACQBnVAXAyUBGwCcAm0AjAeVAbUNsgCBAfYIxQM0AAkB2FLpA/wAPQB5Ak8AYwi8AS8OngD5AWEHWgMcAIQAfkUGAvMANQA6AkQAQgeCATMMwgCgASoHvAMkAJMAXUqJAxABOAB1AkQAQwiyAckNvwCZAZkDNgCQADxK6wGdDdIFFAFjAhkHeQM3AJIAB01PBf4AWgIeBfgBUg22AzQAkwA7URYGrA3uAHkCywXoAXkDMwCMALhMswcOAWYCEQW1AQYNLlQXDD4BfQJGBNcB3w24A1YAkwDTDXQBfgJnBLwDXQCPADxT0wHaDakDWACOAJtRhw5oAWYCDgXyAaYNAQQ+AJMAE1NjDXQBdAI/BAUCIw4MBDwAjADIT0MODAFBAhYEYAH5DbUEPgAKAJ1RiBHmAE0CPQOHAZUO+g7QABQCVwIyAQwEOAB9RaIMWARAAO1KdxHnAE0CGgI2ATcOPQQ/AJVLEBPnAE0CHgKLAbUNxgGZDTYENwDAT3YQ+wA/Aq4BfgQ1ACpU7xCmAWMC4QH3AUEOIAQ0AFtPohGmAVICrwFBAsENMARPANlVDxTPAWwCEAJbAmkOJwRTALFUkxTLAWwCHwI6AkYO8wNPAIpTxROkAVgCIAJQAvcNOQQ+AHdUvhKwAWwCZgIkAhMOTgM8AHRQKxQwAWoChgKfAdQNnhWkAGwC2wKlAXUOXQM+ADhRGwM6ANVI2RCsAEQCOwL9ABkNQQM+AKtKUhLXAGwCFQLvANsNpQM7AFtL0xSwAWACqwEpAUQOpAM7ANdOJBGlARgAXALgAUIBog3PAz4A8VG1ExUCHwB6AnkBeAEADpcDPACWTvgSHAJDAEUChAFGAZQN3QMoAJBUExUaAqsA1gG4AT0BhQ4WBB8AVVRmFRACrgCyAaoBPAGBDuQBHgBPUYMVEwKlAHEBNgGJAQoCHQ7bAR8AmFELFCQCiwBKAX8BYwH9ATQO1QEeAAFPpBREAYoAAAFRAUwBsQHjDfEBHwDdUaoWGQGCAPgAXgE0AfMBWA5mARwAFkQWEqEAmQDgAHsB4wDQAfAMjQEfAGFIhhS8AIYA+AAzAdsAAQJYDocBHwBXSRcWtABRBSsAOgHRAAAC4QkuAOsAyQD2AcoHawEeAClLqxKUAN0GawEfADtPJhWtAJcHfgD+AHUAAwJaCWABHwA2S6cUjwAeCJYA0ABBAOgBXgiGAT4AQE5OFoYAYQpyAN0AOwDpAcwGoQE+APRNIxeBAPwKUQDGAD0A2gGVBpQBPADbSnYXbwDbClsAqgBNAMkBWwaVAT4ANUw1GFwA0QuEAO8ARQDdATgGPAAXSfsYPwDnC8QACAE/AL0BwwWOAZsBPgDkSeocPQDeDJUBHwE0ALoBWgV0ATgAST0fGjUAawtyAdwAKACMAZgEnQE+AK9Chx05AAoNdAH7AB8AuAGmBDIDlQE+ALxCHh1CAOoOdgG2AC4AtAH0A4kA5AF2ATwAMUSQHD4ALw7BAY8AIACqAaMDaQD1AYMBPgCASOkeNwCDEAgCyQAfAMgBDQN0ADwALkTeHTQAJRDyAVkAHgCrAZICXQAYAnIBSAKbAT0AWUl8Ii8AIBEFAn8AMgDKAfgChwA=",
          "dtype": "i2"
         },
         "xaxis": "x",
         "y": {
          "bdata": "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",
          "dtype": "f8"
         },
         "yaxis": "y"
        },
        {
         "hovertemplate": "Airport=Charlotte,<br>Total Flights=%{x}<br>Delay Ratio=%{y}<extra></extra>",
         "legendgroup": "Charlotte,",
         "marker": {
          "color": "#EF553B",
          "symbol": "circle"
         },
         "mode": "markers",
         "name": "Charlotte,",
         "showlegend": true,
         "type": "scattergl",
         "x": {
          "bdata": "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",
          "dtype": "i2"
         },
         "xaxis": "x",
         "y": {
          "bdata": "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",
          "dtype": "f8"
         },
         "yaxis": "y"
        },
        {
         "hovertemplate": "Airport=Denver, CO<br>Total Flights=%{x}<br>Delay Ratio=%{y}<extra></extra>",
         "legendgroup": "Denver, CO",
         "marker": {
          "color": "#00cc96",
          "symbol": "circle"
         },
         "mode": "markers",
         "name": "Denver, CO",
         "showlegend": true,
         "type": "scattergl",
         "x": {
          "bdata": "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",
          "dtype": "i2"
         },
         "xaxis": "x",
         "y": {
          "bdata": "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",
          "dtype": "f8"
         },
         "yaxis": "y"
        },
        {
         "hovertemplate": "Airport=Dallas/For<br>Total Flights=%{x}<br>Delay Ratio=%{y}<extra></extra>",
         "legendgroup": "Dallas/For",
         "marker": {
          "color": "#ab63fa",
          "symbol": "circle"
         },
         "mode": "markers",
         "name": "Dallas/For",
         "showlegend": true,
         "type": "scattergl",
         "x": {
          "bdata": "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",
          "dtype": "i2"
         },
         "xaxis": "x",
         "y": {
          "bdata": "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",
          "dtype": "f8"
         },
         "yaxis": "y"
        },
        {
         "hovertemplate": "Airport=Houston, T<br>Total Flights=%{x}<br>Delay Ratio=%{y}<extra></extra>",
         "legendgroup": "Houston, T",
         "marker": {
          "color": "#FFA15A",
          "symbol": "circle"
         },
         "mode": "markers",
         "name": "Houston, T",
         "showlegend": true,
         "type": "scattergl",
         "x": {
          "bdata": "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",
          "dtype": "i2"
         },
         "xaxis": "x",
         "y": {
          "bdata": "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",
          "dtype": "f8"
         },
         "yaxis": "y"
        },
        {
         "hovertemplate": "Airport=Los Angele<br>Total Flights=%{x}<br>Delay Ratio=%{y}<extra></extra>",
         "legendgroup": "Los Angele",
         "marker": {
          "color": "#19d3f3",
          "symbol": "circle"
         },
         "mode": "markers",
         "name": "Los Angele",
         "showlegend": true,
         "type": "scattergl",
         "x": {
          "bdata": "MwpcA1EEFA2KAL0AnQQUDGgJwQoVClEDPgQsDeIAiQrCAFcEswtnCcIJIgMkBHkM0wC+AEUEGwsACR0K3AktA10ETgx2ALoAawRsCwkImgpmCfYC5QPTC2wAswDdA0gLhgdUCcIJAwPoAxUMZAC6APQDDQymB6IIzgjXAnADDQovAKgAkgONCr8GsgdTCWQDwAMzCyYAvQALBLgLdgd+CNAJpQPXA0YLUwDIANYDkAoCABIIsQjdCQgDygMiC0oAtADUA8cK7geKCO8JyAK6A04LVQC6AN0DIQxBCPcIdwmbAqQDGAtOALQAqgNgDQkA4gdlCCQKvgKaA2oLkADIAHwDgA4kAL8Iegn6CbgCmQN2C9gA2QCAA+MOIwAvCUkJ/QnWAhADJwu7AMgASwPlDk8AnAiyCMoJOAPhAxYKdgC6AI0DuQ9uAAYIwgl4CXoDjQNaCXUAtADuAjUOXAAGCCsJAwphA0cDiAl/ALoADAMTD3MAHQjrB3oJCwMKA/cHUgCoAK8Cdg14AAQHhAdjCl4DEQO6CFkAvgDXApYPtgDXB9MH0gp0A1MDKQlzAMoAMQMeD9IARwjhB60KKAMmAzcJcQC6AGEDHBDzAHUH7wfSCucCpAO+CWMAugBqA8cRIgHWByEISAoAA5EDZgkNAE8AugCWA4IRJwH3BqIHdAsMA0sEGwoOAM8A2QDKAyESVgIkB5UHWAv9AjQEDApJADoB2QCAAwoSVwKzBpAHzQoTA18DngmTAA0B0gDEAi0R5QG5BfcGtgnsAhoDhQmVAGoArQCnAnsNjAGHBKUFOAfBAlgCVQh3AGQAdgDJAW4McAHsAw8F0QXlAkoCBgiCAGcAUwAUAj4MnQHiA1MFTQQYApgBlAZGAEMAOAC+AcIJlQFNA6AD6QTzAZUBNAc6ADcASgDsAT4KMQLaA0QEBwX0AfkBiAeFAFoAUgAoAu0K1QO3BJcEZwEcAhcHkQBIAEcAiAIKCd0DNQX1BG4BDQKfBpAAOwAkABkCRwjcAxYFjAScAVoB1gVwADkAIAABAnsHPwNsBd4EtQFOAT4GaQCXAB8AoAKsB4ID1wdxBTwBsAEMBYIAugAfAAID/QWNAqwHjwPwAN0ArAM5AKQAHgC3AMECLAFPBQgDeQBKAPQCGgBfAB8AMQA+Aj8BJwTPBU4BqwC+AxkALwAeANUAQQOCAgAKUg66BTgCwwtrAGkAsACfAosMxgjFDLsMYwUVAn8KYwBOAK4APgK0C3gHiAu8DfEFOwJNC34AWgC8AEYCHwzQB4QMIA80BmkCnQtmAGsAwgBTAu0L6QjrDI0NHQZQAuYKYQBWALMAmAKlCo8IRwz/DMYGTAKnC3wASAC3ALsCeAoiCcQNKAk2Dc8MfwZPAjULbwBNALMAugIVCokONAdVAnYNWgC2ALkAGQMMCxIK4g26Di4HVgKYDbUKIwrBDV0AEwG6ABkD+Q3VBj0CxgxaAPIAtAD/Ah0KnAk8DTkAZAC6ABQDlwn/CMYNrg2WBksCKAwJDWwGQAKyCzwAZAC0AHYC0AnSCKIN+A2uBksC8ws9AHkAugCKAmgL3whHDikMGgYBAkkKNABfAKgAPQIFCkwHdQyoAvoKRAjuDQoNmAYZAkoLOwBrALoACg6wBh8CKgs3AHsAugCnAtMKcgldDTUNiwb5AZAKRwBtALQAiwLuCfQIrw2zDQIH6wGPC10AXQC6AJICqgocCZQOSw2wBuwBOwtrAGEAtACOAh8KsQjRDe8NcQcjAjINaACxABkD1QpoCq0OAw61BykCTQ1dAO8AyAAYA7gK1QpYDocNrQcEAsgMWgDYALgAAANYCoIK7Q16DaIHJwIjDF0AYwC6ANQCIgpIClMO4gw6BxECqQthAGEAtACpAvYJhgn3DQQNMwInArMKfAB1ALAAqALtC9sINwVADkULXQLiAdAIcABkAIwAaAKQCnsHUARlDFEMvgIRApcJfABtAKIAqgKCC04IsQQUDq0McwITAsEKNwkBBWcNfACrAIYC8wl5C3ECBAIfCngAlgCjAtQJlwjeBKgNYAyRAv8BtAoICRYFPQ6iAJsAIgOAC94LmwLdAU8KxACZABEDOAqRCNoEdA21C8MApQBFA9kKCwrwBH4O7g0YAwECzACqADkDUApCDkoDAQJ8C78J5QQzDrgNLgPXATkLvwCiABoDuwl5CcgEDg65DBoD3AG3CroAhAAtA+EJLgm/BFcO/AvfAtsBjwqVAHgADAP2CXwIkQS7DVYM9QLzAXEKiQB8ACUDLgukCLAEQA56AHAA2AL4CUEHCwTMCpACwgFvCEYMQAzmAuQBFAmUAIkAJgPfCg0IlATCDUIN1gKyAaQKmACYACYDgAk9CccEnw0TCZ4EVQ1rDLYCqwFDCo0AeAD/AnoICA3BAtMBSwuaAHwAHAORCP4JqgT1DYQMsAK/ARQLlgB/AAUD5ghdCZEEgw0zDx0DwgFpDZsAtAAmAz8JmAr1BE0OABAdA9UBhg2bAMUAJgNCCYUK5QQhDpAPAgO0AfsMlgC9AAwDeQjMCaIE+Q0aDeQCnQFwDJsAjAAmA0YGugmJBDwOzQzNApkB+wuRAIYA6gIsBuIIVwTQDX4AiABkAjIH1AiMBCkOUg3iAqUBmwvEC6cCgAHWCXQAgAAnAmwHhAcZBEoMeAzjAn4BPwqEAI8ATQIkCNwHawQzDTcNLAOAAe8JugCSAA4AHwLZBzcJdATQDVQMKAOJAUYKowB4APABnwesCEgEZg3cDJMDfQFXCpgAfADoAesJAQp3BKkNeAx/A20BwgmTAIQA2gGmC4UJLwTwDMANGgOOAaEKlwC3ABEA3QGfDdgKqATiDeYNKAOPAWQKkgC6AB8AwQGEDSsLTwR6DpcK9gKAAbQJjQCoABsAhgERDccKzwI4BPgNlQrNAowBTAiTAIgAjAHgDUMKgAJDBHMNewqZAmABxgdTAHgABQA6AbwOawleAiMEHA3/CpsCaAEsCEIAfAAfABcB6A+rCXICGQQWDVEJLQJAAWEGSABwABwA/AAoD1oICgKKA48LSQpQAmUBBQdWAIIAHwASAVwQRAk9AvID2Qy1Ch8CXQFgB1sAkgAOAOIQXQpBAkIEUA2CAD8QxwkqAhIEwwwUChkCMwFAB24Ahwo3AkMBugd4AB8AfAAGEqkKJQJKBCgNHAo6AiIBaAd5AB4AkQAEAIgRXwruAUsEhQztCqACNgHxB3oALwC6AM4AAxP1CzICrwQnDT4LsAI2AbsHdAAfALoAKQKBE6AMRALXBAEO4QqLAhoBbQd1AB4AfgADAtgS7gsyAqYEUg3bCnQCEgE9B4UAHwByAOgBChXrCiUCvARnDFsC/QAEB28AHgBaAOABFxT4CQwCwgQpDEwKogo6AuoA5AZyAB8AXQAyAsMVIgoUAo4EFgxRCawB2ADRBWMAHABUAAQCGxOzCNIBFwR8CiMK0wEKAaAGcAAfAF0AUAIIFdoJEQKjBLgLjwr0AToBAwd0ACAAcQB8Ah4U2AohAtwEQAzuCQsCIAGqBnQAIQBaACECFRMWCgICrwSjC0kKHAIhASkHewBZAF0AKgIxFKgKGwLUBEQMJwIRAcsGcgBbAFoAFgK5E4gK7wGkBO4L1AmgCn0CRAE7CHYAbAB1AHYCTRU6DBoCAwWpDA==",
          "dtype": "i2"
         },
         "xaxis": "x",
         "y": {
          "bdata": "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",
          "dtype": "f8"
         },
         "yaxis": "y"
        },
        {
         "hovertemplate": "Airport=Chicago, I<br>Total Flights=%{x}<br>Delay Ratio=%{y}<extra></extra>",
         "legendgroup": "Chicago, I",
         "marker": {
          "color": "#FF6692",
          "symbol": "circle"
         },
         "mode": "markers",
         "name": "Chicago, I",
         "showlegend": true,
         "type": "scattergl",
         "x": {
          "bdata": "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",
          "dtype": "i2"
         },
         "xaxis": "x",
         "y": {
          "bdata": "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",
          "dtype": "f8"
         },
         "yaxis": "y"
        },
        {
         "hovertemplate": "Airport=Phoenix, A<br>Total Flights=%{x}<br>Delay Ratio=%{y}<extra></extra>",
         "legendgroup": "Phoenix, A",
         "marker": {
          "color": "#B6E880",
          "symbol": "circle"
         },
         "mode": "markers",
         "name": "Phoenix, A",
         "showlegend": true,
         "type": "scattergl",
         "x": {
          "bdata": "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",
          "dtype": "i2"
         },
         "xaxis": "x",
         "y": {
          "bdata": "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",
          "dtype": "f8"
         },
         "yaxis": "y"
        },
        {
         "hovertemplate": "Airport=Seattle, W<br>Total Flights=%{x}<br>Delay Ratio=%{y}<extra></extra>",
         "legendgroup": "Seattle, W",
         "marker": {
          "color": "#FF97FF",
          "symbol": "circle"
         },
         "mode": "markers",
         "name": "Seattle, W",
         "showlegend": true,
         "type": "scattergl",
         "x": {
          "bdata": "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",
          "dtype": "i2"
         },
         "xaxis": "x",
         "y": {
          "bdata": "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",
          "dtype": "f8"
         },
         "yaxis": "y"
        },
        {
         "hovertemplate": "Airport=San Franci<br>Total Flights=%{x}<br>Delay Ratio=%{y}<extra></extra>",
         "legendgroup": "San Franci",
         "marker": {
          "color": "#FECB52",
          "symbol": "circle"
         },
         "mode": "markers",
         "name": "San Franci",
         "showlegend": true,
         "type": "scattergl",
         "x": {
          "bdata": "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",
          "dtype": "i2"
         },
         "xaxis": "x",
         "y": {
          "bdata": "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",
          "dtype": "f8"
         },
         "yaxis": "y"
        }
       ],
       "layout": {
        "legend": {
         "title": {
          "text": "Airport"
         },
         "tracegroupgap": 0
        },
        "template": {
         "data": {
          "bar": [
           {
            "error_x": {
             "color": "#2a3f5f"
            },
            "error_y": {
             "color": "#2a3f5f"
            },
            "marker": {
             "line": {
              "color": "#E5ECF6",
              "width": 0.5
             },
             "pattern": {
              "fillmode": "overlay",
              "size": 10,
              "solidity": 0.2
             }
            },
            "type": "bar"
           }
          ],
          "barpolar": [
           {
            "marker": {
             "line": {
              "color": "#E5ECF6",
              "width": 0.5
             },
             "pattern": {
              "fillmode": "overlay",
              "size": 10,
              "solidity": 0.2
             }
            },
            "type": "barpolar"
           }
          ],
          "carpet": [
           {
            "aaxis": {
             "endlinecolor": "#2a3f5f",
             "gridcolor": "white",
             "linecolor": "white",
             "minorgridcolor": "white",
             "startlinecolor": "#2a3f5f"
            },
            "baxis": {
             "endlinecolor": "#2a3f5f",
             "gridcolor": "white",
             "linecolor": "white",
             "minorgridcolor": "white",
             "startlinecolor": "#2a3f5f"
            },
            "type": "carpet"
           }
          ],
          "choropleth": [
           {
            "colorbar": {
             "outlinewidth": 0,
             "ticks": ""
            },
            "type": "choropleth"
           }
          ],
          "contour": [
           {
            "colorbar": {
             "outlinewidth": 0,
             "ticks": ""
            },
            "colorscale": [
             [
              0,
              "#0d0887"
             ],
             [
              0.1111111111111111,
              "#46039f"
             ],
             [
              0.2222222222222222,
              "#7201a8"
             ],
             [
              0.3333333333333333,
              "#9c179e"
             ],
             [
              0.4444444444444444,
              "#bd3786"
             ],
             [
              0.5555555555555556,
              "#d8576b"
             ],
             [
              0.6666666666666666,
              "#ed7953"
             ],
             [
              0.7777777777777778,
              "#fb9f3a"
             ],
             [
              0.8888888888888888,
              "#fdca26"
             ],
             [
              1,
              "#f0f921"
             ]
            ],
            "type": "contour"
           }
          ],
          "contourcarpet": [
           {
            "colorbar": {
             "outlinewidth": 0,
             "ticks": ""
            },
            "type": "contourcarpet"
           }
          ],
          "heatmap": [
           {
            "colorbar": {
             "outlinewidth": 0,
             "ticks": ""
            },
            "colorscale": [
             [
              0,
              "#0d0887"
             ],
             [
              0.1111111111111111,
              "#46039f"
             ],
             [
              0.2222222222222222,
              "#7201a8"
             ],
             [
              0.3333333333333333,
              "#9c179e"
             ],
             [
              0.4444444444444444,
              "#bd3786"
             ],
             [
              0.5555555555555556,
              "#d8576b"
             ],
             [
              0.6666666666666666,
              "#ed7953"
             ],
             [
              0.7777777777777778,
              "#fb9f3a"
             ],
             [
              0.8888888888888888,
              "#fdca26"
             ],
             [
              1,
              "#f0f921"
             ]
            ],
            "type": "heatmap"
           }
          ],
          "histogram": [
           {
            "marker": {
             "pattern": {
              "fillmode": "overlay",
              "size": 10,
              "solidity": 0.2
             }
            },
            "type": "histogram"
           }
          ],
          "histogram2d": [
           {
            "colorbar": {
             "outlinewidth": 0,
             "ticks": ""
            },
            "colorscale": [
             [
              0,
              "#0d0887"
             ],
             [
              0.1111111111111111,
              "#46039f"
             ],
             [
              0.2222222222222222,
              "#7201a8"
             ],
             [
              0.3333333333333333,
              "#9c179e"
             ],
             [
              0.4444444444444444,
              "#bd3786"
             ],
             [
              0.5555555555555556,
              "#d8576b"
             ],
             [
              0.6666666666666666,
              "#ed7953"
             ],
             [
              0.7777777777777778,
              "#fb9f3a"
             ],
             [
              0.8888888888888888,
              "#fdca26"
             ],
             [
              1,
              "#f0f921"
             ]
            ],
            "type": "histogram2d"
           }
          ],
          "histogram2dcontour": [
           {
            "colorbar": {
             "outlinewidth": 0,
             "ticks": ""
            },
            "colorscale": [
             [
              0,
              "#0d0887"
             ],
             [
              0.1111111111111111,
              "#46039f"
             ],
             [
              0.2222222222222222,
              "#7201a8"
             ],
             [
              0.3333333333333333,
              "#9c179e"
             ],
             [
              0.4444444444444444,
              "#bd3786"
             ],
             [
              0.5555555555555556,
              "#d8576b"
             ],
             [
              0.6666666666666666,
              "#ed7953"
             ],
             [
              0.7777777777777778,
              "#fb9f3a"
             ],
             [
              0.8888888888888888,
              "#fdca26"
             ],
             [
              1,
              "#f0f921"
             ]
            ],
            "type": "histogram2dcontour"
           }
          ],
          "mesh3d": [
           {
            "colorbar": {
             "outlinewidth": 0,
             "ticks": ""
            },
            "type": "mesh3d"
           }
          ],
          "parcoords": [
           {
            "line": {
             "colorbar": {
              "outlinewidth": 0,
              "ticks": ""
             }
            },
            "type": "parcoords"
           }
          ],
          "pie": [
           {
            "automargin": true,
            "type": "pie"
           }
          ],
          "scatter": [
           {
            "fillpattern": {
             "fillmode": "overlay",
             "size": 10,
             "solidity": 0.2
            },
            "type": "scatter"
           }
          ],
          "scatter3d": [
           {
            "line": {
             "colorbar": {
              "outlinewidth": 0,
              "ticks": ""
             }
            },
            "marker": {
             "colorbar": {
              "outlinewidth": 0,
              "ticks": ""
             }
            },
            "type": "scatter3d"
           }
          ],
          "scattercarpet": [
           {
            "marker": {
             "colorbar": {
              "outlinewidth": 0,
              "ticks": ""
             }
            },
            "type": "scattercarpet"
           }
          ],
          "scattergeo": [
           {
            "marker": {
             "colorbar": {
              "outlinewidth": 0,
              "ticks": ""
             }
            },
            "type": "scattergeo"
           }
          ],
          "scattergl": [
           {
            "marker": {
             "colorbar": {
              "outlinewidth": 0,
              "ticks": ""
             }
            },
            "type": "scattergl"
           }
          ],
          "scattermap": [
           {
            "marker": {
             "colorbar": {
              "outlinewidth": 0,
              "ticks": ""
             }
            },
            "type": "scattermap"
           }
          ],
          "scattermapbox": [
           {
            "marker": {
             "colorbar": {
              "outlinewidth": 0,
              "ticks": ""
             }
            },
            "type": "scattermapbox"
           }
          ],
          "scatterpolar": [
           {
            "marker": {
             "colorbar": {
              "outlinewidth": 0,
              "ticks": ""
             }
            },
            "type": "scatterpolar"
           }
          ],
          "scatterpolargl": [
           {
            "marker": {
             "colorbar": {
              "outlinewidth": 0,
              "ticks": ""
             }
            },
            "type": "scatterpolargl"
           }
          ],
          "scatterternary": [
           {
            "marker": {
             "colorbar": {
              "outlinewidth": 0,
              "ticks": ""
             }
            },
            "type": "scatterternary"
           }
          ],
          "surface": [
           {
            "colorbar": {
             "outlinewidth": 0,
             "ticks": ""
            },
            "colorscale": [
             [
              0,
              "#0d0887"
             ],
             [
              0.1111111111111111,
              "#46039f"
             ],
             [
              0.2222222222222222,
              "#7201a8"
             ],
             [
              0.3333333333333333,
              "#9c179e"
             ],
             [
              0.4444444444444444,
              "#bd3786"
             ],
             [
              0.5555555555555556,
              "#d8576b"
             ],
             [
              0.6666666666666666,
              "#ed7953"
             ],
             [
              0.7777777777777778,
              "#fb9f3a"
             ],
             [
              0.8888888888888888,
              "#fdca26"
             ],
             [
              1,
              "#f0f921"
             ]
            ],
            "type": "surface"
           }
          ],
          "table": [
           {
            "cells": {
             "fill": {
              "color": "#EBF0F8"
             },
             "line": {
              "color": "white"
             }
            },
            "header": {
             "fill": {
              "color": "#C8D4E3"
             },
             "line": {
              "color": "white"
             }
            },
            "type": "table"
           }
          ]
         },
         "layout": {
          "annotationdefaults": {
           "arrowcolor": "#2a3f5f",
           "arrowhead": 0,
           "arrowwidth": 1
          },
          "autotypenumbers": "strict",
          "coloraxis": {
           "colorbar": {
            "outlinewidth": 0,
            "ticks": ""
           }
          },
          "colorscale": {
           "diverging": [
            [
             0,
             "#8e0152"
            ],
            [
             0.1,
             "#c51b7d"
            ],
            [
             0.2,
             "#de77ae"
            ],
            [
             0.3,
             "#f1b6da"
            ],
            [
             0.4,
             "#fde0ef"
            ],
            [
             0.5,
             "#f7f7f7"
            ],
            [
             0.6,
             "#e6f5d0"
            ],
            [
             0.7,
             "#b8e186"
            ],
            [
             0.8,
             "#7fbc41"
            ],
            [
             0.9,
             "#4d9221"
            ],
            [
             1,
             "#276419"
            ]
           ],
           "sequential": [
            [
             0,
             "#0d0887"
            ],
            [
             0.1111111111111111,
             "#46039f"
            ],
            [
             0.2222222222222222,
             "#7201a8"
            ],
            [
             0.3333333333333333,
             "#9c179e"
            ],
            [
             0.4444444444444444,
             "#bd3786"
            ],
            [
             0.5555555555555556,
             "#d8576b"
            ],
            [
             0.6666666666666666,
             "#ed7953"
            ],
            [
             0.7777777777777778,
             "#fb9f3a"
            ],
            [
             0.8888888888888888,
             "#fdca26"
            ],
            [
             1,
             "#f0f921"
            ]
           ],
           "sequentialminus": [
            [
             0,
             "#0d0887"
            ],
            [
             0.1111111111111111,
             "#46039f"
            ],
            [
             0.2222222222222222,
             "#7201a8"
            ],
            [
             0.3333333333333333,
             "#9c179e"
            ],
            [
             0.4444444444444444,
             "#bd3786"
            ],
            [
             0.5555555555555556,
             "#d8576b"
            ],
            [
             0.6666666666666666,
             "#ed7953"
            ],
            [
             0.7777777777777778,
             "#fb9f3a"
            ],
            [
             0.8888888888888888,
             "#fdca26"
            ],
            [
             1,
             "#f0f921"
            ]
           ]
          },
          "colorway": [
           "#636efa",
           "#EF553B",
           "#00cc96",
           "#ab63fa",
           "#FFA15A",
           "#19d3f3",
           "#FF6692",
           "#B6E880",
           "#FF97FF",
           "#FECB52"
          ],
          "font": {
           "color": "#2a3f5f"
          },
          "geo": {
           "bgcolor": "white",
           "lakecolor": "white",
           "landcolor": "#E5ECF6",
           "showlakes": true,
           "showland": true,
           "subunitcolor": "white"
          },
          "hoverlabel": {
           "align": "left"
          },
          "hovermode": "closest",
          "mapbox": {
           "style": "light"
          },
          "paper_bgcolor": "white",
          "plot_bgcolor": "#E5ECF6",
          "polar": {
           "angularaxis": {
            "gridcolor": "white",
            "linecolor": "white",
            "ticks": ""
           },
           "bgcolor": "#E5ECF6",
           "radialaxis": {
            "gridcolor": "white",
            "linecolor": "white",
            "ticks": ""
           }
          },
          "scene": {
           "xaxis": {
            "backgroundcolor": "#E5ECF6",
            "gridcolor": "white",
            "gridwidth": 2,
            "linecolor": "white",
            "showbackground": true,
            "ticks": "",
            "zerolinecolor": "white"
           },
           "yaxis": {
            "backgroundcolor": "#E5ECF6",
            "gridcolor": "white",
            "gridwidth": 2,
            "linecolor": "white",
            "showbackground": true,
            "ticks": "",
            "zerolinecolor": "white"
           },
           "zaxis": {
            "backgroundcolor": "#E5ECF6",
            "gridcolor": "white",
            "gridwidth": 2,
            "linecolor": "white",
            "showbackground": true,
            "ticks": "",
            "zerolinecolor": "white"
           }
          },
          "shapedefaults": {
           "line": {
            "color": "#2a3f5f"
           }
          },
          "ternary": {
           "aaxis": {
            "gridcolor": "white",
            "linecolor": "white",
            "ticks": ""
           },
           "baxis": {
            "gridcolor": "white",
            "linecolor": "white",
            "ticks": ""
           },
           "bgcolor": "#E5ECF6",
           "caxis": {
            "gridcolor": "white",
            "linecolor": "white",
            "ticks": ""
           }
          },
          "title": {
           "x": 0.05
          },
          "xaxis": {
           "automargin": true,
           "gridcolor": "white",
           "linecolor": "white",
           "ticks": "",
           "title": {
            "standoff": 15
           },
           "zerolinecolor": "white",
           "zerolinewidth": 2
          },
          "yaxis": {
           "automargin": true,
           "gridcolor": "white",
           "linecolor": "white",
           "ticks": "",
           "title": {
            "standoff": 15
           },
           "zerolinecolor": "white",
           "zerolinewidth": 2
          }
         }
        },
        "title": {
         "text": "Delay Ratio vs Total Flights by Top Airports"
        },
        "xaxis": {
         "anchor": "y",
         "domain": [
          0,
          1
         ],
         "title": {
          "text": "Total Flights"
         }
        },
        "yaxis": {
         "anchor": "x",
         "domain": [
          0,
          1
         ],
         "title": {
          "text": "Delay Ratio"
         }
        }
       }
      }
     },
     "metadata": {},
     "output_type": "display_data"
    },
    {
     "name": "stderr",
     "output_type": "stream",
     "text": [
      "C:\\Users\\omar yasser\\AppData\\Local\\Temp\\ipykernel_33396\\2027291451.py:54: FutureWarning:\n",
      "\n",
      "The default of observed=False is deprecated and will be changed to True in a future version of pandas. Pass observed=False to retain current behavior or observed=True to adopt the future default and silence this warning.\n",
      "\n"
     ]
    },
    {
     "data": {
      "application/vnd.plotly.v1+json": {
       "config": {
        "plotlyServerURL": "https://plot.ly"
       },
       "data": [
        {
         "coloraxis": "coloraxis",
         "histfunc": "sum",
         "hovertemplate": "Delay Cause=%{x}<br>Airport Code=%{y}<br>sum of Log(Total Delay + 1)=%{z}<extra></extra>",
         "name": "",
         "type": "histogram2d",
         "x": [
          "Carrier",
          "Carrier",
          "Carrier",
          "Carrier",
          "Carrier",
          "Carrier",
          "Carrier",
          "Carrier",
          "Carrier",
          "Carrier",
          "Carrier",
          "Carrier",
          "Carrier",
          "Carrier",
          "Carrier",
          "Carrier",
          "Carrier",
          "Carrier",
          "Carrier",
          "Carrier",
          "Carrier",
          "Carrier",
          "Carrier",
          "Carrier",
          "Carrier",
          "Carrier",
          "Carrier",
          "Carrier",
          "Carrier",
          "Carrier",
          "Carrier",
          "Carrier",
          "Carrier",
          "Carrier",
          "Carrier",
          "Carrier",
          "Carrier",
          "Carrier",
          "Carrier",
          "Carrier",
          "Carrier",
          "Carrier",
          "Carrier",
          "Carrier",
          "Carrier",
          "Carrier",
          "Carrier",
          "Carrier",
          "Carrier",
          "Carrier",
          "Carrier",
          "Carrier",
          "Carrier",
          "Carrier",
          "Carrier",
          "Carrier",
          "Carrier",
          "Carrier",
          "Carrier",
          "Carrier",
          "Carrier",
          "Carrier",
          "Carrier",
          "Carrier",
          "Carrier",
          "Carrier",
          "Carrier",
          "Carrier",
          "Carrier",
          "Carrier",
          "Carrier",
          "Carrier",
          "Carrier",
          "Carrier",
          "Carrier",
          "Carrier",
          "Carrier",
          "Carrier",
          "Carrier",
          "Carrier",
          "Carrier",
          "Carrier",
          "Carrier",
          "Carrier",
          "Carrier",
          "Carrier",
          "Carrier",
          "Carrier",
          "Carrier",
          "Carrier",
          "Carrier",
          "Carrier",
          "Carrier",
          "Carrier",
          "Carrier",
          "Carrier",
          "Carrier",
          "Carrier",
          "Carrier",
          "Carrier",
          "Carrier",
          "Carrier",
          "Carrier",
          "Carrier",
          "Carrier",
          "Carrier",
          "Carrier",
          "Carrier",
          "Carrier",
          "Carrier",
          "Carrier",
          "Carrier",
          "Carrier",
          "Carrier",
          "Carrier",
          "Carrier",
          "Carrier",
          "Carrier",
          "Carrier",
          "Carrier",
          "Carrier",
          "Carrier",
          "Carrier",
          "Carrier",
          "Carrier",
          "Carrier",
          "Carrier",
          "Carrier",
          "Carrier",
          "Carrier",
          "Carrier",
          "Carrier",
          "Carrier",
          "Carrier",
          "Carrier",
          "Carrier",
          "Carrier",
          "Carrier",
          "Carrier",
          "Carrier",
          "Carrier",
          "Carrier",
          "Carrier",
          "Carrier",
          "Carrier",
          "Carrier",
          "Carrier",
          "Carrier",
          "Carrier",
          "Carrier",
          "Carrier",
          "Carrier",
          "Carrier",
          "Carrier",
          "Carrier",
          "Carrier",
          "Carrier",
          "Carrier",
          "Carrier",
          "Carrier",
          "Carrier",
          "Carrier",
          "Carrier",
          "Carrier",
          "Carrier",
          "Carrier",
          "Carrier",
          "Carrier",
          "Carrier",
          "Carrier",
          "Carrier",
          "Carrier",
          "Carrier",
          "Carrier",
          "Carrier",
          "Carrier",
          "Carrier",
          "Carrier",
          "Carrier",
          "Carrier",
          "Carrier",
          "Carrier",
          "Carrier",
          "Carrier",
          "Carrier",
          "Carrier",
          "Carrier",
          "Carrier",
          "Carrier",
          "Carrier",
          "Carrier",
          "Carrier",
          "Carrier",
          "Carrier",
          "Carrier",
          "Carrier",
          "Carrier",
          "Carrier",
          "Carrier",
          "Carrier",
          "Carrier",
          "Carrier",
          "Carrier",
          "Carrier",
          "Carrier",
          "Carrier",
          "Carrier",
          "Carrier",
          "Carrier",
          "Carrier",
          "Carrier",
          "Carrier",
          "Carrier",
          "Carrier",
          "Carrier",
          "Carrier",
          "Carrier",
          "Carrier",
          "Carrier",
          "Carrier",
          "Carrier",
          "Carrier",
          "Carrier",
          "Carrier",
          "Carrier",
          "Carrier",
          "Carrier",
          "Carrier",
          "Carrier",
          "Carrier",
          "Carrier",
          "Carrier",
          "Carrier",
          "Carrier",
          "Carrier",
          "Carrier",
          "Carrier",
          "Carrier",
          "Carrier",
          "Carrier",
          "Carrier",
          "Carrier",
          "Carrier",
          "Carrier",
          "Carrier",
          "Carrier",
          "Carrier",
          "Carrier",
          "Carrier",
          "Carrier",
          "Carrier",
          "Carrier",
          "Carrier",
          "Carrier",
          "Carrier",
          "Carrier",
          "Carrier",
          "Carrier",
          "Carrier",
          "Carrier",
          "Carrier",
          "Carrier",
          "Carrier",
          "Carrier",
          "Carrier",
          "Carrier",
          "Carrier",
          "Carrier",
          "Carrier",
          "Carrier",
          "Carrier",
          "Carrier",
          "Carrier",
          "Carrier",
          "Carrier",
          "Carrier",
          "Carrier",
          "Carrier",
          "Carrier",
          "Carrier",
          "Carrier",
          "Carrier",
          "Carrier",
          "Carrier",
          "Carrier",
          "Carrier",
          "Carrier",
          "Carrier",
          "Carrier",
          "Carrier",
          "Carrier",
          "Carrier",
          "Carrier",
          "Carrier",
          "Carrier",
          "Carrier",
          "Carrier",
          "Carrier",
          "Carrier",
          "Carrier",
          "Carrier",
          "Carrier",
          "Carrier",
          "Carrier",
          "Carrier",
          "Carrier",
          "Carrier",
          "Carrier",
          "Carrier",
          "Carrier",
          "Carrier",
          "Carrier",
          "Carrier",
          "Carrier",
          "Carrier",
          "Carrier",
          "Carrier",
          "Carrier",
          "Carrier",
          "Carrier",
          "Carrier",
          "Carrier",
          "Carrier",
          "Carrier",
          "Carrier",
          "Carrier",
          "Carrier",
          "Carrier",
          "Carrier",
          "Carrier",
          "Carrier",
          "Carrier",
          "Carrier",
          "Carrier",
          "Carrier",
          "Carrier",
          "Carrier",
          "Carrier",
          "Carrier",
          "Carrier",
          "Carrier",
          "Carrier",
          "Carrier",
          "Carrier",
          "Carrier",
          "Carrier",
          "Carrier",
          "Carrier",
          "Carrier",
          "Carrier",
          "Carrier",
          "Carrier",
          "Carrier",
          "Carrier",
          "Carrier",
          "Carrier",
          "Carrier",
          "Carrier",
          "Carrier",
          "Carrier",
          "Carrier",
          "Carrier",
          "Carrier",
          "Carrier",
          "Carrier",
          "Carrier",
          "Carrier",
          "Carrier",
          "Carrier",
          "Carrier",
          "Carrier",
          "Carrier",
          "Carrier",
          "Carrier",
          "Carrier",
          "Carrier",
          "Carrier",
          "Carrier",
          "Carrier",
          "Carrier",
          "Carrier",
          "Carrier",
          "Carrier",
          "Carrier",
          "Carrier",
          "Carrier",
          "Carrier",
          "Carrier",
          "Carrier",
          "Carrier",
          "Carrier",
          "Weather",
          "Weather",
          "Weather",
          "Weather",
          "Weather",
          "Weather",
          "Weather",
          "Weather",
          "Weather",
          "Weather",
          "Weather",
          "Weather",
          "Weather",
          "Weather",
          "Weather",
          "Weather",
          "Weather",
          "Weather",
          "Weather",
          "Weather",
          "Weather",
          "Weather",
          "Weather",
          "Weather",
          "Weather",
          "Weather",
          "Weather",
          "Weather",
          "Weather",
          "Weather",
          "Weather",
          "Weather",
          "Weather",
          "Weather",
          "Weather",
          "Weather",
          "Weather",
          "Weather",
          "Weather",
          "Weather",
          "Weather",
          "Weather",
          "Weather",
          "Weather",
          "Weather",
          "Weather",
          "Weather",
          "Weather",
          "Weather",
          "Weather",
          "Weather",
          "Weather",
          "Weather",
          "Weather",
          "Weather",
          "Weather",
          "Weather",
          "Weather",
          "Weather",
          "Weather",
          "Weather",
          "Weather",
          "Weather",
          "Weather",
          "Weather",
          "Weather",
          "Weather",
          "Weather",
          "Weather",
          "Weather",
          "Weather",
          "Weather",
          "Weather",
          "Weather",
          "Weather",
          "Weather",
          "Weather",
          "Weather",
          "Weather",
          "Weather",
          "Weather",
          "Weather",
          "Weather",
          "Weather",
          "Weather",
          "Weather",
          "Weather",
          "Weather",
          "Weather",
          "Weather",
          "Weather",
          "Weather",
          "Weather",
          "Weather",
          "Weather",
          "Weather",
          "Weather",
          "Weather",
          "Weather",
          "Weather",
          "Weather",
          "Weather",
          "Weather",
          "Weather",
          "Weather",
          "Weather",
          "Weather",
          "Weather",
          "Weather",
          "Weather",
          "Weather",
          "Weather",
          "Weather",
          "Weather",
          "Weather",
          "Weather",
          "Weather",
          "Weather",
          "Weather",
          "Weather",
          "Weather",
          "Weather",
          "Weather",
          "Weather",
          "Weather",
          "Weather",
          "Weather",
          "Weather",
          "Weather",
          "Weather",
          "Weather",
          "Weather",
          "Weather",
          "Weather",
          "Weather",
          "Weather",
          "Weather",
          "Weather",
          "Weather",
          "Weather",
          "Weather",
          "Weather",
          "Weather",
          "Weather",
          "Weather",
          "Weather",
          "Weather",
          "Weather",
          "Weather",
          "Weather",
          "Weather",
          "Weather",
          "Weather",
          "Weather",
          "Weather",
          "Weather",
          "Weather",
          "Weather",
          "Weather",
          "Weather",
          "Weather",
          "Weather",
          "Weather",
          "Weather",
          "Weather",
          "Weather",
          "Weather",
          "Weather",
          "Weather",
          "Weather",
          "Weather",
          "Weather",
          "Weather",
          "Weather",
          "Weather",
          "Weather",
          "Weather",
          "Weather",
          "Weather",
          "Weather",
          "Weather",
          "Weather",
          "Weather",
          "Weather",
          "Weather",
          "Weather",
          "Weather",
          "Weather",
          "Weather",
          "Weather",
          "Weather",
          "Weather",
          "Weather",
          "Weather",
          "Weather",
          "Weather",
          "Weather",
          "Weather",
          "Weather",
          "Weather",
          "Weather",
          "Weather",
          "Weather",
          "Weather",
          "Weather",
          "Weather",
          "Weather",
          "Weather",
          "Weather",
          "Weather",
          "Weather",
          "Weather",
          "Weather",
          "Weather",
          "Weather",
          "Weather",
          "Weather",
          "Weather",
          "Weather",
          "Weather",
          "Weather",
          "Weather",
          "Weather",
          "Weather",
          "Weather",
          "Weather",
          "Weather",
          "Weather",
          "Weather",
          "Weather",
          "Weather",
          "Weather",
          "Weather",
          "Weather",
          "Weather",
          "Weather",
          "Weather",
          "Weather",
          "Weather",
          "Weather",
          "Weather",
          "Weather",
          "Weather",
          "Weather",
          "Weather",
          "Weather",
          "Weather",
          "Weather",
          "Weather",
          "Weather",
          "Weather",
          "Weather",
          "Weather",
          "Weather",
          "Weather",
          "Weather",
          "Weather",
          "Weather",
          "Weather",
          "Weather",
          "Weather",
          "Weather",
          "Weather",
          "Weather",
          "Weather",
          "Weather",
          "Weather",
          "Weather",
          "Weather",
          "Weather",
          "Weather",
          "Weather",
          "Weather",
          "Weather",
          "Weather",
          "Weather",
          "Weather",
          "Weather",
          "Weather",
          "Weather",
          "Weather",
          "Weather",
          "Weather",
          "Weather",
          "Weather",
          "Weather",
          "Weather",
          "Weather",
          "Weather",
          "Weather",
          "Weather",
          "Weather",
          "Weather",
          "Weather",
          "Weather",
          "Weather",
          "Weather",
          "Weather",
          "Weather",
          "Weather",
          "Weather",
          "Weather",
          "Weather",
          "Weather",
          "Weather",
          "Weather",
          "Weather",
          "Weather",
          "Weather",
          "Weather",
          "Weather",
          "Weather",
          "Weather",
          "Weather",
          "Weather",
          "Weather",
          "Weather",
          "Weather",
          "Weather",
          "Weather",
          "Weather",
          "Weather",
          "Weather",
          "Weather",
          "Weather",
          "Weather",
          "Weather",
          "Weather",
          "Weather",
          "Weather",
          "Weather",
          "Weather",
          "Weather",
          "Weather",
          "Weather",
          "Weather",
          "Weather",
          "Weather",
          "Weather",
          "Weather",
          "Weather",
          "Weather",
          "Weather",
          "Weather",
          "Weather",
          "Weather",
          "Weather",
          "Weather",
          "Weather",
          "Weather",
          "Weather",
          "Weather",
          "Weather",
          "Weather",
          "Weather",
          "Weather",
          "Weather",
          "Weather",
          "Weather",
          "Weather",
          "Weather",
          "Weather",
          "Weather",
          "Weather",
          "Weather",
          "Weather",
          "Weather",
          "Weather",
          "Weather",
          "Weather",
          "Weather",
          "Weather",
          "Weather",
          "Weather",
          "Weather",
          "Weather",
          "Weather",
          "Weather",
          "Weather",
          "Weather",
          "Weather",
          "Weather",
          "Weather",
          "Weather",
          "Weather",
          "Weather",
          "Weather",
          "Weather",
          "Weather",
          "Weather",
          "Weather",
          "Nas",
          "Nas",
          "Nas",
          "Nas",
          "Nas",
          "Nas",
          "Nas",
          "Nas",
          "Nas",
          "Nas",
          "Nas",
          "Nas",
          "Nas",
          "Nas",
          "Nas",
          "Nas",
          "Nas",
          "Nas",
          "Nas",
          "Nas",
          "Nas",
          "Nas",
          "Nas",
          "Nas",
          "Nas",
          "Nas",
          "Nas",
          "Nas",
          "Nas",
          "Nas",
          "Nas",
          "Nas",
          "Nas",
          "Nas",
          "Nas",
          "Nas",
          "Nas",
          "Nas",
          "Nas",
          "Nas",
          "Nas",
          "Nas",
          "Nas",
          "Nas",
          "Nas",
          "Nas",
          "Nas",
          "Nas",
          "Nas",
          "Nas",
          "Nas",
          "Nas",
          "Nas",
          "Nas",
          "Nas",
          "Nas",
          "Nas",
          "Nas",
          "Nas",
          "Nas",
          "Nas",
          "Nas",
          "Nas",
          "Nas",
          "Nas",
          "Nas",
          "Nas",
          "Nas",
          "Nas",
          "Nas",
          "Nas",
          "Nas",
          "Nas",
          "Nas",
          "Nas",
          "Nas",
          "Nas",
          "Nas",
          "Nas",
          "Nas",
          "Nas",
          "Nas",
          "Nas",
          "Nas",
          "Nas",
          "Nas",
          "Nas",
          "Nas",
          "Nas",
          "Nas",
          "Nas",
          "Nas",
          "Nas",
          "Nas",
          "Nas",
          "Nas",
          "Nas",
          "Nas",
          "Nas",
          "Nas",
          "Nas",
          "Nas",
          "Nas",
          "Nas",
          "Nas",
          "Nas",
          "Nas",
          "Nas",
          "Nas",
          "Nas",
          "Nas",
          "Nas",
          "Nas",
          "Nas",
          "Nas",
          "Nas",
          "Nas",
          "Nas",
          "Nas",
          "Nas",
          "Nas",
          "Nas",
          "Nas",
          "Nas",
          "Nas",
          "Nas",
          "Nas",
          "Nas",
          "Nas",
          "Nas",
          "Nas",
          "Nas",
          "Nas",
          "Nas",
          "Nas",
          "Nas",
          "Nas",
          "Nas",
          "Nas",
          "Nas",
          "Nas",
          "Nas",
          "Nas",
          "Nas",
          "Nas",
          "Nas",
          "Nas",
          "Nas",
          "Nas",
          "Nas",
          "Nas",
          "Nas",
          "Nas",
          "Nas",
          "Nas",
          "Nas",
          "Nas",
          "Nas",
          "Nas",
          "Nas",
          "Nas",
          "Nas",
          "Nas",
          "Nas",
          "Nas",
          "Nas",
          "Nas",
          "Nas",
          "Nas",
          "Nas",
          "Nas",
          "Nas",
          "Nas",
          "Nas",
          "Nas",
          "Nas",
          "Nas",
          "Nas",
          "Nas",
          "Nas",
          "Nas",
          "Nas",
          "Nas",
          "Nas",
          "Nas",
          "Nas",
          "Nas",
          "Nas",
          "Nas",
          "Nas",
          "Nas",
          "Nas",
          "Nas",
          "Nas",
          "Nas",
          "Nas",
          "Nas",
          "Nas",
          "Nas",
          "Nas",
          "Nas",
          "Nas",
          "Nas",
          "Nas",
          "Nas",
          "Nas",
          "Nas",
          "Nas",
          "Nas",
          "Nas",
          "Nas",
          "Nas",
          "Nas",
          "Nas",
          "Nas",
          "Nas",
          "Nas",
          "Nas",
          "Nas",
          "Nas",
          "Nas",
          "Nas",
          "Nas",
          "Nas",
          "Nas",
          "Nas",
          "Nas",
          "Nas",
          "Nas",
          "Nas",
          "Nas",
          "Nas",
          "Nas",
          "Nas",
          "Nas",
          "Nas",
          "Nas",
          "Nas",
          "Nas",
          "Nas",
          "Nas",
          "Nas",
          "Nas",
          "Nas",
          "Nas",
          "Nas",
          "Nas",
          "Nas",
          "Nas",
          "Nas",
          "Nas",
          "Nas",
          "Nas",
          "Nas",
          "Nas",
          "Nas",
          "Nas",
          "Nas",
          "Nas",
          "Nas",
          "Nas",
          "Nas",
          "Nas",
          "Nas",
          "Nas",
          "Nas",
          "Nas",
          "Nas",
          "Nas",
          "Nas",
          "Nas",
          "Nas",
          "Nas",
          "Nas",
          "Nas",
          "Nas",
          "Nas",
          "Nas",
          "Nas",
          "Nas",
          "Nas",
          "Nas",
          "Nas",
          "Nas",
          "Nas",
          "Nas",
          "Nas",
          "Nas",
          "Nas",
          "Nas",
          "Nas",
          "Nas",
          "Nas",
          "Nas",
          "Nas",
          "Nas",
          "Nas",
          "Nas",
          "Nas",
          "Nas",
          "Nas",
          "Nas",
          "Nas",
          "Nas",
          "Nas",
          "Nas",
          "Nas",
          "Nas",
          "Nas",
          "Nas",
          "Nas",
          "Nas",
          "Nas",
          "Nas",
          "Nas",
          "Nas",
          "Nas",
          "Nas",
          "Nas",
          "Nas",
          "Nas",
          "Nas",
          "Nas",
          "Nas",
          "Nas",
          "Nas",
          "Nas",
          "Nas",
          "Nas",
          "Nas",
          "Nas",
          "Nas",
          "Nas",
          "Nas",
          "Nas",
          "Nas",
          "Nas",
          "Nas",
          "Nas",
          "Nas",
          "Nas",
          "Nas",
          "Nas",
          "Nas",
          "Nas",
          "Nas",
          "Nas",
          "Nas",
          "Nas",
          "Nas",
          "Nas",
          "Nas",
          "Nas",
          "Nas",
          "Nas",
          "Nas",
          "Nas",
          "Nas",
          "Nas",
          "Nas",
          "Nas",
          "Nas",
          "Nas",
          "Nas",
          "Nas",
          "Nas",
          "Nas",
          "Nas",
          "Nas",
          "Nas",
          "Nas",
          "Nas",
          "Nas",
          "Nas",
          "Nas",
          "Nas",
          "Nas",
          "Nas",
          "Nas",
          "Nas",
          "Nas",
          "Nas",
          "Nas",
          "Nas",
          "Nas",
          "Nas",
          "Nas",
          "Nas",
          "Nas",
          "Nas",
          "Nas",
          "Security",
          "Security",
          "Security",
          "Security",
          "Security",
          "Security",
          "Security",
          "Security",
          "Security",
          "Security",
          "Security",
          "Security",
          "Security",
          "Security",
          "Security",
          "Security",
          "Security",
          "Security",
          "Security",
          "Security",
          "Security",
          "Security",
          "Security",
          "Security",
          "Security",
          "Security",
          "Security",
          "Security",
          "Security",
          "Security",
          "Security",
          "Security",
          "Security",
          "Security",
          "Security",
          "Security",
          "Security",
          "Security",
          "Security",
          "Security",
          "Security",
          "Security",
          "Security",
          "Security",
          "Security",
          "Security",
          "Security",
          "Security",
          "Security",
          "Security",
          "Security",
          "Security",
          "Security",
          "Security",
          "Security",
          "Security",
          "Security",
          "Security",
          "Security",
          "Security",
          "Security",
          "Security",
          "Security",
          "Security",
          "Security",
          "Security",
          "Security",
          "Security",
          "Security",
          "Security",
          "Security",
          "Security",
          "Security",
          "Security",
          "Security",
          "Security",
          "Security",
          "Security",
          "Security",
          "Security",
          "Security",
          "Security",
          "Security",
          "Security",
          "Security",
          "Security",
          "Security",
          "Security",
          "Security",
          "Security",
          "Security",
          "Security",
          "Security",
          "Security",
          "Security",
          "Security",
          "Security",
          "Security",
          "Security",
          "Security",
          "Security",
          "Security",
          "Security",
          "Security",
          "Security",
          "Security",
          "Security",
          "Security",
          "Security",
          "Security",
          "Security",
          "Security",
          "Security",
          "Security",
          "Security",
          "Security",
          "Security",
          "Security",
          "Security",
          "Security",
          "Security",
          "Security",
          "Security",
          "Security",
          "Security",
          "Security",
          "Security",
          "Security",
          "Security",
          "Security",
          "Security",
          "Security",
          "Security",
          "Security",
          "Security",
          "Security",
          "Security",
          "Security",
          "Security",
          "Security",
          "Security",
          "Security",
          "Security",
          "Security",
          "Security",
          "Security",
          "Security",
          "Security",
          "Security",
          "Security",
          "Security",
          "Security",
          "Security",
          "Security",
          "Security",
          "Security",
          "Security",
          "Security",
          "Security",
          "Security",
          "Security",
          "Security",
          "Security",
          "Security",
          "Security",
          "Security",
          "Security",
          "Security",
          "Security",
          "Security",
          "Security",
          "Security",
          "Security",
          "Security",
          "Security",
          "Security",
          "Security",
          "Security",
          "Security",
          "Security",
          "Security",
          "Security",
          "Security",
          "Security",
          "Security",
          "Security",
          "Security",
          "Security",
          "Security",
          "Security",
          "Security",
          "Security",
          "Security",
          "Security",
          "Security",
          "Security",
          "Security",
          "Security",
          "Security",
          "Security",
          "Security",
          "Security",
          "Security",
          "Security",
          "Security",
          "Security",
          "Security",
          "Security",
          "Security",
          "Security",
          "Security",
          "Security",
          "Security",
          "Security",
          "Security",
          "Security",
          "Security",
          "Security",
          "Security",
          "Security",
          "Security",
          "Security",
          "Security",
          "Security",
          "Security",
          "Security",
          "Security",
          "Security",
          "Security",
          "Security",
          "Security",
          "Security",
          "Security",
          "Security",
          "Security",
          "Security",
          "Security",
          "Security",
          "Security",
          "Security",
          "Security",
          "Security",
          "Security",
          "Security",
          "Security",
          "Security",
          "Security",
          "Security",
          "Security",
          "Security",
          "Security",
          "Security",
          "Security",
          "Security",
          "Security",
          "Security",
          "Security",
          "Security",
          "Security",
          "Security",
          "Security",
          "Security",
          "Security",
          "Security",
          "Security",
          "Security",
          "Security",
          "Security",
          "Security",
          "Security",
          "Security",
          "Security",
          "Security",
          "Security",
          "Security",
          "Security",
          "Security",
          "Security",
          "Security",
          "Security",
          "Security",
          "Security",
          "Security",
          "Security",
          "Security",
          "Security",
          "Security",
          "Security",
          "Security",
          "Security",
          "Security",
          "Security",
          "Security",
          "Security",
          "Security",
          "Security",
          "Security",
          "Security",
          "Security",
          "Security",
          "Security",
          "Security",
          "Security",
          "Security",
          "Security",
          "Security",
          "Security",
          "Security",
          "Security",
          "Security",
          "Security",
          "Security",
          "Security",
          "Security",
          "Security",
          "Security",
          "Security",
          "Security",
          "Security",
          "Security",
          "Security",
          "Security",
          "Security",
          "Security",
          "Security",
          "Security",
          "Security",
          "Security",
          "Security",
          "Security",
          "Security",
          "Security",
          "Security",
          "Security",
          "Security",
          "Security",
          "Security",
          "Security",
          "Security",
          "Security",
          "Security",
          "Security",
          "Security",
          "Security",
          "Security",
          "Security",
          "Security",
          "Security",
          "Security",
          "Security",
          "Security",
          "Security",
          "Security",
          "Security",
          "Security",
          "Security",
          "Security",
          "Security",
          "Security",
          "Security",
          "Security",
          "Security",
          "Security",
          "Security",
          "Security",
          "Security",
          "Security",
          "Security",
          "Security",
          "Security",
          "Security",
          "Security",
          "Security",
          "Security",
          "Security",
          "Security",
          "Security",
          "Security",
          "Security",
          "Security",
          "Security",
          "Security",
          "Security",
          "Security",
          "Security",
          "Security",
          "Security",
          "Security",
          "Security",
          "Security",
          "Security",
          "Late Aircraft",
          "Late Aircraft",
          "Late Aircraft",
          "Late Aircraft",
          "Late Aircraft",
          "Late Aircraft",
          "Late Aircraft",
          "Late Aircraft",
          "Late Aircraft",
          "Late Aircraft",
          "Late Aircraft",
          "Late Aircraft",
          "Late Aircraft",
          "Late Aircraft",
          "Late Aircraft",
          "Late Aircraft",
          "Late Aircraft",
          "Late Aircraft",
          "Late Aircraft",
          "Late Aircraft",
          "Late Aircraft",
          "Late Aircraft",
          "Late Aircraft",
          "Late Aircraft",
          "Late Aircraft",
          "Late Aircraft",
          "Late Aircraft",
          "Late Aircraft",
          "Late Aircraft",
          "Late Aircraft",
          "Late Aircraft",
          "Late Aircraft",
          "Late Aircraft",
          "Late Aircraft",
          "Late Aircraft",
          "Late Aircraft",
          "Late Aircraft",
          "Late Aircraft",
          "Late Aircraft",
          "Late Aircraft",
          "Late Aircraft",
          "Late Aircraft",
          "Late Aircraft",
          "Late Aircraft",
          "Late Aircraft",
          "Late Aircraft",
          "Late Aircraft",
          "Late Aircraft",
          "Late Aircraft",
          "Late Aircraft",
          "Late Aircraft",
          "Late Aircraft",
          "Late Aircraft",
          "Late Aircraft",
          "Late Aircraft",
          "Late Aircraft",
          "Late Aircraft",
          "Late Aircraft",
          "Late Aircraft",
          "Late Aircraft",
          "Late Aircraft",
          "Late Aircraft",
          "Late Aircraft",
          "Late Aircraft",
          "Late Aircraft",
          "Late Aircraft",
          "Late Aircraft",
          "Late Aircraft",
          "Late Aircraft",
          "Late Aircraft",
          "Late Aircraft",
          "Late Aircraft",
          "Late Aircraft",
          "Late Aircraft",
          "Late Aircraft",
          "Late Aircraft",
          "Late Aircraft",
          "Late Aircraft",
          "Late Aircraft",
          "Late Aircraft",
          "Late Aircraft",
          "Late Aircraft",
          "Late Aircraft",
          "Late Aircraft",
          "Late Aircraft",
          "Late Aircraft",
          "Late Aircraft",
          "Late Aircraft",
          "Late Aircraft",
          "Late Aircraft",
          "Late Aircraft",
          "Late Aircraft",
          "Late Aircraft",
          "Late Aircraft",
          "Late Aircraft",
          "Late Aircraft",
          "Late Aircraft",
          "Late Aircraft",
          "Late Aircraft",
          "Late Aircraft",
          "Late Aircraft",
          "Late Aircraft",
          "Late Aircraft",
          "Late Aircraft",
          "Late Aircraft",
          "Late Aircraft",
          "Late Aircraft",
          "Late Aircraft",
          "Late Aircraft",
          "Late Aircraft",
          "Late Aircraft",
          "Late Aircraft",
          "Late Aircraft",
          "Late Aircraft",
          "Late Aircraft",
          "Late Aircraft",
          "Late Aircraft",
          "Late Aircraft",
          "Late Aircraft",
          "Late Aircraft",
          "Late Aircraft",
          "Late Aircraft",
          "Late Aircraft",
          "Late Aircraft",
          "Late Aircraft",
          "Late Aircraft",
          "Late Aircraft",
          "Late Aircraft",
          "Late Aircraft",
          "Late Aircraft",
          "Late Aircraft",
          "Late Aircraft",
          "Late Aircraft",
          "Late Aircraft",
          "Late Aircraft",
          "Late Aircraft",
          "Late Aircraft",
          "Late Aircraft",
          "Late Aircraft",
          "Late Aircraft",
          "Late Aircraft",
          "Late Aircraft",
          "Late Aircraft",
          "Late Aircraft",
          "Late Aircraft",
          "Late Aircraft",
          "Late Aircraft",
          "Late Aircraft",
          "Late Aircraft",
          "Late Aircraft",
          "Late Aircraft",
          "Late Aircraft",
          "Late Aircraft",
          "Late Aircraft",
          "Late Aircraft",
          "Late Aircraft",
          "Late Aircraft",
          "Late Aircraft",
          "Late Aircraft",
          "Late Aircraft",
          "Late Aircraft",
          "Late Aircraft",
          "Late Aircraft",
          "Late Aircraft",
          "Late Aircraft",
          "Late Aircraft",
          "Late Aircraft",
          "Late Aircraft",
          "Late Aircraft",
          "Late Aircraft",
          "Late Aircraft",
          "Late Aircraft",
          "Late Aircraft",
          "Late Aircraft",
          "Late Aircraft",
          "Late Aircraft",
          "Late Aircraft",
          "Late Aircraft",
          "Late Aircraft",
          "Late Aircraft",
          "Late Aircraft",
          "Late Aircraft",
          "Late Aircraft",
          "Late Aircraft",
          "Late Aircraft",
          "Late Aircraft",
          "Late Aircraft",
          "Late Aircraft",
          "Late Aircraft",
          "Late Aircraft",
          "Late Aircraft",
          "Late Aircraft",
          "Late Aircraft",
          "Late Aircraft",
          "Late Aircraft",
          "Late Aircraft",
          "Late Aircraft",
          "Late Aircraft",
          "Late Aircraft",
          "Late Aircraft",
          "Late Aircraft",
          "Late Aircraft",
          "Late Aircraft",
          "Late Aircraft",
          "Late Aircraft",
          "Late Aircraft",
          "Late Aircraft",
          "Late Aircraft",
          "Late Aircraft",
          "Late Aircraft",
          "Late Aircraft",
          "Late Aircraft",
          "Late Aircraft",
          "Late Aircraft",
          "Late Aircraft",
          "Late Aircraft",
          "Late Aircraft",
          "Late Aircraft",
          "Late Aircraft",
          "Late Aircraft",
          "Late Aircraft",
          "Late Aircraft",
          "Late Aircraft",
          "Late Aircraft",
          "Late Aircraft",
          "Late Aircraft",
          "Late Aircraft",
          "Late Aircraft",
          "Late Aircraft",
          "Late Aircraft",
          "Late Aircraft",
          "Late Aircraft",
          "Late Aircraft",
          "Late Aircraft",
          "Late Aircraft",
          "Late Aircraft",
          "Late Aircraft",
          "Late Aircraft",
          "Late Aircraft",
          "Late Aircraft",
          "Late Aircraft",
          "Late Aircraft",
          "Late Aircraft",
          "Late Aircraft",
          "Late Aircraft",
          "Late Aircraft",
          "Late Aircraft",
          "Late Aircraft",
          "Late Aircraft",
          "Late Aircraft",
          "Late Aircraft",
          "Late Aircraft",
          "Late Aircraft",
          "Late Aircraft",
          "Late Aircraft",
          "Late Aircraft",
          "Late Aircraft",
          "Late Aircraft",
          "Late Aircraft",
          "Late Aircraft",
          "Late Aircraft",
          "Late Aircraft",
          "Late Aircraft",
          "Late Aircraft",
          "Late Aircraft",
          "Late Aircraft",
          "Late Aircraft",
          "Late Aircraft",
          "Late Aircraft",
          "Late Aircraft",
          "Late Aircraft",
          "Late Aircraft",
          "Late Aircraft",
          "Late Aircraft",
          "Late Aircraft",
          "Late Aircraft",
          "Late Aircraft",
          "Late Aircraft",
          "Late Aircraft",
          "Late Aircraft",
          "Late Aircraft",
          "Late Aircraft",
          "Late Aircraft",
          "Late Aircraft",
          "Late Aircraft",
          "Late Aircraft",
          "Late Aircraft",
          "Late Aircraft",
          "Late Aircraft",
          "Late Aircraft",
          "Late Aircraft",
          "Late Aircraft",
          "Late Aircraft",
          "Late Aircraft",
          "Late Aircraft",
          "Late Aircraft",
          "Late Aircraft",
          "Late Aircraft",
          "Late Aircraft",
          "Late Aircraft",
          "Late Aircraft",
          "Late Aircraft",
          "Late Aircraft",
          "Late Aircraft",
          "Late Aircraft",
          "Late Aircraft",
          "Late Aircraft",
          "Late Aircraft",
          "Late Aircraft",
          "Late Aircraft",
          "Late Aircraft",
          "Late Aircraft",
          "Late Aircraft",
          "Late Aircraft",
          "Late Aircraft",
          "Late Aircraft",
          "Late Aircraft",
          "Late Aircraft",
          "Late Aircraft",
          "Late Aircraft",
          "Late Aircraft",
          "Late Aircraft",
          "Late Aircraft",
          "Late Aircraft",
          "Late Aircraft",
          "Late Aircraft",
          "Late Aircraft",
          "Late Aircraft",
          "Late Aircraft",
          "Late Aircraft",
          "Late Aircraft",
          "Late Aircraft",
          "Late Aircraft",
          "Late Aircraft",
          "Late Aircraft",
          "Late Aircraft",
          "Late Aircraft",
          "Late Aircraft",
          "Late Aircraft",
          "Late Aircraft",
          "Late Aircraft",
          "Late Aircraft",
          "Late Aircraft",
          "Late Aircraft",
          "Late Aircraft",
          "Late Aircraft",
          "Late Aircraft",
          "Late Aircraft",
          "Late Aircraft",
          "Late Aircraft",
          "Late Aircraft",
          "Late Aircraft",
          "Late Aircraft",
          "Late Aircraft",
          "Late Aircraft",
          "Late Aircraft",
          "Late Aircraft",
          "Late Aircraft",
          "Late Aircraft",
          "Late Aircraft",
          "Late Aircraft",
          "Late Aircraft",
          "Late Aircraft",
          "Late Aircraft",
          "Late Aircraft",
          "Late Aircraft",
          "Late Aircraft",
          "Late Aircraft",
          "Late Aircraft",
          "Late Aircraft",
          "Late Aircraft",
          "Late Aircraft",
          "Late Aircraft",
          "Late Aircraft",
          "Late Aircraft",
          "Late Aircraft",
          "Late Aircraft",
          "Late Aircraft",
          "Late Aircraft",
          "Late Aircraft",
          "Late Aircraft",
          "Late Aircraft",
          "Late Aircraft",
          "Late Aircraft",
          "Late Aircraft",
          "Late Aircraft",
          "Late Aircraft",
          "Late Aircraft",
          "Late Aircraft",
          "Late Aircraft",
          "Late Aircraft"
         ],
         "xaxis": "x",
         "xbingroup": "x",
         "y": [
          "ABE",
          "ABI",
          "ABQ",
          "ABR",
          "ABY",
          "ACK",
          "ACT",
          "ACV",
          "ACY",
          "ADK",
          "ADQ",
          "AEX",
          "AGS",
          "AKN",
          "ALB",
          "ALO",
          "ALS",
          "ALW",
          "AMA",
          "ANC",
          "APN",
          "ART",
          "ASE",
          "ATL",
          "ATW",
          "ATY",
          "AUS",
          "AVL",
          "AVP",
          "AZA",
          "AZO",
          "BDL",
          "BET",
          "BFF",
          "BFL",
          "BFM",
          "BGM",
          "BGR",
          "BHM",
          "BIH",
          "BIL",
          "BIS",
          "BJI",
          "BKG",
          "BLI",
          "BLV",
          "BMI",
          "BNA",
          "BOI",
          "BOS",
          "BPT",
          "BQK",
          "BQN",
          "BRD",
          "BRO",
          "BRW",
          "BTM",
          "BTR",
          "BTV",
          "BUF",
          "BUR",
          "BWI",
          "BZN",
          "CAE",
          "CAK",
          "CDB",
          "CDC",
          "CDV",
          "CEC",
          "CGI",
          "CHA",
          "CHO",
          "CHS",
          "CIC",
          "CID",
          "CIU",
          "CKB",
          "CLD",
          "CLE",
          "CLL",
          "CLT",
          "CMH",
          "CMI",
          "CMX",
          "CNY",
          "COD",
          "COS",
          "COU",
          "CPR",
          "CRP",
          "CRW",
          "CSG",
          "CVG",
          "CWA",
          "CYS",
          "DAB",
          "DAL",
          "DAY",
          "DBQ",
          "DCA",
          "DDC",
          "DEC",
          "DEN",
          "DFW",
          "DHN",
          "DIK",
          "DLG",
          "DLH",
          "DRO",
          "DRT",
          "DSM",
          "DTW",
          "DVL",
          "EAR",
          "EAT",
          "EAU",
          "ECP",
          "EGE",
          "EKO",
          "ELM",
          "ELP",
          "ERI",
          "ESC",
          "EUG",
          "EVV",
          "EWN",
          "EWR",
          "EYW",
          "FAI",
          "FAR",
          "FAT",
          "FAY",
          "FCA",
          "FLG",
          "FLL",
          "FLO",
          "FNL",
          "FNT",
          "FOD",
          "FOE",
          "FSD",
          "FSM",
          "FWA",
          "GCC",
          "GCK",
          "GEG",
          "GFK",
          "GGG",
          "GJT",
          "GNV",
          "GPT",
          "GRB",
          "GRI",
          "GRK",
          "GRR",
          "GSO",
          "GSP",
          "GST",
          "GTF",
          "GTR",
          "GUC",
          "GUM",
          "HDN",
          "HGR",
          "HHH",
          "HIB",
          "HLN",
          "HNL",
          "HOB",
          "HOU",
          "HPN",
          "HRL",
          "HSV",
          "HTS",
          "HVN",
          "HYA",
          "HYS",
          "IAD",
          "IAG",
          "IAH",
          "ICT",
          "IDA",
          "IFP",
          "ILG",
          "ILM",
          "IMT",
          "IND",
          "INL",
          "IPT",
          "ISN",
          "ISP",
          "ITH",
          "ITO",
          "IYK",
          "JAC",
          "JAN",
          "JAX",
          "JFK",
          "JLN",
          "JMS",
          "JNU",
          "JST",
          "KOA",
          "KTN",
          "LAN",
          "LAR",
          "LAS",
          "LAW",
          "LAX",
          "LBB",
          "LBE",
          "LBF",
          "LBL",
          "LCH",
          "LCK",
          "LEX",
          "LFT",
          "LGA",
          "LGB",
          "LIH",
          "LIT",
          "LMT",
          "LNK",
          "LRD",
          "LSE",
          "LWB",
          "LWS",
          "LYH",
          "MAF",
          "MBS",
          "MCI",
          "MCO",
          "MCW",
          "MDT",
          "MDW",
          "MEI",
          "MEM",
          "MFE",
          "MFR",
          "MGM",
          "MHK",
          "MHT",
          "MIA",
          "MKE",
          "MKG",
          "MLB",
          "MLI",
          "MLU",
          "MMH",
          "MOB",
          "MOD",
          "MOT",
          "MQT",
          "MRY",
          "MSN",
          "MSO",
          "MSP",
          "MSY",
          "MTJ",
          "MVY",
          "MYR",
          "OAJ",
          "OAK",
          "OGD",
          "OGG",
          "OGS",
          "OKC",
          "OMA",
          "OME",
          "ONT",
          "ORD",
          "ORF",
          "ORH",
          "OTH",
          "OTZ",
          "OWB",
          "PAE",
          "PAH",
          "PBG",
          "PBI",
          "PDX",
          "PGD",
          "PGV",
          "PHF",
          "PHL",
          "PHX",
          "PIA",
          "PIB",
          "PIE",
          "PIH",
          "PIR",
          "PIT",
          "PLN",
          "PNS",
          "PPG",
          "PRC",
          "PSC",
          "PSE",
          "PSG",
          "PSM",
          "PSP",
          "PUB",
          "PUW",
          "PVD",
          "PVU",
          "PWM",
          "RAP",
          "RDD",
          "RDM",
          "RDU",
          "RFD",
          "RHI",
          "RIC",
          "RIW",
          "RKS",
          "RNO",
          "ROA",
          "ROC",
          "ROW",
          "RST",
          "RSW",
          "SAF",
          "SAN",
          "SAT",
          "SAV",
          "SBA",
          "SBN",
          "SBP",
          "SCC",
          "SCE",
          "SCK",
          "SDF",
          "SEA",
          "SFB",
          "SFO",
          "SGF",
          "SGU",
          "SHD",
          "SHR",
          "SHV",
          "SIT",
          "SJC",
          "SJT",
          "SJU",
          "SLC",
          "SLN",
          "SMF",
          "SMX",
          "SNA",
          "SPI",
          "SPN",
          "SPS",
          "SRQ",
          "STC",
          "STL",
          "STS",
          "STT",
          "STX",
          "SUN",
          "SUX",
          "SWF",
          "SWO",
          "SYR",
          "TBN",
          "TLH",
          "TOL",
          "TPA",
          "TRI",
          "TTN",
          "TUL",
          "TUS",
          "TVC",
          "TWF",
          "TXK",
          "TYR",
          "TYS",
          "UIN",
          "USA",
          "UST",
          "VCT",
          "VEL",
          "VLD",
          "VPS",
          "WRG",
          "WYS",
          "XNA",
          "XWA",
          "YAK",
          "YKM",
          "YNG",
          "YUM",
          "ABE",
          "ABI",
          "ABQ",
          "ABR",
          "ABY",
          "ACK",
          "ACT",
          "ACV",
          "ACY",
          "ADK",
          "ADQ",
          "AEX",
          "AGS",
          "AKN",
          "ALB",
          "ALO",
          "ALS",
          "ALW",
          "AMA",
          "ANC",
          "APN",
          "ART",
          "ASE",
          "ATL",
          "ATW",
          "ATY",
          "AUS",
          "AVL",
          "AVP",
          "AZA",
          "AZO",
          "BDL",
          "BET",
          "BFF",
          "BFL",
          "BFM",
          "BGM",
          "BGR",
          "BHM",
          "BIH",
          "BIL",
          "BIS",
          "BJI",
          "BKG",
          "BLI",
          "BLV",
          "BMI",
          "BNA",
          "BOI",
          "BOS",
          "BPT",
          "BQK",
          "BQN",
          "BRD",
          "BRO",
          "BRW",
          "BTM",
          "BTR",
          "BTV",
          "BUF",
          "BUR",
          "BWI",
          "BZN",
          "CAE",
          "CAK",
          "CDB",
          "CDC",
          "CDV",
          "CEC",
          "CGI",
          "CHA",
          "CHO",
          "CHS",
          "CIC",
          "CID",
          "CIU",
          "CKB",
          "CLD",
          "CLE",
          "CLL",
          "CLT",
          "CMH",
          "CMI",
          "CMX",
          "CNY",
          "COD",
          "COS",
          "COU",
          "CPR",
          "CRP",
          "CRW",
          "CSG",
          "CVG",
          "CWA",
          "CYS",
          "DAB",
          "DAL",
          "DAY",
          "DBQ",
          "DCA",
          "DDC",
          "DEC",
          "DEN",
          "DFW",
          "DHN",
          "DIK",
          "DLG",
          "DLH",
          "DRO",
          "DRT",
          "DSM",
          "DTW",
          "DVL",
          "EAR",
          "EAT",
          "EAU",
          "ECP",
          "EGE",
          "EKO",
          "ELM",
          "ELP",
          "ERI",
          "ESC",
          "EUG",
          "EVV",
          "EWN",
          "EWR",
          "EYW",
          "FAI",
          "FAR",
          "FAT",
          "FAY",
          "FCA",
          "FLG",
          "FLL",
          "FLO",
          "FNL",
          "FNT",
          "FOD",
          "FOE",
          "FSD",
          "FSM",
          "FWA",
          "GCC",
          "GCK",
          "GEG",
          "GFK",
          "GGG",
          "GJT",
          "GNV",
          "GPT",
          "GRB",
          "GRI",
          "GRK",
          "GRR",
          "GSO",
          "GSP",
          "GST",
          "GTF",
          "GTR",
          "GUC",
          "GUM",
          "HDN",
          "HGR",
          "HHH",
          "HIB",
          "HLN",
          "HNL",
          "HOB",
          "HOU",
          "HPN",
          "HRL",
          "HSV",
          "HTS",
          "HVN",
          "HYA",
          "HYS",
          "IAD",
          "IAG",
          "IAH",
          "ICT",
          "IDA",
          "IFP",
          "ILG",
          "ILM",
          "IMT",
          "IND",
          "INL",
          "IPT",
          "ISN",
          "ISP",
          "ITH",
          "ITO",
          "IYK",
          "JAC",
          "JAN",
          "JAX",
          "JFK",
          "JLN",
          "JMS",
          "JNU",
          "JST",
          "KOA",
          "KTN",
          "LAN",
          "LAR",
          "LAS",
          "LAW",
          "LAX",
          "LBB",
          "LBE",
          "LBF",
          "LBL",
          "LCH",
          "LCK",
          "LEX",
          "LFT",
          "LGA",
          "LGB",
          "LIH",
          "LIT",
          "LMT",
          "LNK",
          "LRD",
          "LSE",
          "LWB",
          "LWS",
          "LYH",
          "MAF",
          "MBS",
          "MCI",
          "MCO",
          "MCW",
          "MDT",
          "MDW",
          "MEI",
          "MEM",
          "MFE",
          "MFR",
          "MGM",
          "MHK",
          "MHT",
          "MIA",
          "MKE",
          "MKG",
          "MLB",
          "MLI",
          "MLU",
          "MMH",
          "MOB",
          "MOD",
          "MOT",
          "MQT",
          "MRY",
          "MSN",
          "MSO",
          "MSP",
          "MSY",
          "MTJ",
          "MVY",
          "MYR",
          "OAJ",
          "OAK",
          "OGD",
          "OGG",
          "OGS",
          "OKC",
          "OMA",
          "OME",
          "ONT",
          "ORD",
          "ORF",
          "ORH",
          "OTH",
          "OTZ",
          "OWB",
          "PAE",
          "PAH",
          "PBG",
          "PBI",
          "PDX",
          "PGD",
          "PGV",
          "PHF",
          "PHL",
          "PHX",
          "PIA",
          "PIB",
          "PIE",
          "PIH",
          "PIR",
          "PIT",
          "PLN",
          "PNS",
          "PPG",
          "PRC",
          "PSC",
          "PSE",
          "PSG",
          "PSM",
          "PSP",
          "PUB",
          "PUW",
          "PVD",
          "PVU",
          "PWM",
          "RAP",
          "RDD",
          "RDM",
          "RDU",
          "RFD",
          "RHI",
          "RIC",
          "RIW",
          "RKS",
          "RNO",
          "ROA",
          "ROC",
          "ROW",
          "RST",
          "RSW",
          "SAF",
          "SAN",
          "SAT",
          "SAV",
          "SBA",
          "SBN",
          "SBP",
          "SCC",
          "SCE",
          "SCK",
          "SDF",
          "SEA",
          "SFB",
          "SFO",
          "SGF",
          "SGU",
          "SHD",
          "SHR",
          "SHV",
          "SIT",
          "SJC",
          "SJT",
          "SJU",
          "SLC",
          "SLN",
          "SMF",
          "SMX",
          "SNA",
          "SPI",
          "SPN",
          "SPS",
          "SRQ",
          "STC",
          "STL",
          "STS",
          "STT",
          "STX",
          "SUN",
          "SUX",
          "SWF",
          "SWO",
          "SYR",
          "TBN",
          "TLH",
          "TOL",
          "TPA",
          "TRI",
          "TTN",
          "TUL",
          "TUS",
          "TVC",
          "TWF",
          "TXK",
          "TYR",
          "TYS",
          "UIN",
          "USA",
          "UST",
          "VCT",
          "VEL",
          "VLD",
          "VPS",
          "WRG",
          "WYS",
          "XNA",
          "XWA",
          "YAK",
          "YKM",
          "YNG",
          "YUM",
          "ABE",
          "ABI",
          "ABQ",
          "ABR",
          "ABY",
          "ACK",
          "ACT",
          "ACV",
          "ACY",
          "ADK",
          "ADQ",
          "AEX",
          "AGS",
          "AKN",
          "ALB",
          "ALO",
          "ALS",
          "ALW",
          "AMA",
          "ANC",
          "APN",
          "ART",
          "ASE",
          "ATL",
          "ATW",
          "ATY",
          "AUS",
          "AVL",
          "AVP",
          "AZA",
          "AZO",
          "BDL",
          "BET",
          "BFF",
          "BFL",
          "BFM",
          "BGM",
          "BGR",
          "BHM",
          "BIH",
          "BIL",
          "BIS",
          "BJI",
          "BKG",
          "BLI",
          "BLV",
          "BMI",
          "BNA",
          "BOI",
          "BOS",
          "BPT",
          "BQK",
          "BQN",
          "BRD",
          "BRO",
          "BRW",
          "BTM",
          "BTR",
          "BTV",
          "BUF",
          "BUR",
          "BWI",
          "BZN",
          "CAE",
          "CAK",
          "CDB",
          "CDC",
          "CDV",
          "CEC",
          "CGI",
          "CHA",
          "CHO",
          "CHS",
          "CIC",
          "CID",
          "CIU",
          "CKB",
          "CLD",
          "CLE",
          "CLL",
          "CLT",
          "CMH",
          "CMI",
          "CMX",
          "CNY",
          "COD",
          "COS",
          "COU",
          "CPR",
          "CRP",
          "CRW",
          "CSG",
          "CVG",
          "CWA",
          "CYS",
          "DAB",
          "DAL",
          "DAY",
          "DBQ",
          "DCA",
          "DDC",
          "DEC",
          "DEN",
          "DFW",
          "DHN",
          "DIK",
          "DLG",
          "DLH",
          "DRO",
          "DRT",
          "DSM",
          "DTW",
          "DVL",
          "EAR",
          "EAT",
          "EAU",
          "ECP",
          "EGE",
          "EKO",
          "ELM",
          "ELP",
          "ERI",
          "ESC",
          "EUG",
          "EVV",
          "EWN",
          "EWR",
          "EYW",
          "FAI",
          "FAR",
          "FAT",
          "FAY",
          "FCA",
          "FLG",
          "FLL",
          "FLO",
          "FNL",
          "FNT",
          "FOD",
          "FOE",
          "FSD",
          "FSM",
          "FWA",
          "GCC",
          "GCK",
          "GEG",
          "GFK",
          "GGG",
          "GJT",
          "GNV",
          "GPT",
          "GRB",
          "GRI",
          "GRK",
          "GRR",
          "GSO",
          "GSP",
          "GST",
          "GTF",
          "GTR",
          "GUC",
          "GUM",
          "HDN",
          "HGR",
          "HHH",
          "HIB",
          "HLN",
          "HNL",
          "HOB",
          "HOU",
          "HPN",
          "HRL",
          "HSV",
          "HTS",
          "HVN",
          "HYA",
          "HYS",
          "IAD",
          "IAG",
          "IAH",
          "ICT",
          "IDA",
          "IFP",
          "ILG",
          "ILM",
          "IMT",
          "IND",
          "INL",
          "IPT",
          "ISN",
          "ISP",
          "ITH",
          "ITO",
          "IYK",
          "JAC",
          "JAN",
          "JAX",
          "JFK",
          "JLN",
          "JMS",
          "JNU",
          "JST",
          "KOA",
          "KTN",
          "LAN",
          "LAR",
          "LAS",
          "LAW",
          "LAX",
          "LBB",
          "LBE",
          "LBF",
          "LBL",
          "LCH",
          "LCK",
          "LEX",
          "LFT",
          "LGA",
          "LGB",
          "LIH",
          "LIT",
          "LMT",
          "LNK",
          "LRD",
          "LSE",
          "LWB",
          "LWS",
          "LYH",
          "MAF",
          "MBS",
          "MCI",
          "MCO",
          "MCW",
          "MDT",
          "MDW",
          "MEI",
          "MEM",
          "MFE",
          "MFR",
          "MGM",
          "MHK",
          "MHT",
          "MIA",
          "MKE",
          "MKG",
          "MLB",
          "MLI",
          "MLU",
          "MMH",
          "MOB",
          "MOD",
          "MOT",
          "MQT",
          "MRY",
          "MSN",
          "MSO",
          "MSP",
          "MSY",
          "MTJ",
          "MVY",
          "MYR",
          "OAJ",
          "OAK",
          "OGD",
          "OGG",
          "OGS",
          "OKC",
          "OMA",
          "OME",
          "ONT",
          "ORD",
          "ORF",
          "ORH",
          "OTH",
          "OTZ",
          "OWB",
          "PAE",
          "PAH",
          "PBG",
          "PBI",
          "PDX",
          "PGD",
          "PGV",
          "PHF",
          "PHL",
          "PHX",
          "PIA",
          "PIB",
          "PIE",
          "PIH",
          "PIR",
          "PIT",
          "PLN",
          "PNS",
          "PPG",
          "PRC",
          "PSC",
          "PSE",
          "PSG",
          "PSM",
          "PSP",
          "PUB",
          "PUW",
          "PVD",
          "PVU",
          "PWM",
          "RAP",
          "RDD",
          "RDM",
          "RDU",
          "RFD",
          "RHI",
          "RIC",
          "RIW",
          "RKS",
          "RNO",
          "ROA",
          "ROC",
          "ROW",
          "RST",
          "RSW",
          "SAF",
          "SAN",
          "SAT",
          "SAV",
          "SBA",
          "SBN",
          "SBP",
          "SCC",
          "SCE",
          "SCK",
          "SDF",
          "SEA",
          "SFB",
          "SFO",
          "SGF",
          "SGU",
          "SHD",
          "SHR",
          "SHV",
          "SIT",
          "SJC",
          "SJT",
          "SJU",
          "SLC",
          "SLN",
          "SMF",
          "SMX",
          "SNA",
          "SPI",
          "SPN",
          "SPS",
          "SRQ",
          "STC",
          "STL",
          "STS",
          "STT",
          "STX",
          "SUN",
          "SUX",
          "SWF",
          "SWO",
          "SYR",
          "TBN",
          "TLH",
          "TOL",
          "TPA",
          "TRI",
          "TTN",
          "TUL",
          "TUS",
          "TVC",
          "TWF",
          "TXK",
          "TYR",
          "TYS",
          "UIN",
          "USA",
          "UST",
          "VCT",
          "VEL",
          "VLD",
          "VPS",
          "WRG",
          "WYS",
          "XNA",
          "XWA",
          "YAK",
          "YKM",
          "YNG",
          "YUM",
          "ABE",
          "ABI",
          "ABQ",
          "ABR",
          "ABY",
          "ACK",
          "ACT",
          "ACV",
          "ACY",
          "ADK",
          "ADQ",
          "AEX",
          "AGS",
          "AKN",
          "ALB",
          "ALO",
          "ALS",
          "ALW",
          "AMA",
          "ANC",
          "APN",
          "ART",
          "ASE",
          "ATL",
          "ATW",
          "ATY",
          "AUS",
          "AVL",
          "AVP",
          "AZA",
          "AZO",
          "BDL",
          "BET",
          "BFF",
          "BFL",
          "BFM",
          "BGM",
          "BGR",
          "BHM",
          "BIH",
          "BIL",
          "BIS",
          "BJI",
          "BKG",
          "BLI",
          "BLV",
          "BMI",
          "BNA",
          "BOI",
          "BOS",
          "BPT",
          "BQK",
          "BQN",
          "BRD",
          "BRO",
          "BRW",
          "BTM",
          "BTR",
          "BTV",
          "BUF",
          "BUR",
          "BWI",
          "BZN",
          "CAE",
          "CAK",
          "CDB",
          "CDC",
          "CDV",
          "CEC",
          "CGI",
          "CHA",
          "CHO",
          "CHS",
          "CIC",
          "CID",
          "CIU",
          "CKB",
          "CLD",
          "CLE",
          "CLL",
          "CLT",
          "CMH",
          "CMI",
          "CMX",
          "CNY",
          "COD",
          "COS",
          "COU",
          "CPR",
          "CRP",
          "CRW",
          "CSG",
          "CVG",
          "CWA",
          "CYS",
          "DAB",
          "DAL",
          "DAY",
          "DBQ",
          "DCA",
          "DDC",
          "DEC",
          "DEN",
          "DFW",
          "DHN",
          "DIK",
          "DLG",
          "DLH",
          "DRO",
          "DRT",
          "DSM",
          "DTW",
          "DVL",
          "EAR",
          "EAT",
          "EAU",
          "ECP",
          "EGE",
          "EKO",
          "ELM",
          "ELP",
          "ERI",
          "ESC",
          "EUG",
          "EVV",
          "EWN",
          "EWR",
          "EYW",
          "FAI",
          "FAR",
          "FAT",
          "FAY",
          "FCA",
          "FLG",
          "FLL",
          "FLO",
          "FNL",
          "FNT",
          "FOD",
          "FOE",
          "FSD",
          "FSM",
          "FWA",
          "GCC",
          "GCK",
          "GEG",
          "GFK",
          "GGG",
          "GJT",
          "GNV",
          "GPT",
          "GRB",
          "GRI",
          "GRK",
          "GRR",
          "GSO",
          "GSP",
          "GST",
          "GTF",
          "GTR",
          "GUC",
          "GUM",
          "HDN",
          "HGR",
          "HHH",
          "HIB",
          "HLN",
          "HNL",
          "HOB",
          "HOU",
          "HPN",
          "HRL",
          "HSV",
          "HTS",
          "HVN",
          "HYA",
          "HYS",
          "IAD",
          "IAG",
          "IAH",
          "ICT",
          "IDA",
          "IFP",
          "ILG",
          "ILM",
          "IMT",
          "IND",
          "INL",
          "IPT",
          "ISN",
          "ISP",
          "ITH",
          "ITO",
          "IYK",
          "JAC",
          "JAN",
          "JAX",
          "JFK",
          "JLN",
          "JMS",
          "JNU",
          "JST",
          "KOA",
          "KTN",
          "LAN",
          "LAR",
          "LAS",
          "LAW",
          "LAX",
          "LBB",
          "LBE",
          "LBF",
          "LBL",
          "LCH",
          "LCK",
          "LEX",
          "LFT",
          "LGA",
          "LGB",
          "LIH",
          "LIT",
          "LMT",
          "LNK",
          "LRD",
          "LSE",
          "LWB",
          "LWS",
          "LYH",
          "MAF",
          "MBS",
          "MCI",
          "MCO",
          "MCW",
          "MDT",
          "MDW",
          "MEI",
          "MEM",
          "MFE",
          "MFR",
          "MGM",
          "MHK",
          "MHT",
          "MIA",
          "MKE",
          "MKG",
          "MLB",
          "MLI",
          "MLU",
          "MMH",
          "MOB",
          "MOD",
          "MOT",
          "MQT",
          "MRY",
          "MSN",
          "MSO",
          "MSP",
          "MSY",
          "MTJ",
          "MVY",
          "MYR",
          "OAJ",
          "OAK",
          "OGD",
          "OGG",
          "OGS",
          "OKC",
          "OMA",
          "OME",
          "ONT",
          "ORD",
          "ORF",
          "ORH",
          "OTH",
          "OTZ",
          "OWB",
          "PAE",
          "PAH",
          "PBG",
          "PBI",
          "PDX",
          "PGD",
          "PGV",
          "PHF",
          "PHL",
          "PHX",
          "PIA",
          "PIB",
          "PIE",
          "PIH",
          "PIR",
          "PIT",
          "PLN",
          "PNS",
          "PPG",
          "PRC",
          "PSC",
          "PSE",
          "PSG",
          "PSM",
          "PSP",
          "PUB",
          "PUW",
          "PVD",
          "PVU",
          "PWM",
          "RAP",
          "RDD",
          "RDM",
          "RDU",
          "RFD",
          "RHI",
          "RIC",
          "RIW",
          "RKS",
          "RNO",
          "ROA",
          "ROC",
          "ROW",
          "RST",
          "RSW",
          "SAF",
          "SAN",
          "SAT",
          "SAV",
          "SBA",
          "SBN",
          "SBP",
          "SCC",
          "SCE",
          "SCK",
          "SDF",
          "SEA",
          "SFB",
          "SFO",
          "SGF",
          "SGU",
          "SHD",
          "SHR",
          "SHV",
          "SIT",
          "SJC",
          "SJT",
          "SJU",
          "SLC",
          "SLN",
          "SMF",
          "SMX",
          "SNA",
          "SPI",
          "SPN",
          "SPS",
          "SRQ",
          "STC",
          "STL",
          "STS",
          "STT",
          "STX",
          "SUN",
          "SUX",
          "SWF",
          "SWO",
          "SYR",
          "TBN",
          "TLH",
          "TOL",
          "TPA",
          "TRI",
          "TTN",
          "TUL",
          "TUS",
          "TVC",
          "TWF",
          "TXK",
          "TYR",
          "TYS",
          "UIN",
          "USA",
          "UST",
          "VCT",
          "VEL",
          "VLD",
          "VPS",
          "WRG",
          "WYS",
          "XNA",
          "XWA",
          "YAK",
          "YKM",
          "YNG",
          "YUM",
          "ABE",
          "ABI",
          "ABQ",
          "ABR",
          "ABY",
          "ACK",
          "ACT",
          "ACV",
          "ACY",
          "ADK",
          "ADQ",
          "AEX",
          "AGS",
          "AKN",
          "ALB",
          "ALO",
          "ALS",
          "ALW",
          "AMA",
          "ANC",
          "APN",
          "ART",
          "ASE",
          "ATL",
          "ATW",
          "ATY",
          "AUS",
          "AVL",
          "AVP",
          "AZA",
          "AZO",
          "BDL",
          "BET",
          "BFF",
          "BFL",
          "BFM",
          "BGM",
          "BGR",
          "BHM",
          "BIH",
          "BIL",
          "BIS",
          "BJI",
          "BKG",
          "BLI",
          "BLV",
          "BMI",
          "BNA",
          "BOI",
          "BOS",
          "BPT",
          "BQK",
          "BQN",
          "BRD",
          "BRO",
          "BRW",
          "BTM",
          "BTR",
          "BTV",
          "BUF",
          "BUR",
          "BWI",
          "BZN",
          "CAE",
          "CAK",
          "CDB",
          "CDC",
          "CDV",
          "CEC",
          "CGI",
          "CHA",
          "CHO",
          "CHS",
          "CIC",
          "CID",
          "CIU",
          "CKB",
          "CLD",
          "CLE",
          "CLL",
          "CLT",
          "CMH",
          "CMI",
          "CMX",
          "CNY",
          "COD",
          "COS",
          "COU",
          "CPR",
          "CRP",
          "CRW",
          "CSG",
          "CVG",
          "CWA",
          "CYS",
          "DAB",
          "DAL",
          "DAY",
          "DBQ",
          "DCA",
          "DDC",
          "DEC",
          "DEN",
          "DFW",
          "DHN",
          "DIK",
          "DLG",
          "DLH",
          "DRO",
          "DRT",
          "DSM",
          "DTW",
          "DVL",
          "EAR",
          "EAT",
          "EAU",
          "ECP",
          "EGE",
          "EKO",
          "ELM",
          "ELP",
          "ERI",
          "ESC",
          "EUG",
          "EVV",
          "EWN",
          "EWR",
          "EYW",
          "FAI",
          "FAR",
          "FAT",
          "FAY",
          "FCA",
          "FLG",
          "FLL",
          "FLO",
          "FNL",
          "FNT",
          "FOD",
          "FOE",
          "FSD",
          "FSM",
          "FWA",
          "GCC",
          "GCK",
          "GEG",
          "GFK",
          "GGG",
          "GJT",
          "GNV",
          "GPT",
          "GRB",
          "GRI",
          "GRK",
          "GRR",
          "GSO",
          "GSP",
          "GST",
          "GTF",
          "GTR",
          "GUC",
          "GUM",
          "HDN",
          "HGR",
          "HHH",
          "HIB",
          "HLN",
          "HNL",
          "HOB",
          "HOU",
          "HPN",
          "HRL",
          "HSV",
          "HTS",
          "HVN",
          "HYA",
          "HYS",
          "IAD",
          "IAG",
          "IAH",
          "ICT",
          "IDA",
          "IFP",
          "ILG",
          "ILM",
          "IMT",
          "IND",
          "INL",
          "IPT",
          "ISN",
          "ISP",
          "ITH",
          "ITO",
          "IYK",
          "JAC",
          "JAN",
          "JAX",
          "JFK",
          "JLN",
          "JMS",
          "JNU",
          "JST",
          "KOA",
          "KTN",
          "LAN",
          "LAR",
          "LAS",
          "LAW",
          "LAX",
          "LBB",
          "LBE",
          "LBF",
          "LBL",
          "LCH",
          "LCK",
          "LEX",
          "LFT",
          "LGA",
          "LGB",
          "LIH",
          "LIT",
          "LMT",
          "LNK",
          "LRD",
          "LSE",
          "LWB",
          "LWS",
          "LYH",
          "MAF",
          "MBS",
          "MCI",
          "MCO",
          "MCW",
          "MDT",
          "MDW",
          "MEI",
          "MEM",
          "MFE",
          "MFR",
          "MGM",
          "MHK",
          "MHT",
          "MIA",
          "MKE",
          "MKG",
          "MLB",
          "MLI",
          "MLU",
          "MMH",
          "MOB",
          "MOD",
          "MOT",
          "MQT",
          "MRY",
          "MSN",
          "MSO",
          "MSP",
          "MSY",
          "MTJ",
          "MVY",
          "MYR",
          "OAJ",
          "OAK",
          "OGD",
          "OGG",
          "OGS",
          "OKC",
          "OMA",
          "OME",
          "ONT",
          "ORD",
          "ORF",
          "ORH",
          "OTH",
          "OTZ",
          "OWB",
          "PAE",
          "PAH",
          "PBG",
          "PBI",
          "PDX",
          "PGD",
          "PGV",
          "PHF",
          "PHL",
          "PHX",
          "PIA",
          "PIB",
          "PIE",
          "PIH",
          "PIR",
          "PIT",
          "PLN",
          "PNS",
          "PPG",
          "PRC",
          "PSC",
          "PSE",
          "PSG",
          "PSM",
          "PSP",
          "PUB",
          "PUW",
          "PVD",
          "PVU",
          "PWM",
          "RAP",
          "RDD",
          "RDM",
          "RDU",
          "RFD",
          "RHI",
          "RIC",
          "RIW",
          "RKS",
          "RNO",
          "ROA",
          "ROC",
          "ROW",
          "RST",
          "RSW",
          "SAF",
          "SAN",
          "SAT",
          "SAV",
          "SBA",
          "SBN",
          "SBP",
          "SCC",
          "SCE",
          "SCK",
          "SDF",
          "SEA",
          "SFB",
          "SFO",
          "SGF",
          "SGU",
          "SHD",
          "SHR",
          "SHV",
          "SIT",
          "SJC",
          "SJT",
          "SJU",
          "SLC",
          "SLN",
          "SMF",
          "SMX",
          "SNA",
          "SPI",
          "SPN",
          "SPS",
          "SRQ",
          "STC",
          "STL",
          "STS",
          "STT",
          "STX",
          "SUN",
          "SUX",
          "SWF",
          "SWO",
          "SYR",
          "TBN",
          "TLH",
          "TOL",
          "TPA",
          "TRI",
          "TTN",
          "TUL",
          "TUS",
          "TVC",
          "TWF",
          "TXK",
          "TYR",
          "TYS",
          "UIN",
          "USA",
          "UST",
          "VCT",
          "VEL",
          "VLD",
          "VPS",
          "WRG",
          "WYS",
          "XNA",
          "XWA",
          "YAK",
          "YKM",
          "YNG",
          "YUM"
         ],
         "yaxis": "y",
         "ybingroup": "y",
         "z": {
          "bdata": "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",
          "dtype": "f8"
         }
        }
       ],
       "layout": {
        "coloraxis": {
         "colorbar": {
          "title": {
           "text": "sum of Log(Total Delay + 1)"
          }
         },
         "colorscale": [
          [
           0,
           "#000004"
          ],
          [
           0.1111111111111111,
           "#1b0c41"
          ],
          [
           0.2222222222222222,
           "#4a0c6b"
          ],
          [
           0.3333333333333333,
           "#781c6d"
          ],
          [
           0.4444444444444444,
           "#a52c60"
          ],
          [
           0.5555555555555556,
           "#cf4446"
          ],
          [
           0.6666666666666666,
           "#ed6925"
          ],
          [
           0.7777777777777778,
           "#fb9b06"
          ],
          [
           0.8888888888888888,
           "#f7d13d"
          ],
          [
           1,
           "#fcffa4"
          ]
         ]
        },
        "legend": {
         "tracegroupgap": 0
        },
        "template": {
         "data": {
          "bar": [
           {
            "error_x": {
             "color": "#2a3f5f"
            },
            "error_y": {
             "color": "#2a3f5f"
            },
            "marker": {
             "line": {
              "color": "#E5ECF6",
              "width": 0.5
             },
             "pattern": {
              "fillmode": "overlay",
              "size": 10,
              "solidity": 0.2
             }
            },
            "type": "bar"
           }
          ],
          "barpolar": [
           {
            "marker": {
             "line": {
              "color": "#E5ECF6",
              "width": 0.5
             },
             "pattern": {
              "fillmode": "overlay",
              "size": 10,
              "solidity": 0.2
             }
            },
            "type": "barpolar"
           }
          ],
          "carpet": [
           {
            "aaxis": {
             "endlinecolor": "#2a3f5f",
             "gridcolor": "white",
             "linecolor": "white",
             "minorgridcolor": "white",
             "startlinecolor": "#2a3f5f"
            },
            "baxis": {
             "endlinecolor": "#2a3f5f",
             "gridcolor": "white",
             "linecolor": "white",
             "minorgridcolor": "white",
             "startlinecolor": "#2a3f5f"
            },
            "type": "carpet"
           }
          ],
          "choropleth": [
           {
            "colorbar": {
             "outlinewidth": 0,
             "ticks": ""
            },
            "type": "choropleth"
           }
          ],
          "contour": [
           {
            "colorbar": {
             "outlinewidth": 0,
             "ticks": ""
            },
            "colorscale": [
             [
              0,
              "#0d0887"
             ],
             [
              0.1111111111111111,
              "#46039f"
             ],
             [
              0.2222222222222222,
              "#7201a8"
             ],
             [
              0.3333333333333333,
              "#9c179e"
             ],
             [
              0.4444444444444444,
              "#bd3786"
             ],
             [
              0.5555555555555556,
              "#d8576b"
             ],
             [
              0.6666666666666666,
              "#ed7953"
             ],
             [
              0.7777777777777778,
              "#fb9f3a"
             ],
             [
              0.8888888888888888,
              "#fdca26"
             ],
             [
              1,
              "#f0f921"
             ]
            ],
            "type": "contour"
           }
          ],
          "contourcarpet": [
           {
            "colorbar": {
             "outlinewidth": 0,
             "ticks": ""
            },
            "type": "contourcarpet"
           }
          ],
          "heatmap": [
           {
            "colorbar": {
             "outlinewidth": 0,
             "ticks": ""
            },
            "colorscale": [
             [
              0,
              "#0d0887"
             ],
             [
              0.1111111111111111,
              "#46039f"
             ],
             [
              0.2222222222222222,
              "#7201a8"
             ],
             [
              0.3333333333333333,
              "#9c179e"
             ],
             [
              0.4444444444444444,
              "#bd3786"
             ],
             [
              0.5555555555555556,
              "#d8576b"
             ],
             [
              0.6666666666666666,
              "#ed7953"
             ],
             [
              0.7777777777777778,
              "#fb9f3a"
             ],
             [
              0.8888888888888888,
              "#fdca26"
             ],
             [
              1,
              "#f0f921"
             ]
            ],
            "type": "heatmap"
           }
          ],
          "histogram": [
           {
            "marker": {
             "pattern": {
              "fillmode": "overlay",
              "size": 10,
              "solidity": 0.2
             }
            },
            "type": "histogram"
           }
          ],
          "histogram2d": [
           {
            "colorbar": {
             "outlinewidth": 0,
             "ticks": ""
            },
            "colorscale": [
             [
              0,
              "#0d0887"
             ],
             [
              0.1111111111111111,
              "#46039f"
             ],
             [
              0.2222222222222222,
              "#7201a8"
             ],
             [
              0.3333333333333333,
              "#9c179e"
             ],
             [
              0.4444444444444444,
              "#bd3786"
             ],
             [
              0.5555555555555556,
              "#d8576b"
             ],
             [
              0.6666666666666666,
              "#ed7953"
             ],
             [
              0.7777777777777778,
              "#fb9f3a"
             ],
             [
              0.8888888888888888,
              "#fdca26"
             ],
             [
              1,
              "#f0f921"
             ]
            ],
            "type": "histogram2d"
           }
          ],
          "histogram2dcontour": [
           {
            "colorbar": {
             "outlinewidth": 0,
             "ticks": ""
            },
            "colorscale": [
             [
              0,
              "#0d0887"
             ],
             [
              0.1111111111111111,
              "#46039f"
             ],
             [
              0.2222222222222222,
              "#7201a8"
             ],
             [
              0.3333333333333333,
              "#9c179e"
             ],
             [
              0.4444444444444444,
              "#bd3786"
             ],
             [
              0.5555555555555556,
              "#d8576b"
             ],
             [
              0.6666666666666666,
              "#ed7953"
             ],
             [
              0.7777777777777778,
              "#fb9f3a"
             ],
             [
              0.8888888888888888,
              "#fdca26"
             ],
             [
              1,
              "#f0f921"
             ]
            ],
            "type": "histogram2dcontour"
           }
          ],
          "mesh3d": [
           {
            "colorbar": {
             "outlinewidth": 0,
             "ticks": ""
            },
            "type": "mesh3d"
           }
          ],
          "parcoords": [
           {
            "line": {
             "colorbar": {
              "outlinewidth": 0,
              "ticks": ""
             }
            },
            "type": "parcoords"
           }
          ],
          "pie": [
           {
            "automargin": true,
            "type": "pie"
           }
          ],
          "scatter": [
           {
            "fillpattern": {
             "fillmode": "overlay",
             "size": 10,
             "solidity": 0.2
            },
            "type": "scatter"
           }
          ],
          "scatter3d": [
           {
            "line": {
             "colorbar": {
              "outlinewidth": 0,
              "ticks": ""
             }
            },
            "marker": {
             "colorbar": {
              "outlinewidth": 0,
              "ticks": ""
             }
            },
            "type": "scatter3d"
           }
          ],
          "scattercarpet": [
           {
            "marker": {
             "colorbar": {
              "outlinewidth": 0,
              "ticks": ""
             }
            },
            "type": "scattercarpet"
           }
          ],
          "scattergeo": [
           {
            "marker": {
             "colorbar": {
              "outlinewidth": 0,
              "ticks": ""
             }
            },
            "type": "scattergeo"
           }
          ],
          "scattergl": [
           {
            "marker": {
             "colorbar": {
              "outlinewidth": 0,
              "ticks": ""
             }
            },
            "type": "scattergl"
           }
          ],
          "scattermap": [
           {
            "marker": {
             "colorbar": {
              "outlinewidth": 0,
              "ticks": ""
             }
            },
            "type": "scattermap"
           }
          ],
          "scattermapbox": [
           {
            "marker": {
             "colorbar": {
              "outlinewidth": 0,
              "ticks": ""
             }
            },
            "type": "scattermapbox"
           }
          ],
          "scatterpolar": [
           {
            "marker": {
             "colorbar": {
              "outlinewidth": 0,
              "ticks": ""
             }
            },
            "type": "scatterpolar"
           }
          ],
          "scatterpolargl": [
           {
            "marker": {
             "colorbar": {
              "outlinewidth": 0,
              "ticks": ""
             }
            },
            "type": "scatterpolargl"
           }
          ],
          "scatterternary": [
           {
            "marker": {
             "colorbar": {
              "outlinewidth": 0,
              "ticks": ""
             }
            },
            "type": "scatterternary"
           }
          ],
          "surface": [
           {
            "colorbar": {
             "outlinewidth": 0,
             "ticks": ""
            },
            "colorscale": [
             [
              0,
              "#0d0887"
             ],
             [
              0.1111111111111111,
              "#46039f"
             ],
             [
              0.2222222222222222,
              "#7201a8"
             ],
             [
              0.3333333333333333,
              "#9c179e"
             ],
             [
              0.4444444444444444,
              "#bd3786"
             ],
             [
              0.5555555555555556,
              "#d8576b"
             ],
             [
              0.6666666666666666,
              "#ed7953"
             ],
             [
              0.7777777777777778,
              "#fb9f3a"
             ],
             [
              0.8888888888888888,
              "#fdca26"
             ],
             [
              1,
              "#f0f921"
             ]
            ],
            "type": "surface"
           }
          ],
          "table": [
           {
            "cells": {
             "fill": {
              "color": "#EBF0F8"
             },
             "line": {
              "color": "white"
             }
            },
            "header": {
             "fill": {
              "color": "#C8D4E3"
             },
             "line": {
              "color": "white"
             }
            },
            "type": "table"
           }
          ]
         },
         "layout": {
          "annotationdefaults": {
           "arrowcolor": "#2a3f5f",
           "arrowhead": 0,
           "arrowwidth": 1
          },
          "autotypenumbers": "strict",
          "coloraxis": {
           "colorbar": {
            "outlinewidth": 0,
            "ticks": ""
           }
          },
          "colorscale": {
           "diverging": [
            [
             0,
             "#8e0152"
            ],
            [
             0.1,
             "#c51b7d"
            ],
            [
             0.2,
             "#de77ae"
            ],
            [
             0.3,
             "#f1b6da"
            ],
            [
             0.4,
             "#fde0ef"
            ],
            [
             0.5,
             "#f7f7f7"
            ],
            [
             0.6,
             "#e6f5d0"
            ],
            [
             0.7,
             "#b8e186"
            ],
            [
             0.8,
             "#7fbc41"
            ],
            [
             0.9,
             "#4d9221"
            ],
            [
             1,
             "#276419"
            ]
           ],
           "sequential": [
            [
             0,
             "#0d0887"
            ],
            [
             0.1111111111111111,
             "#46039f"
            ],
            [
             0.2222222222222222,
             "#7201a8"
            ],
            [
             0.3333333333333333,
             "#9c179e"
            ],
            [
             0.4444444444444444,
             "#bd3786"
            ],
            [
             0.5555555555555556,
             "#d8576b"
            ],
            [
             0.6666666666666666,
             "#ed7953"
            ],
            [
             0.7777777777777778,
             "#fb9f3a"
            ],
            [
             0.8888888888888888,
             "#fdca26"
            ],
            [
             1,
             "#f0f921"
            ]
           ],
           "sequentialminus": [
            [
             0,
             "#0d0887"
            ],
            [
             0.1111111111111111,
             "#46039f"
            ],
            [
             0.2222222222222222,
             "#7201a8"
            ],
            [
             0.3333333333333333,
             "#9c179e"
            ],
            [
             0.4444444444444444,
             "#bd3786"
            ],
            [
             0.5555555555555556,
             "#d8576b"
            ],
            [
             0.6666666666666666,
             "#ed7953"
            ],
            [
             0.7777777777777778,
             "#fb9f3a"
            ],
            [
             0.8888888888888888,
             "#fdca26"
            ],
            [
             1,
             "#f0f921"
            ]
           ]
          },
          "colorway": [
           "#636efa",
           "#EF553B",
           "#00cc96",
           "#ab63fa",
           "#FFA15A",
           "#19d3f3",
           "#FF6692",
           "#B6E880",
           "#FF97FF",
           "#FECB52"
          ],
          "font": {
           "color": "#2a3f5f"
          },
          "geo": {
           "bgcolor": "white",
           "lakecolor": "white",
           "landcolor": "#E5ECF6",
           "showlakes": true,
           "showland": true,
           "subunitcolor": "white"
          },
          "hoverlabel": {
           "align": "left"
          },
          "hovermode": "closest",
          "mapbox": {
           "style": "light"
          },
          "paper_bgcolor": "white",
          "plot_bgcolor": "#E5ECF6",
          "polar": {
           "angularaxis": {
            "gridcolor": "white",
            "linecolor": "white",
            "ticks": ""
           },
           "bgcolor": "#E5ECF6",
           "radialaxis": {
            "gridcolor": "white",
            "linecolor": "white",
            "ticks": ""
           }
          },
          "scene": {
           "xaxis": {
            "backgroundcolor": "#E5ECF6",
            "gridcolor": "white",
            "gridwidth": 2,
            "linecolor": "white",
            "showbackground": true,
            "ticks": "",
            "zerolinecolor": "white"
           },
           "yaxis": {
            "backgroundcolor": "#E5ECF6",
            "gridcolor": "white",
            "gridwidth": 2,
            "linecolor": "white",
            "showbackground": true,
            "ticks": "",
            "zerolinecolor": "white"
           },
           "zaxis": {
            "backgroundcolor": "#E5ECF6",
            "gridcolor": "white",
            "gridwidth": 2,
            "linecolor": "white",
            "showbackground": true,
            "ticks": "",
            "zerolinecolor": "white"
           }
          },
          "shapedefaults": {
           "line": {
            "color": "#2a3f5f"
           }
          },
          "ternary": {
           "aaxis": {
            "gridcolor": "white",
            "linecolor": "white",
            "ticks": ""
           },
           "baxis": {
            "gridcolor": "white",
            "linecolor": "white",
            "ticks": ""
           },
           "bgcolor": "#E5ECF6",
           "caxis": {
            "gridcolor": "white",
            "linecolor": "white",
            "ticks": ""
           }
          },
          "title": {
           "x": 0.05
          },
          "xaxis": {
           "automargin": true,
           "gridcolor": "white",
           "linecolor": "white",
           "ticks": "",
           "title": {
            "standoff": 15
           },
           "zerolinecolor": "white",
           "zerolinewidth": 2
          },
          "yaxis": {
           "automargin": true,
           "gridcolor": "white",
           "linecolor": "white",
           "ticks": "",
           "title": {
            "standoff": 15
           },
           "zerolinecolor": "white",
           "zerolinewidth": 2
          }
         }
        },
        "title": {
         "text": "Heatmap of Log-Transformed Delay Causes by Airport Code"
        },
        "xaxis": {
         "anchor": "y",
         "domain": [
          0,
          1
         ],
         "title": {
          "text": "Delay Cause"
         }
        },
        "yaxis": {
         "anchor": "x",
         "categoryorder": "category descending",
         "domain": [
          0,
          1
         ],
         "title": {
          "text": "Airport Code"
         }
        }
       }
      }
     },
     "metadata": {},
     "output_type": "display_data"
    }
   ],
   "source": [
    "import plotly.express as px\n",
    "import pandas as pd\n",
    "import numpy as np\n",
    "\n",
    "# Filter top 10 airports by total flights\n",
    "top_airports = flight.groupby('airport_name')['arr_flights'].sum().nlargest(10).index\n",
    "flight_top_airports = flight[flight['airport_name'].isin(top_airports)].copy()\n",
    "\n",
    "# Use short names (truncate to first 10 chars)\n",
    "flight_top_airports['airport_short'] = flight_top_airports['airport_name'].str[:10]\n",
    "\n",
    "# Compute avg delay per flight by airport_short\n",
    "airport_delay_avg = flight_top_airports.groupby('airport_short')['mean_delay_per_flight'].mean().reset_index()\n",
    "\n",
    "# Compute avg delay rate by airport_name for the same top airports\n",
    "flight['airport_delay_rate'] = pd.to_numeric(flight['airport_delay_rate'], errors='coerce')\n",
    "top_airports_delay_rate = flight.groupby('airport_name')['airport_delay_rate'].mean().reset_index()\n",
    "top_airports_delay_rate = top_airports_delay_rate[top_airports_delay_rate['airport_name'].isin(top_airports)].copy()\n",
    "top_airports_delay_rate['airport_short'] = top_airports_delay_rate['airport_name'].str[:10]\n",
    "\n",
    "# Merge the two metrics on airport_short\n",
    "merged_airport_metrics = pd.merge(\n",
    "    airport_delay_avg,\n",
    "    top_airports_delay_rate[['airport_short', 'airport_delay_rate']],\n",
    "    on='airport_short'\n",
    ")\n",
    "\n",
    "# Grouped bar chart: Avg Delay per Flight vs Delay Rate\n",
    "fig_merged = px.bar(\n",
    "    merged_airport_metrics.melt(id_vars='airport_short', var_name='Metric', value_name='Value'),\n",
    "    x='airport_short', y='Value', color='Metric', barmode='group',\n",
    "    title='Top Airports: Avg Delay per Flight vs Delay Rate',\n",
    "    labels={'airport_short': 'Airport', 'Value': 'Minutes / Rate'}\n",
    ")\n",
    "fig_merged.update_xaxes(tickangle=45)\n",
    "fig_merged.show()\n",
    "\n",
    "# Simpler scatter plot replacing faceted scatter:\n",
    "# Delay ratio vs total flights, colored by airport_short\n",
    "fig_scatter = px.scatter(\n",
    "    flight_top_airports,\n",
    "    x='arr_flights',\n",
    "    y='delay_ratio',\n",
    "    color='airport_short',\n",
    "    title='Delay Ratio vs Total Flights by Top Airports',\n",
    "    labels={'arr_flights': 'Total Flights', 'delay_ratio': 'Delay Ratio', 'airport_short': 'Airport'}\n",
    ")\n",
    "fig_scatter.show()\n",
    "\n",
    "# Delay cause columns\n",
    "delay_causes_cols = ['carrier_delay', 'weather_delay', 'nas_delay', 'security_delay', 'late_aircraft_delay']\n",
    "\n",
    "# Group by airport code and sum delays\n",
    "airport_delay_summary = flight.groupby('airport')[delay_causes_cols].sum().reset_index()\n",
    "\n",
    "# Melt to long format for heatmap\n",
    "airport_delay_long = airport_delay_summary.melt(\n",
    "    id_vars='airport',\n",
    "    value_vars=delay_causes_cols,\n",
    "    var_name='Delay Cause',\n",
    "    value_name='Total Delay'\n",
    ")\n",
    "\n",
    "# Clean up delay cause names for better labels\n",
    "airport_delay_long['Delay Cause'] = (\n",
    "    airport_delay_long['Delay Cause']\n",
    "    .str.replace('_delay', '')\n",
    "    .str.replace('_', ' ')\n",
    "    .str.title()\n",
    ")\n",
    "\n",
    "# Log transform delay values to reduce skewness and improve color contrast\n",
    "airport_delay_long['Total Delay Log'] = np.log1p(airport_delay_long['Total Delay'])\n",
    "\n",
    "# Heatmap of log-transformed delay causes by airport\n",
    "fig_heatmap = px.density_heatmap(\n",
    "    airport_delay_long,\n",
    "    x='Delay Cause',\n",
    "    y='airport',\n",
    "    z='Total Delay Log',\n",
    "    color_continuous_scale='Inferno',\n",
    "    title='Heatmap of Log-Transformed Delay Causes by Airport Code',\n",
    "    labels={'airport': 'Airport Code', 'Total Delay Log': 'Log(Total Delay + 1)'}\n",
    ")\n",
    "\n",
    "fig_heatmap.update_layout(\n",
    "    yaxis={'categoryorder': 'category descending'}\n",
    ")\n",
    "\n",
    "fig_heatmap.show()\n"
   ]
  },
  {
   "cell_type": "markdown",
   "id": "5a82fb27",
   "metadata": {},
   "source": [
    "### EDA continue"
   ]
  },
  {
   "cell_type": "code",
   "execution_count": 24,
   "id": "e02d01f9",
   "metadata": {},
   "outputs": [
    {
     "data": {
      "application/vnd.plotly.v1+json": {
       "config": {
        "plotlyServerURL": "https://plot.ly"
       },
       "data": [
        {
         "hovertemplate": "Disruption Type=cancellation_rate<br>Year-Month=%{x}<br>Rate=%{y}<extra></extra>",
         "legendgroup": "cancellation_rate",
         "line": {
          "color": "#636efa",
          "dash": "solid"
         },
         "marker": {
          "symbol": "circle"
         },
         "mode": "lines+markers",
         "name": "cancellation_rate",
         "orientation": "v",
         "showlegend": true,
         "type": "scatter",
         "x": [
          "2013-08",
          "2013-09",
          "2013-10",
          "2013-11",
          "2013-12",
          "2014-01",
          "2014-02",
          "2014-03",
          "2014-04",
          "2014-05",
          "2014-06",
          "2014-07",
          "2014-08",
          "2014-09",
          "2014-10",
          "2014-11",
          "2014-12",
          "2015-01",
          "2015-02",
          "2015-03",
          "2015-04",
          "2015-05",
          "2015-06",
          "2015-07",
          "2015-08",
          "2015-09",
          "2015-10",
          "2015-11",
          "2015-12",
          "2016-01",
          "2016-02",
          "2016-03",
          "2016-04",
          "2016-05",
          "2016-06",
          "2016-07",
          "2016-08",
          "2016-09",
          "2016-10",
          "2016-11",
          "2016-12",
          "2017-01",
          "2017-02",
          "2017-03",
          "2017-04",
          "2017-05",
          "2017-06",
          "2017-07",
          "2017-08",
          "2017-09",
          "2017-10",
          "2017-11",
          "2017-12",
          "2018-01",
          "2018-02",
          "2018-03",
          "2018-04",
          "2018-05",
          "2018-06",
          "2018-07",
          "2018-08",
          "2018-09",
          "2018-10",
          "2018-11",
          "2018-12",
          "2019-01",
          "2019-02",
          "2019-03",
          "2019-04",
          "2019-05",
          "2019-06",
          "2019-07",
          "2019-08",
          "2019-09",
          "2019-10",
          "2019-11",
          "2019-12",
          "2020-01",
          "2020-02",
          "2020-03",
          "2020-04",
          "2020-05",
          "2020-06",
          "2020-07",
          "2020-08",
          "2020-09",
          "2020-10",
          "2020-11",
          "2020-12",
          "2021-01",
          "2021-02",
          "2021-03",
          "2021-04",
          "2021-05",
          "2021-06",
          "2021-07",
          "2021-08",
          "2021-09",
          "2021-10",
          "2021-11",
          "2021-12",
          "2022-01",
          "2022-02",
          "2022-03",
          "2022-04",
          "2022-05",
          "2022-06",
          "2022-07",
          "2022-08",
          "2022-09",
          "2022-10",
          "2022-11",
          "2022-12",
          "2023-01",
          "2023-02",
          "2023-03",
          "2023-04",
          "2023-05",
          "2023-06",
          "2023-07",
          "2023-08"
         ],
         "xaxis": "x",
         "y": {
          "bdata": "Eqiq+Go5gz8GXx91N4h/P467joAJV3w/dAJ+vz/Ghz/8lGcW1LKgPzpbKBI5grI/SxfqKGyNqz97F0kMObKVP2jhTgMiAok/ZpetoKeSlD9YceUMwk6XP9+FdSJFQJA/QHjnP/KNjD/N39AXsZiQP9/xiiQSoYg/ftc4G6g9hz87cfh0Fr+RP+QQKpHNRpo/xR5qrpQDqj9fsn7/KASXPxn8WIcI5oU/zy/kjc+EiT+OXDV7m0+TPx5nx9r8kYQ/s7BweEPyhD/XIcCKBGpzP4ncYa0jq3Y/ka1MEfbYiT9j6UWwZt6UP+yEuQVbiZc/gR3tpm99kT/deQbdaGqIP/ANAZJliII/3+QgwLcCdD9qb/JAD92CP1p9QmeFNpE/2SsjSY/giz9dNHyGWLNrPyrdgILgAoI/9IYcMwInbz9fLdjm3xGXP5Z+sOrtyJg/T76OESzrjz/66NHguwyTP3GTGX9AmJE/8pGXNwJwhD8Zal1NNJyEP2bAgmmlhIk/UAOK/ZuxlT/TzqEGRdKiP4xbBN/k8IQ/NG6YWBWZcD/neLrR1IyNPzr5E+y9/aE/Iph2MXrHlD9PR/24AyGbP4HBofGqeoU/iO1Eb8sChz8uCKeaNSmVPxZlSKsOp5E/pgATOj9Ikz/QVao3oHGRP4c4C/mEV4M/JD569CgDiD/JN6BgTn+NPwqCjwZ0hJ8/t3HWWpX4nj9CANSADwaQP5A8ORhy95c/pOSt+RXgkz8WnM4hgCSWPzMJZwtfspQ/ewcIp1Zpkz+0GmODzSeSPy7Dg81fMYI/f47U9F3Hfj/ZmEkmarSGP5eOWkQaMIs/MJ40PUtdhD9/gJwbDGTGP95i5j1zjdk/crU8q9wItj+Tvir8jZx4P4xIH1hGHoU/KmE1hWDXjD9amuhsLSyAPwWBfBfqong/5/JsSZPKcz8H/yxWSOGLP3DBZaFagJA/4j/5LOaUrj9BIE/u3uaLP9nDp5AGOng/xEJC2vh1dD9oloh6z7yKPxt2HGIs35M/UrF3gE0qoD+37AT7mAmEP7dosYygkpI/sHPhc+TweD/TzfxBt0igP5BTNy3N0bE/81XL+/LaqD8DspyZdyaTP9ESM29N55g/xcrQi+S2kj/xcpHseSWbP4S3i+ZN148/9zLn497WlT/GcgkVxdOQP9zkXpDUzIA/BU+2ujvriT9ogsQVzbWlPxWmm0gwT5Q/syayWIR5kj86pXXH0y2MP7oAh9C0mZE/V1ulYGFxdj+O3CPHWV+VPzN+o8uYq5g/d78o517QjD8=",
          "dtype": "f8"
         },
         "yaxis": "y"
        },
        {
         "hovertemplate": "Disruption Type=diversion_rate<br>Year-Month=%{x}<br>Rate=%{y}<extra></extra>",
         "legendgroup": "diversion_rate",
         "line": {
          "color": "#EF553B",
          "dash": "solid"
         },
         "marker": {
          "symbol": "circle"
         },
         "mode": "lines+markers",
         "name": "diversion_rate",
         "orientation": "v",
         "showlegend": true,
         "type": "scatter",
         "x": [
          "2013-08",
          "2013-09",
          "2013-10",
          "2013-11",
          "2013-12",
          "2014-01",
          "2014-02",
          "2014-03",
          "2014-04",
          "2014-05",
          "2014-06",
          "2014-07",
          "2014-08",
          "2014-09",
          "2014-10",
          "2014-11",
          "2014-12",
          "2015-01",
          "2015-02",
          "2015-03",
          "2015-04",
          "2015-05",
          "2015-06",
          "2015-07",
          "2015-08",
          "2015-09",
          "2015-10",
          "2015-11",
          "2015-12",
          "2016-01",
          "2016-02",
          "2016-03",
          "2016-04",
          "2016-05",
          "2016-06",
          "2016-07",
          "2016-08",
          "2016-09",
          "2016-10",
          "2016-11",
          "2016-12",
          "2017-01",
          "2017-02",
          "2017-03",
          "2017-04",
          "2017-05",
          "2017-06",
          "2017-07",
          "2017-08",
          "2017-09",
          "2017-10",
          "2017-11",
          "2017-12",
          "2018-01",
          "2018-02",
          "2018-03",
          "2018-04",
          "2018-05",
          "2018-06",
          "2018-07",
          "2018-08",
          "2018-09",
          "2018-10",
          "2018-11",
          "2018-12",
          "2019-01",
          "2019-02",
          "2019-03",
          "2019-04",
          "2019-05",
          "2019-06",
          "2019-07",
          "2019-08",
          "2019-09",
          "2019-10",
          "2019-11",
          "2019-12",
          "2020-01",
          "2020-02",
          "2020-03",
          "2020-04",
          "2020-05",
          "2020-06",
          "2020-07",
          "2020-08",
          "2020-09",
          "2020-10",
          "2020-11",
          "2020-12",
          "2021-01",
          "2021-02",
          "2021-03",
          "2021-04",
          "2021-05",
          "2021-06",
          "2021-07",
          "2021-08",
          "2021-09",
          "2021-10",
          "2021-11",
          "2021-12",
          "2022-01",
          "2022-02",
          "2022-03",
          "2022-04",
          "2022-05",
          "2022-06",
          "2022-07",
          "2022-08",
          "2022-09",
          "2022-10",
          "2022-11",
          "2022-12",
          "2023-01",
          "2023-02",
          "2023-03",
          "2023-04",
          "2023-05",
          "2023-06",
          "2023-07",
          "2023-08"
         ],
         "xaxis": "x",
         "y": {
          "bdata": "1n7Bs6eYYj8KRGi5GktdP8stOhdsv14/C1TPcXXcYD+tor/vExZtP7qJB3tukHA/eaLhmFH1bz+PC6/9+g5nPwcBkGnBOGU/nX/HvOZcZj8Dn+IIIKBoPwJ4CqB8UmQ/UYJtWeBDZD9tttKJnVZiP2M6qyd9D2A/gWwCUonZZD+3V6+ldcdxP5I1nJprFWo/q60uSU+Daz+Wa6hLLvptPzuwNdnJ6WU/UldE/pZYaD+0c7gqIEtoPw3emfU6BWs/N8fjPDcPZj+p751eduZdP4QLDbOtWWE/uZWGiUikZj/orf0GJ/1xPzSlP/Fw/Gc/3NjpkccAbD9lVxV69xFoPze+VupRs2E/BTB/l34BZj9cZKQChphpP8+6+sEx1mo/O5DRe9omZj/Lh0XVQyJePw3YOmQWNGE/Cjd7uk6kYT9+Qb2T5Bt1P/MpkFjrrnU/4uj1tRRYcD92xKuTvttoPyyP2Lt522A/4ewjnAGEYj8TOrWH915lP859+cGNhWQ/O41XfhgRZT8T3jDdk6JjP+dELU338GI/50Zzjsq2Yj/1+tfAK1puP/ueAt8ayGs/MwL/2frxbj/9Q246I2ZlP3Rv8+c7v2M/ufWBONt2ZD/eKs/3e21qP5Zmrpd+UGc/kSU6yhGkYz+k3AENWKJiP80uWkZQOGc/Yu7hs5UTaj/qqOhMHwxtP+tnmP5uhWw/+e0AMw6Xcj+ksmta7ENjP/mbS5OAFWg/HabCLXdGaj8U3PGxj0xqP5JfsrPTimM/sQ+ocKfDYz+zbj8a0A5dP+g7cpyNP2Q/U8Gv4/EQZD+Sm83PL1NrP9iQWbBGcmk/0lS7xKGkZz82W81Q0LpcP3hWC5pNaGk/P+RsYA2KcT9/87UclUlgP/vbiFGdEmM/TsdZhVE8ZT9LfS/AybBZP2MNm+s22GE/X7ngYrJ5Yz//2vtn1+VkPzl8aysRV2k/1skRQNh8ZT8t1MzsWQ5hP3BzWBxJpV8/Vzbd3sBCYT+dWjmqMVVqP9tzvNTGAmc/zOhG6WLjaT8jF3OrFzlcPw6zx+XV8WA/r0XaZcSYXD+VnrsZ851yP3CQ8VWsbGg/RDInwSHFYD/QOLQjiI5qP98qdyUGmWM/L1AAiuUraD8ttpy7YoFmP8hBKT2T4GU/BKNmq0B0Yz/nJDo43XFeP62MmOttvlw/6P4uRzSoZj/Q6fA8sIByPwxNkpiSKm4/C64BAFNvaj9ONSquz0hqPw8QPPRkiWg/eozH/zHKYT+IUINubXtqP80gKdYSvWg/noXpm0QWZT8=",
          "dtype": "f8"
         },
         "yaxis": "y"
        }
       ],
       "layout": {
        "legend": {
         "title": {
          "text": "Disruption Type"
         },
         "tracegroupgap": 0
        },
        "template": {
         "data": {
          "bar": [
           {
            "error_x": {
             "color": "#2a3f5f"
            },
            "error_y": {
             "color": "#2a3f5f"
            },
            "marker": {
             "line": {
              "color": "#E5ECF6",
              "width": 0.5
             },
             "pattern": {
              "fillmode": "overlay",
              "size": 10,
              "solidity": 0.2
             }
            },
            "type": "bar"
           }
          ],
          "barpolar": [
           {
            "marker": {
             "line": {
              "color": "#E5ECF6",
              "width": 0.5
             },
             "pattern": {
              "fillmode": "overlay",
              "size": 10,
              "solidity": 0.2
             }
            },
            "type": "barpolar"
           }
          ],
          "carpet": [
           {
            "aaxis": {
             "endlinecolor": "#2a3f5f",
             "gridcolor": "white",
             "linecolor": "white",
             "minorgridcolor": "white",
             "startlinecolor": "#2a3f5f"
            },
            "baxis": {
             "endlinecolor": "#2a3f5f",
             "gridcolor": "white",
             "linecolor": "white",
             "minorgridcolor": "white",
             "startlinecolor": "#2a3f5f"
            },
            "type": "carpet"
           }
          ],
          "choropleth": [
           {
            "colorbar": {
             "outlinewidth": 0,
             "ticks": ""
            },
            "type": "choropleth"
           }
          ],
          "contour": [
           {
            "colorbar": {
             "outlinewidth": 0,
             "ticks": ""
            },
            "colorscale": [
             [
              0,
              "#0d0887"
             ],
             [
              0.1111111111111111,
              "#46039f"
             ],
             [
              0.2222222222222222,
              "#7201a8"
             ],
             [
              0.3333333333333333,
              "#9c179e"
             ],
             [
              0.4444444444444444,
              "#bd3786"
             ],
             [
              0.5555555555555556,
              "#d8576b"
             ],
             [
              0.6666666666666666,
              "#ed7953"
             ],
             [
              0.7777777777777778,
              "#fb9f3a"
             ],
             [
              0.8888888888888888,
              "#fdca26"
             ],
             [
              1,
              "#f0f921"
             ]
            ],
            "type": "contour"
           }
          ],
          "contourcarpet": [
           {
            "colorbar": {
             "outlinewidth": 0,
             "ticks": ""
            },
            "type": "contourcarpet"
           }
          ],
          "heatmap": [
           {
            "colorbar": {
             "outlinewidth": 0,
             "ticks": ""
            },
            "colorscale": [
             [
              0,
              "#0d0887"
             ],
             [
              0.1111111111111111,
              "#46039f"
             ],
             [
              0.2222222222222222,
              "#7201a8"
             ],
             [
              0.3333333333333333,
              "#9c179e"
             ],
             [
              0.4444444444444444,
              "#bd3786"
             ],
             [
              0.5555555555555556,
              "#d8576b"
             ],
             [
              0.6666666666666666,
              "#ed7953"
             ],
             [
              0.7777777777777778,
              "#fb9f3a"
             ],
             [
              0.8888888888888888,
              "#fdca26"
             ],
             [
              1,
              "#f0f921"
             ]
            ],
            "type": "heatmap"
           }
          ],
          "histogram": [
           {
            "marker": {
             "pattern": {
              "fillmode": "overlay",
              "size": 10,
              "solidity": 0.2
             }
            },
            "type": "histogram"
           }
          ],
          "histogram2d": [
           {
            "colorbar": {
             "outlinewidth": 0,
             "ticks": ""
            },
            "colorscale": [
             [
              0,
              "#0d0887"
             ],
             [
              0.1111111111111111,
              "#46039f"
             ],
             [
              0.2222222222222222,
              "#7201a8"
             ],
             [
              0.3333333333333333,
              "#9c179e"
             ],
             [
              0.4444444444444444,
              "#bd3786"
             ],
             [
              0.5555555555555556,
              "#d8576b"
             ],
             [
              0.6666666666666666,
              "#ed7953"
             ],
             [
              0.7777777777777778,
              "#fb9f3a"
             ],
             [
              0.8888888888888888,
              "#fdca26"
             ],
             [
              1,
              "#f0f921"
             ]
            ],
            "type": "histogram2d"
           }
          ],
          "histogram2dcontour": [
           {
            "colorbar": {
             "outlinewidth": 0,
             "ticks": ""
            },
            "colorscale": [
             [
              0,
              "#0d0887"
             ],
             [
              0.1111111111111111,
              "#46039f"
             ],
             [
              0.2222222222222222,
              "#7201a8"
             ],
             [
              0.3333333333333333,
              "#9c179e"
             ],
             [
              0.4444444444444444,
              "#bd3786"
             ],
             [
              0.5555555555555556,
              "#d8576b"
             ],
             [
              0.6666666666666666,
              "#ed7953"
             ],
             [
              0.7777777777777778,
              "#fb9f3a"
             ],
             [
              0.8888888888888888,
              "#fdca26"
             ],
             [
              1,
              "#f0f921"
             ]
            ],
            "type": "histogram2dcontour"
           }
          ],
          "mesh3d": [
           {
            "colorbar": {
             "outlinewidth": 0,
             "ticks": ""
            },
            "type": "mesh3d"
           }
          ],
          "parcoords": [
           {
            "line": {
             "colorbar": {
              "outlinewidth": 0,
              "ticks": ""
             }
            },
            "type": "parcoords"
           }
          ],
          "pie": [
           {
            "automargin": true,
            "type": "pie"
           }
          ],
          "scatter": [
           {
            "fillpattern": {
             "fillmode": "overlay",
             "size": 10,
             "solidity": 0.2
            },
            "type": "scatter"
           }
          ],
          "scatter3d": [
           {
            "line": {
             "colorbar": {
              "outlinewidth": 0,
              "ticks": ""
             }
            },
            "marker": {
             "colorbar": {
              "outlinewidth": 0,
              "ticks": ""
             }
            },
            "type": "scatter3d"
           }
          ],
          "scattercarpet": [
           {
            "marker": {
             "colorbar": {
              "outlinewidth": 0,
              "ticks": ""
             }
            },
            "type": "scattercarpet"
           }
          ],
          "scattergeo": [
           {
            "marker": {
             "colorbar": {
              "outlinewidth": 0,
              "ticks": ""
             }
            },
            "type": "scattergeo"
           }
          ],
          "scattergl": [
           {
            "marker": {
             "colorbar": {
              "outlinewidth": 0,
              "ticks": ""
             }
            },
            "type": "scattergl"
           }
          ],
          "scattermap": [
           {
            "marker": {
             "colorbar": {
              "outlinewidth": 0,
              "ticks": ""
             }
            },
            "type": "scattermap"
           }
          ],
          "scattermapbox": [
           {
            "marker": {
             "colorbar": {
              "outlinewidth": 0,
              "ticks": ""
             }
            },
            "type": "scattermapbox"
           }
          ],
          "scatterpolar": [
           {
            "marker": {
             "colorbar": {
              "outlinewidth": 0,
              "ticks": ""
             }
            },
            "type": "scatterpolar"
           }
          ],
          "scatterpolargl": [
           {
            "marker": {
             "colorbar": {
              "outlinewidth": 0,
              "ticks": ""
             }
            },
            "type": "scatterpolargl"
           }
          ],
          "scatterternary": [
           {
            "marker": {
             "colorbar": {
              "outlinewidth": 0,
              "ticks": ""
             }
            },
            "type": "scatterternary"
           }
          ],
          "surface": [
           {
            "colorbar": {
             "outlinewidth": 0,
             "ticks": ""
            },
            "colorscale": [
             [
              0,
              "#0d0887"
             ],
             [
              0.1111111111111111,
              "#46039f"
             ],
             [
              0.2222222222222222,
              "#7201a8"
             ],
             [
              0.3333333333333333,
              "#9c179e"
             ],
             [
              0.4444444444444444,
              "#bd3786"
             ],
             [
              0.5555555555555556,
              "#d8576b"
             ],
             [
              0.6666666666666666,
              "#ed7953"
             ],
             [
              0.7777777777777778,
              "#fb9f3a"
             ],
             [
              0.8888888888888888,
              "#fdca26"
             ],
             [
              1,
              "#f0f921"
             ]
            ],
            "type": "surface"
           }
          ],
          "table": [
           {
            "cells": {
             "fill": {
              "color": "#EBF0F8"
             },
             "line": {
              "color": "white"
             }
            },
            "header": {
             "fill": {
              "color": "#C8D4E3"
             },
             "line": {
              "color": "white"
             }
            },
            "type": "table"
           }
          ]
         },
         "layout": {
          "annotationdefaults": {
           "arrowcolor": "#2a3f5f",
           "arrowhead": 0,
           "arrowwidth": 1
          },
          "autotypenumbers": "strict",
          "coloraxis": {
           "colorbar": {
            "outlinewidth": 0,
            "ticks": ""
           }
          },
          "colorscale": {
           "diverging": [
            [
             0,
             "#8e0152"
            ],
            [
             0.1,
             "#c51b7d"
            ],
            [
             0.2,
             "#de77ae"
            ],
            [
             0.3,
             "#f1b6da"
            ],
            [
             0.4,
             "#fde0ef"
            ],
            [
             0.5,
             "#f7f7f7"
            ],
            [
             0.6,
             "#e6f5d0"
            ],
            [
             0.7,
             "#b8e186"
            ],
            [
             0.8,
             "#7fbc41"
            ],
            [
             0.9,
             "#4d9221"
            ],
            [
             1,
             "#276419"
            ]
           ],
           "sequential": [
            [
             0,
             "#0d0887"
            ],
            [
             0.1111111111111111,
             "#46039f"
            ],
            [
             0.2222222222222222,
             "#7201a8"
            ],
            [
             0.3333333333333333,
             "#9c179e"
            ],
            [
             0.4444444444444444,
             "#bd3786"
            ],
            [
             0.5555555555555556,
             "#d8576b"
            ],
            [
             0.6666666666666666,
             "#ed7953"
            ],
            [
             0.7777777777777778,
             "#fb9f3a"
            ],
            [
             0.8888888888888888,
             "#fdca26"
            ],
            [
             1,
             "#f0f921"
            ]
           ],
           "sequentialminus": [
            [
             0,
             "#0d0887"
            ],
            [
             0.1111111111111111,
             "#46039f"
            ],
            [
             0.2222222222222222,
             "#7201a8"
            ],
            [
             0.3333333333333333,
             "#9c179e"
            ],
            [
             0.4444444444444444,
             "#bd3786"
            ],
            [
             0.5555555555555556,
             "#d8576b"
            ],
            [
             0.6666666666666666,
             "#ed7953"
            ],
            [
             0.7777777777777778,
             "#fb9f3a"
            ],
            [
             0.8888888888888888,
             "#fdca26"
            ],
            [
             1,
             "#f0f921"
            ]
           ]
          },
          "colorway": [
           "#636efa",
           "#EF553B",
           "#00cc96",
           "#ab63fa",
           "#FFA15A",
           "#19d3f3",
           "#FF6692",
           "#B6E880",
           "#FF97FF",
           "#FECB52"
          ],
          "font": {
           "color": "#2a3f5f"
          },
          "geo": {
           "bgcolor": "white",
           "lakecolor": "white",
           "landcolor": "#E5ECF6",
           "showlakes": true,
           "showland": true,
           "subunitcolor": "white"
          },
          "hoverlabel": {
           "align": "left"
          },
          "hovermode": "closest",
          "mapbox": {
           "style": "light"
          },
          "paper_bgcolor": "white",
          "plot_bgcolor": "#E5ECF6",
          "polar": {
           "angularaxis": {
            "gridcolor": "white",
            "linecolor": "white",
            "ticks": ""
           },
           "bgcolor": "#E5ECF6",
           "radialaxis": {
            "gridcolor": "white",
            "linecolor": "white",
            "ticks": ""
           }
          },
          "scene": {
           "xaxis": {
            "backgroundcolor": "#E5ECF6",
            "gridcolor": "white",
            "gridwidth": 2,
            "linecolor": "white",
            "showbackground": true,
            "ticks": "",
            "zerolinecolor": "white"
           },
           "yaxis": {
            "backgroundcolor": "#E5ECF6",
            "gridcolor": "white",
            "gridwidth": 2,
            "linecolor": "white",
            "showbackground": true,
            "ticks": "",
            "zerolinecolor": "white"
           },
           "zaxis": {
            "backgroundcolor": "#E5ECF6",
            "gridcolor": "white",
            "gridwidth": 2,
            "linecolor": "white",
            "showbackground": true,
            "ticks": "",
            "zerolinecolor": "white"
           }
          },
          "shapedefaults": {
           "line": {
            "color": "#2a3f5f"
           }
          },
          "ternary": {
           "aaxis": {
            "gridcolor": "white",
            "linecolor": "white",
            "ticks": ""
           },
           "baxis": {
            "gridcolor": "white",
            "linecolor": "white",
            "ticks": ""
           },
           "bgcolor": "#E5ECF6",
           "caxis": {
            "gridcolor": "white",
            "linecolor": "white",
            "ticks": ""
           }
          },
          "title": {
           "x": 0.05
          },
          "xaxis": {
           "automargin": true,
           "gridcolor": "white",
           "linecolor": "white",
           "ticks": "",
           "title": {
            "standoff": 15
           },
           "zerolinecolor": "white",
           "zerolinewidth": 2
          },
          "yaxis": {
           "automargin": true,
           "gridcolor": "white",
           "linecolor": "white",
           "ticks": "",
           "title": {
            "standoff": 15
           },
           "zerolinecolor": "white",
           "zerolinewidth": 2
          }
         }
        },
        "title": {
         "text": "Cancellation and Diversion Rates Over Time"
        },
        "xaxis": {
         "anchor": "y",
         "domain": [
          0,
          1
         ],
         "tickangle": 45,
         "title": {
          "text": "Year-Month"
         }
        },
        "yaxis": {
         "anchor": "x",
         "domain": [
          0,
          1
         ],
         "range": [
          0,
          0.4391842760983303
         ],
         "title": {
          "text": "Rate"
         }
        }
       }
      }
     },
     "metadata": {},
     "output_type": "display_data"
    }
   ],
   "source": [
    "import plotly.express as px\n",
    "import pandas as pd\n",
    "\n",
    "# Aggregate disruption rates by year_month\n",
    "monthly_disruptions = flight.groupby('year_month')[['cancellation_rate', 'diversion_rate']].mean().reset_index()\n",
    "\n",
    "# Melt to long format for combined plotting\n",
    "monthly_disruptions_long = monthly_disruptions.melt(\n",
    "    id_vars='year_month', \n",
    "    value_vars=['cancellation_rate', 'diversion_rate'], \n",
    "    var_name='Disruption Type', \n",
    "    value_name='Rate'\n",
    ")\n",
    "\n",
    "# Create combined line plot for cancellation and diversion rates\n",
    "fig_disrupt = px.line(\n",
    "    monthly_disruptions_long, \n",
    "    x='year_month', \n",
    "    y='Rate', \n",
    "    color='Disruption Type',\n",
    "    title='Cancellation and Diversion Rates Over Time',\n",
    "    markers=True,\n",
    "    labels={\n",
    "        'year_month': 'Year-Month',\n",
    "        'Rate': 'Rate',\n",
    "        'Disruption Type': 'Disruption Type'\n",
    "    }\n",
    ")\n",
    "\n",
    "fig_disrupt.update_layout(\n",
    "    xaxis=dict(tickangle=45),\n",
    "    yaxis=dict(range=[0, monthly_disruptions_long['Rate'].max() * 1.1])\n",
    ")\n",
    "\n",
    "fig_disrupt.show()\n"
   ]
  }
 ],
 "metadata": {
  "kernelspec": {
   "display_name": "Python 3",
   "language": "python",
   "name": "python3"
  },
  "language_info": {
   "codemirror_mode": {
    "name": "ipython",
    "version": 3
   },
   "file_extension": ".py",
   "mimetype": "text/x-python",
   "name": "python",
   "nbconvert_exporter": "python",
   "pygments_lexer": "ipython3",
   "version": "3.12.1"
  }
 },
 "nbformat": 4,
 "nbformat_minor": 5
}
