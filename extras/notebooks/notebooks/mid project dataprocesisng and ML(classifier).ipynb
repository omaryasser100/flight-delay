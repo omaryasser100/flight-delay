{
 "cells": [
  {
   "cell_type": "markdown",
   "id": "a438f44b",
   "metadata": {},
   "source": [
    "### Import Libraries"
   ]
  },
  {
   "cell_type": "code",
   "execution_count": 2,
   "id": "dfab1c34",
   "metadata": {},
   "outputs": [
    {
     "name": "stderr",
     "output_type": "stream",
     "text": [
      "d:\\python\\mid_project_raw\\flight_delay_dashboard_project\\envs\\dashboard_env\\Lib\\site-packages\\tqdm\\auto.py:21: TqdmWarning: IProgress not found. Please update jupyter and ipywidgets. See https://ipywidgets.readthedocs.io/en/stable/user_install.html\n",
      "  from .autonotebook import tqdm as notebook_tqdm\n"
     ]
    }
   ],
   "source": [
    "# Imports\n",
    "import numpy as np\n",
    "import pandas as pd\n",
    "import plotly.express as px\n",
    "from sklearn.model_selection import train_test_split\n",
    "from sklearn.preprocessing import OneHotEncoder, StandardScaler\n",
    "from sklearn.utils.class_weight import compute_class_weight\n",
    "from xgboost import XGBClassifier\n",
    "from sklearn.metrics import f1_score\n",
    "import numpy as np\n",
    "import pandas as pd\n",
    "import optuna\n",
    "\n"
   ]
  },
  {
   "cell_type": "markdown",
   "id": "f5f69926",
   "metadata": {},
   "source": [
    "### Load the Dataset"
   ]
  },
  {
   "cell_type": "code",
   "execution_count": 3,
   "id": "e7ef8bc0",
   "metadata": {},
   "outputs": [],
   "source": [
    "# Load data\n",
    "flight = pd.read_csv('Airline_Delay_Cause.csv')\n",
    "\n",
    "# Basic dataset overview\n",
    "#print(flight.shape)         # Rows and columns\n",
    "#print(flight.info())        # Data types and non-null counts\n",
    "#print(flight.describe())    # Summary stats\n",
    "#print(flight.head())        # Preview first 5 rows\n"
   ]
  },
  {
   "cell_type": "markdown",
   "id": "408bef99",
   "metadata": {},
   "source": [
    "### Check for Missing Values"
   ]
  },
  {
   "cell_type": "code",
   "execution_count": 4,
   "id": "bf3fee50",
   "metadata": {},
   "outputs": [],
   "source": [
    "# Check data types and missing values\n",
    "#print(flight.dtypes)\n",
    "#print(flight.isnull().sum())\n",
    "\n",
    "# Check column names\n",
    "#print(flight.columns)\n",
    "\n",
    "# 📌 Dataset Column Analysis: Flight Delay Prediction\n",
    "# The dataset contains monthly aggregated flight arrival statistics for different carriers and airports.\n",
    "# Each row = unique (carrier, airport, month, year) combination.\n",
    "\n",
    "# 🔸 Temporal Features:\n",
    "#   - 'year', 'month': Track seasonal trends and yearly changes.\n",
    "\n",
    "# 🔸 Airline Info:\n",
    "#   - 'carrier': IATA code (e.g., 'AA')\n",
    "#   - 'carrier_name': Full airline name (visuals only)\n",
    "\n",
    "# 🔸 Airport Info:\n",
    "#   - 'airport': IATA code (e.g., 'LAX')\n",
    "#   - 'airport_name': Full airport name (visuals only)\n",
    "\n",
    "# 🔸 Flight & Delay Counts:\n",
    "#   - 'arr_flights': Total monthly arriving flights\n",
    "#   - 'arr_del15': Flights delayed >15 mins (used to calculate delay rate)\n",
    "\n",
    "# 🔸 Delay Cause Counts (per flight):\n",
    "#   - 'carrier_ct', 'weather_ct', 'nas_ct', 'security_ct', 'late_aircraft_ct'\n",
    "\n",
    "# 🔸 Cancellation & Diversion:\n",
    "#   - 'arr_cancelled': Canceled flights\n",
    "#   - 'arr_diverted': Diverted flights\n",
    "\n",
    "# 🔸 Delay Duration (in minutes):\n",
    "#   - 'arr_delay': Total delay minutes\n",
    "#   - 'carrier_delay', 'weather_delay', 'nas_delay', 'security_delay', 'late_aircraft_delay'\n",
    "\n",
    "# ✅ Summary:\n",
    "# This dataset supports EDA, feature engineering (e.g., delay ratios), and predictive modeling.\n"
   ]
  },
  {
   "cell_type": "markdown",
   "id": "9670bb45",
   "metadata": {},
   "source": [
    "### cleaning the data"
   ]
  },
  {
   "cell_type": "code",
   "execution_count": 5,
   "id": "b08cb963",
   "metadata": {},
   "outputs": [],
   "source": [
    "# 🧹 Data Cleaning\n",
    "\n",
    "# 1. Check for duplicates\n",
    "#print(\"Duplicate rows:\", flight.duplicated().sum())\n",
    "\n",
    "# 2. Missing values summary\n",
    "missing_summary = flight.isna().sum().sort_values(ascending=False)\n",
    "missing_summary = missing_summary[missing_summary > 0]\n",
    "#print(\"\\nMissing values per column:\")\n",
    "#print(missing_summary)\n",
    "\n",
    "# 3. Rows with any missing values\n",
    "#print(\"\\nRows with missing values:\", flight[flight.isna().sum(axis=1) > 0].shape[0])\n",
    "\n",
    "# 4. Drop missing values\n",
    "flight.dropna(inplace=True)\n",
    "\n",
    "# 5. Confirm all missing values are gone\n",
    "#print(\"\\nRemaining missing values:\", flight.isna().sum().sum())\n",
    "#print(\"New shape after dropping missing values:\", flight.shape)\n",
    "\n",
    "# 6. Convert key categorical columns to category type\n",
    "cat_cols = ['carrier', 'carrier_name', 'airport', 'airport_name']\n",
    "for col in cat_cols:\n",
    "    flight[col] = flight[col].astype('category')\n",
    "\n",
    "# 7. Backup categorical columns (good practice)\n",
    "flight_categorical = flight[cat_cols].copy()\n",
    "##print(\"\\nSample of categorical backup (first 5 rows):\")\n",
    "##print(flight_categorical.head())\n",
    "\n",
    "# 8. Check for invalid month values\n",
    "##print(\"\\nMonth value distribution:\")\n",
    "##print(flight['month'].value_counts().sort_index())\n",
    "\n",
    "# 9. Confirm arr_flights and arr_del15 should be integers\n",
    "##print(\"\\narr_flights and arr_del15 stats:\")\n",
    "##print(flight[['arr_flights', 'arr_del15']].describe())\n",
    "\n",
    "flight['arr_flights'] = flight['arr_flights'].astype(int)\n",
    "flight['arr_del15'] = flight['arr_del15'].astype(int)\n",
    "\n",
    "# 10. Final structure check\n",
    "##print(\"\\nFinal DataFrame info:\")\n",
    "##print(flight.info())\n",
    "\n",
    "##print(\"Rows with missing values (final):\", flight.isna().any(axis=1).sum())\n"
   ]
  },
  {
   "cell_type": "markdown",
   "id": "8f4b92f6",
   "metadata": {},
   "source": [
    "### feature engineering"
   ]
  },
  {
   "cell_type": "code",
   "execution_count": 6,
   "id": "79d3a330",
   "metadata": {},
   "outputs": [],
   "source": [
    "# ==============================================================\n",
    "# 📦 Feature Engineering for Classification (Multiclass Risk)\n",
    "# --------------------------------------------------------------\n",
    "# This function adds engineered features used in the classifier pipeline.\n",
    "# It creates 'delay_ratio' and computes 'delay_risk_level' as the multiclass target:\n",
    "#   - 0 = Low Risk   (≤ 20%)\n",
    "#   - 1 = Moderate   (20–40%)\n",
    "#   - 2 = High Risk  (> 40%)\n",
    "# ==============================================================\n",
    "def feature_engineering_classifier(df):\n",
    "    df = df.copy()\n",
    "\n",
    "    # Normalize rates\n",
    "    df['delay_ratio'] = df['arr_del15'] / df['arr_flights']\n",
    "    df['cancellation_rate'] = df['arr_cancelled'] / df['arr_flights']\n",
    "    df['diversion_rate'] = df['arr_diverted'] / df['arr_flights']\n",
    "\n",
    "    # Total delay\n",
    "    delay_cols = ['carrier_delay', 'weather_delay', 'nas_delay', 'security_delay', 'late_aircraft_delay']\n",
    "    df['total_delay'] = df[delay_cols].sum(axis=1)\n",
    "\n",
    "    # Prevent division by 0 → replace total_delay = 0 with NaN, then fill %s with 0\n",
    "    df['total_delay'] = df['total_delay'].replace(0, np.nan)\n",
    "    for col in delay_cols:\n",
    "        new_col = col.replace('_delay', '_delay_pct')\n",
    "        df[new_col] = df[col] / df['total_delay']\n",
    "    pct_cols = [col.replace('_delay', '_delay_pct') for col in delay_cols]\n",
    "    df[pct_cols] = df[pct_cols].fillna(0)\n",
    "\n",
    "    # Year-Month\n",
    "    df['year_month'] = df['year'].astype(str) + '-' + df['month'].astype(str).str.zfill(2)\n",
    "\n",
    "    # Season\n",
    "    df['season'] = df['month'].apply(lambda m: (\n",
    "        'Winter' if m in [12, 1, 2] else\n",
    "        'Spring' if m in [3, 4, 5] else\n",
    "        'Summer' if m in [6, 7, 8] else\n",
    "        'Fall'\n",
    "    ))\n",
    "\n",
    "    # Carrier total flights\n",
    "    carrier_flight_counts = df.groupby('carrier', observed=False)['arr_flights'].transform('sum')\n",
    "    df['carrier_total_flights'] = carrier_flight_counts\n",
    "\n",
    "    # Airport delay rate\n",
    "    airport_delay_ratio = df.groupby('airport', observed=False).apply(\n",
    "        lambda x: x['arr_del15'].sum() / x['arr_flights'].sum()\n",
    "    )\n",
    "    df['airport_delay_rate'] = df['airport'].map(airport_delay_ratio)\n",
    "\n",
    "    # Disruption flag\n",
    "    df['disrupted'] = ((df['arr_cancelled'] > 0) | (df['arr_diverted'] > 0)).astype(int)\n",
    "\n",
    "    # Risk classification\n",
    "    def classify_risk(ratio):\n",
    "        if ratio <= 0.20:\n",
    "            return 0\n",
    "        elif ratio <= 0.40:\n",
    "            return 1\n",
    "        else:\n",
    "            return 2\n",
    "    df['delay_risk_level'] = df['delay_ratio'].apply(classify_risk)\n",
    "\n",
    "    # Mean delay per flight\n",
    "    df['mean_delay_per_flight'] = df['total_delay'] / df['arr_flights']\n",
    "    df['mean_delay_per_flight'] = df['mean_delay_per_flight'].fillna(0)\n",
    "\n",
    "    # Dominant delay cause\n",
    "    df['dominant_delay_cause'] = df[delay_cols].idxmax(axis=1)\n",
    "\n",
    "    # Monthly delay rate\n",
    "    month_delay = df.groupby('month', observed=False).apply(\n",
    "        lambda x: x['arr_del15'].sum() / x['arr_flights'].sum()\n",
    "    )\n",
    "    df['month_delay_rate'] = df['month'].map(month_delay)\n",
    "\n",
    "    # Delay pressure\n",
    "    df['carrier_vs_airport_ratio'] = df['carrier_delay_pct'] / (\n",
    "        df['weather_delay_pct'] + df['nas_delay_pct'] + 1e-6\n",
    "    )\n",
    "\n",
    "    # Seasonal-airport combo\n",
    "    df['season_airport_combo'] = df['season'].astype(str) + '_' + df['airport'].astype(str)\n",
    "    season_airport_delay = df.groupby('season_airport_combo', observed=False).apply(\n",
    "        lambda x: x['arr_del15'].sum() / x['arr_flights'].sum()\n",
    "    )\n",
    "    df['season_airport_delay_rate'] = df['season_airport_combo'].map(season_airport_delay)\n",
    "\n",
    "    # ✅ NaN check\n",
    "    if df.isna().sum().sum() > 0:\n",
    "        print(\"⚠️ Warning: NaNs detected in engineered features\")\n",
    "\n",
    "    return df\n"
   ]
  },
  {
   "cell_type": "markdown",
   "id": "926b327f",
   "metadata": {},
   "source": [
    "### Train,validation and test split then applying feature engineering"
   ]
  },
  {
   "cell_type": "code",
   "execution_count": 7,
   "id": "ca5dff58",
   "metadata": {},
   "outputs": [
    {
     "name": "stderr",
     "output_type": "stream",
     "text": [
      "C:\\Users\\omar yasser\\AppData\\Local\\Temp\\ipykernel_15760\\706567613.py:47: RuntimeWarning: invalid value encountered in scalar divide\n",
      "  lambda x: x['arr_del15'].sum() / x['arr_flights'].sum()\n"
     ]
    },
    {
     "name": "stdout",
     "output_type": "stream",
     "text": [
      "⚠️ Warning: NaNs detected in engineered features\n"
     ]
    },
    {
     "name": "stderr",
     "output_type": "stream",
     "text": [
      "C:\\Users\\omar yasser\\AppData\\Local\\Temp\\ipykernel_15760\\706567613.py:47: RuntimeWarning: invalid value encountered in scalar divide\n",
      "  lambda x: x['arr_del15'].sum() / x['arr_flights'].sum()\n"
     ]
    },
    {
     "name": "stdout",
     "output_type": "stream",
     "text": [
      "⚠️ Warning: NaNs detected in engineered features\n"
     ]
    },
    {
     "name": "stderr",
     "output_type": "stream",
     "text": [
      "C:\\Users\\omar yasser\\AppData\\Local\\Temp\\ipykernel_15760\\706567613.py:47: RuntimeWarning: invalid value encountered in scalar divide\n",
      "  lambda x: x['arr_del15'].sum() / x['arr_flights'].sum()\n"
     ]
    },
    {
     "name": "stdout",
     "output_type": "stream",
     "text": [
      "⚠️ Warning: NaNs detected in engineered features\n"
     ]
    }
   ],
   "source": [
    "# ==============================================================\n",
    "# 📊 Train/Validation/Test Split for Classification Pipeline\n",
    "# --------------------------------------------------------------\n",
    "# - Split BEFORE feature engineering to avoid leakage\n",
    "# - 70% train / 15% validation / 15% test\n",
    "# ==============================================================\n",
    "\n",
    "# STEP 1: Copy raw data before any engineered columns\n",
    "raw_df = flight.copy()\n",
    "\n",
    "# STEP 2: First split → 85% train_val, 15% test\n",
    "X_raw_trainval, X_raw_test = train_test_split(raw_df, test_size=0.15, random_state=42)\n",
    "\n",
    "# STEP 3: Second split → train (70%) and validation (15%)\n",
    "X_raw_train, X_raw_val = train_test_split(X_raw_trainval, test_size=0.1765, random_state=42)  # ≈ 15% of total\n",
    "\n",
    "# STEP 4: Feature Engineering (separately to prevent leakage)\n",
    "X_train_fe = feature_engineering_classifier(X_raw_train)\n",
    "X_val_fe   = feature_engineering_classifier(X_raw_val)\n",
    "X_test_fe  = feature_engineering_classifier(X_raw_test)\n",
    "\n",
    "# STEP 5: Extract multiclass target for classifier\n",
    "y_train_class = X_train_fe['delay_risk_level']\n",
    "y_val_class   = X_val_fe['delay_risk_level']\n",
    "y_test_class  = X_test_fe['delay_risk_level']\n",
    "\n",
    "# STEP 6: Drop target from feature sets\n",
    "X_train_fe.drop(['delay_risk_level'], axis=1, inplace=True)\n",
    "X_val_fe.drop(['delay_risk_level'], axis=1, inplace=True)\n",
    "X_test_fe.drop(['delay_risk_level'], axis=1, inplace=True)\n"
   ]
  },
  {
   "cell_type": "markdown",
   "id": "1b1f8d9d",
   "metadata": {},
   "source": [
    "### Pre processing"
   ]
  },
  {
   "cell_type": "code",
   "execution_count": 8,
   "id": "25103fbd",
   "metadata": {},
   "outputs": [],
   "source": [
    "def preprocessing_classifier(df, fit=True, scaler=None, encoder=None):\n",
    "    \"\"\"\n",
    "    Preprocessing for Multiclass Classifier:\n",
    "    - Drops leakage-prone and irrelevant columns\n",
    "    - Encodes categorical features using OneHotEncoder\n",
    "    - Scales numerical features using StandardScaler\n",
    "    - Saves fitted encoder and scaler globally when fit=True\n",
    "    \"\"\"\n",
    "\n",
    "    global saved_encoder, saved_scaler  # 🔥 Make encoder & scaler globally accessible for dumping\n",
    "\n",
    "    # 🚫 Drop leaky/unnecessary columns\n",
    "    drop_cols = [\n",
    "        'carrier_name', 'airport_name',\n",
    "        'arr_flights', 'arr_del15',\n",
    "        'carrier_ct', 'weather_ct', 'nas_ct', 'security_ct', 'late_aircraft_ct',\n",
    "        'arr_cancelled', 'arr_diverted',\n",
    "        'arr_delay', 'carrier_delay', 'weather_delay', 'nas_delay',\n",
    "        'security_delay', 'late_aircraft_delay', 'total_delay',\n",
    "        'delay_ratio', 'high_delay_flag',\n",
    "        'delay_risk_level', 'year_month', 'season_airport_combo'\n",
    "    ]\n",
    "    df = df.drop(columns=[col for col in drop_cols if col in df.columns], errors='ignore')\n",
    "\n",
    "    # 🧽 Ensure consistency for encoded categorical values\n",
    "    # 🔁 Force string conversion regardless of dtype\n",
    "    pass\n",
    "\n",
    "    # 🧠 Identify features\n",
    "    categorical_cols = df.select_dtypes(include=['category', 'object']).columns.tolist()\n",
    "    numeric_cols = df.select_dtypes(include=['int64', 'float64']).columns.tolist()\n",
    "\n",
    "    # 🔤 Encode categorical features\n",
    "    if fit:\n",
    "        encoder = OneHotEncoder(sparse_output=False, handle_unknown='ignore')\n",
    "        encoded_cat = encoder.fit_transform(df[categorical_cols])\n",
    "        saved_encoder = encoder  # ✅ Store globally for model dumping\n",
    "    else:\n",
    "        encoded_cat = encoder.transform(df[categorical_cols])\n",
    "    encoded_cat_df = pd.DataFrame(encoded_cat, columns=encoder.get_feature_names_out(categorical_cols), index=df.index)\n",
    "\n",
    "    # 🔢 Scale numerical features\n",
    "    if fit:\n",
    "        scaler = StandardScaler()\n",
    "        scaled_num = scaler.fit_transform(df[numeric_cols])\n",
    "        saved_scaler = scaler  # ✅ Store globally for model dumping\n",
    "    else:\n",
    "        scaled_num = scaler.transform(df[numeric_cols])\n",
    "    scaled_num_df = pd.DataFrame(scaled_num, columns=numeric_cols, index=df.index)\n",
    "\n",
    "    # 🔗 Combine encoded + scaled\n",
    "    processed_df = pd.concat([scaled_num_df, encoded_cat_df], axis=1)\n",
    "\n",
    "    # 🚫 Handle remaining NaNs\n",
    "    processed_df = processed_df.fillna(0)\n",
    "\n",
    "    # 🚨 Safety check\n",
    "    if processed_df.isna().sum().sum() > 0:\n",
    "        print(\"⚠️ Warning: NaNs detected in processed data\")\n",
    "\n",
    "    return processed_df, scaler, encoder\n",
    "\n"
   ]
  },
  {
   "cell_type": "markdown",
   "id": "3590be6d",
   "metadata": {},
   "source": [
    "### Apply Classifier-Specific Preprocessing"
   ]
  },
  {
   "cell_type": "code",
   "execution_count": null,
   "id": "a8387c7d",
   "metadata": {},
   "outputs": [],
   "source": [
    "# --------------------------------------------------------------\n",
    "# Outputs fully processed datasets for training/validation/testing\n",
    "# ==============================================================\n",
    "\n",
    "X_train_class_processed, scaler_class, encoder_class = preprocessing_classifier(X_train_fe, fit=True)\n",
    "X_val_class_processed, _, _ = preprocessing_classifier(X_val_fe, fit=False, scaler=scaler_class, encoder=encoder_class)\n",
    "X_test_class_processed, _, _ = preprocessing_classifier(X_test_fe, fit=False, scaler=scaler_class, encoder=encoder_class)\n",
    "\n"
   ]
  },
  {
   "cell_type": "markdown",
   "id": "f2931c18",
   "metadata": {},
   "source": [
    "### Tests "
   ]
  },
  {
   "cell_type": "code",
   "execution_count": 10,
   "id": "0974ac38",
   "metadata": {},
   "outputs": [
    {
     "name": "stdout",
     "output_type": "stream",
     "text": [
      "🧠 Final training features:\n",
      "year                                        float64\n",
      "month                                       float64\n",
      "cancellation_rate                           float64\n",
      "diversion_rate                              float64\n",
      "carrier_delay_pct                           float64\n",
      "                                             ...   \n",
      "dominant_delay_cause_carrier_delay          float64\n",
      "dominant_delay_cause_late_aircraft_delay    float64\n",
      "dominant_delay_cause_nas_delay              float64\n",
      "dominant_delay_cause_security_delay         float64\n",
      "dominant_delay_cause_weather_delay          float64\n",
      "Length: 434, dtype: object\n",
      "✅ Columns used: ['year', 'month', 'cancellation_rate', 'diversion_rate', 'carrier_delay_pct', 'weather_delay_pct', 'nas_delay_pct', 'security_delay_pct', 'late_aircraft_delay_pct', 'airport_delay_rate', 'mean_delay_per_flight', 'month_delay_rate', 'carrier_vs_airport_ratio', 'season_airport_delay_rate', 'carrier_9E', 'carrier_AA', 'carrier_AS', 'carrier_B6', 'carrier_DL', 'carrier_EV', 'carrier_F9', 'carrier_FL', 'carrier_G4', 'carrier_HA', 'carrier_MQ', 'carrier_NK', 'carrier_OH', 'carrier_OO', 'carrier_QX', 'carrier_UA', 'carrier_US', 'carrier_VX', 'carrier_WN', 'carrier_YV', 'carrier_YX', 'airport_ABE', 'airport_ABI', 'airport_ABQ', 'airport_ABR', 'airport_ABY', 'airport_ACK', 'airport_ACT', 'airport_ACV', 'airport_ACY', 'airport_ADK', 'airport_ADQ', 'airport_AEX', 'airport_AGS', 'airport_AKN', 'airport_ALB', 'airport_ALO', 'airport_ALS', 'airport_ALW', 'airport_AMA', 'airport_ANC', 'airport_APN', 'airport_ART', 'airport_ASE', 'airport_ATL', 'airport_ATW', 'airport_ATY', 'airport_AUS', 'airport_AVL', 'airport_AVP', 'airport_AZA', 'airport_AZO', 'airport_BDL', 'airport_BET', 'airport_BFF', 'airport_BFL', 'airport_BFM', 'airport_BGM', 'airport_BGR', 'airport_BHM', 'airport_BIH', 'airport_BIL', 'airport_BIS', 'airport_BJI', 'airport_BKG', 'airport_BLI', 'airport_BLV', 'airport_BMI', 'airport_BNA', 'airport_BOI', 'airport_BOS', 'airport_BPT', 'airport_BQK', 'airport_BQN', 'airport_BRD', 'airport_BRO', 'airport_BRW', 'airport_BTM', 'airport_BTR', 'airport_BTV', 'airport_BUF', 'airport_BUR', 'airport_BWI', 'airport_BZN', 'airport_CAE', 'airport_CAK', 'airport_CDB', 'airport_CDC', 'airport_CDV', 'airport_CEC', 'airport_CGI', 'airport_CHA', 'airport_CHO', 'airport_CHS', 'airport_CIC', 'airport_CID', 'airport_CIU', 'airport_CKB', 'airport_CLD', 'airport_CLE', 'airport_CLL', 'airport_CLT', 'airport_CMH', 'airport_CMI', 'airport_CMX', 'airport_CNY', 'airport_COD', 'airport_COS', 'airport_COU', 'airport_CPR', 'airport_CRP', 'airport_CRW', 'airport_CSG', 'airport_CVG', 'airport_CWA', 'airport_CYS', 'airport_DAB', 'airport_DAL', 'airport_DAY', 'airport_DBQ', 'airport_DCA', 'airport_DDC', 'airport_DEC', 'airport_DEN', 'airport_DFW', 'airport_DHN', 'airport_DIK', 'airport_DLG', 'airport_DLH', 'airport_DRO', 'airport_DRT', 'airport_DSM', 'airport_DTW', 'airport_DVL', 'airport_EAR', 'airport_EAT', 'airport_EAU', 'airport_ECP', 'airport_EGE', 'airport_EKO', 'airport_ELM', 'airport_ELP', 'airport_ERI', 'airport_ESC', 'airport_EUG', 'airport_EVV', 'airport_EWN', 'airport_EWR', 'airport_EYW', 'airport_FAI', 'airport_FAR', 'airport_FAT', 'airport_FAY', 'airport_FCA', 'airport_FLG', 'airport_FLL', 'airport_FLO', 'airport_FNT', 'airport_FOD', 'airport_FOE', 'airport_FSD', 'airport_FSM', 'airport_FWA', 'airport_GCC', 'airport_GCK', 'airport_GEG', 'airport_GFK', 'airport_GGG', 'airport_GJT', 'airport_GNV', 'airport_GPT', 'airport_GRB', 'airport_GRI', 'airport_GRK', 'airport_GRR', 'airport_GSO', 'airport_GSP', 'airport_GST', 'airport_GTF', 'airport_GTR', 'airport_GUC', 'airport_GUM', 'airport_HDN', 'airport_HGR', 'airport_HHH', 'airport_HIB', 'airport_HLN', 'airport_HNL', 'airport_HOB', 'airport_HOU', 'airport_HPN', 'airport_HRL', 'airport_HSV', 'airport_HTS', 'airport_HVN', 'airport_HYA', 'airport_HYS', 'airport_IAD', 'airport_IAG', 'airport_IAH', 'airport_ICT', 'airport_IDA', 'airport_IFP', 'airport_ILG', 'airport_ILM', 'airport_IMT', 'airport_IND', 'airport_INL', 'airport_IPT', 'airport_ISN', 'airport_ISP', 'airport_ITH', 'airport_ITO', 'airport_IYK', 'airport_JAC', 'airport_JAN', 'airport_JAX', 'airport_JFK', 'airport_JLN', 'airport_JMS', 'airport_JNU', 'airport_JST', 'airport_KOA', 'airport_KTN', 'airport_LAN', 'airport_LAR', 'airport_LAS', 'airport_LAW', 'airport_LAX', 'airport_LBB', 'airport_LBE', 'airport_LBF', 'airport_LBL', 'airport_LCH', 'airport_LCK', 'airport_LEX', 'airport_LFT', 'airport_LGA', 'airport_LGB', 'airport_LIH', 'airport_LIT', 'airport_LMT', 'airport_LNK', 'airport_LRD', 'airport_LSE', 'airport_LWB', 'airport_LWS', 'airport_LYH', 'airport_MAF', 'airport_MBS', 'airport_MCI', 'airport_MCO', 'airport_MCW', 'airport_MDT', 'airport_MDW', 'airport_MEI', 'airport_MEM', 'airport_MFE', 'airport_MFR', 'airport_MGM', 'airport_MHK', 'airport_MHT', 'airport_MIA', 'airport_MKE', 'airport_MKG', 'airport_MLB', 'airport_MLI', 'airport_MLU', 'airport_MMH', 'airport_MOB', 'airport_MOD', 'airport_MOT', 'airport_MQT', 'airport_MRY', 'airport_MSN', 'airport_MSO', 'airport_MSP', 'airport_MSY', 'airport_MTJ', 'airport_MVY', 'airport_MYR', 'airport_OAJ', 'airport_OAK', 'airport_OGD', 'airport_OGG', 'airport_OGS', 'airport_OKC', 'airport_OMA', 'airport_OME', 'airport_ONT', 'airport_ORD', 'airport_ORF', 'airport_ORH', 'airport_OTH', 'airport_OTZ', 'airport_OWB', 'airport_PAE', 'airport_PAH', 'airport_PBG', 'airport_PBI', 'airport_PDX', 'airport_PGD', 'airport_PGV', 'airport_PHF', 'airport_PHL', 'airport_PHX', 'airport_PIA', 'airport_PIB', 'airport_PIE', 'airport_PIH', 'airport_PIR', 'airport_PIT', 'airport_PLN', 'airport_PNS', 'airport_PPG', 'airport_PRC', 'airport_PSC', 'airport_PSE', 'airport_PSG', 'airport_PSM', 'airport_PSP', 'airport_PUB', 'airport_PUW', 'airport_PVD', 'airport_PVU', 'airport_PWM', 'airport_RAP', 'airport_RDD', 'airport_RDM', 'airport_RDU', 'airport_RFD', 'airport_RHI', 'airport_RIC', 'airport_RIW', 'airport_RKS', 'airport_RNO', 'airport_ROA', 'airport_ROC', 'airport_ROW', 'airport_RST', 'airport_RSW', 'airport_SAF', 'airport_SAN', 'airport_SAT', 'airport_SAV', 'airport_SBA', 'airport_SBN', 'airport_SBP', 'airport_SCC', 'airport_SCE', 'airport_SCK', 'airport_SDF', 'airport_SEA', 'airport_SFB', 'airport_SFO', 'airport_SGF', 'airport_SGU', 'airport_SHD', 'airport_SHR', 'airport_SHV', 'airport_SIT', 'airport_SJC', 'airport_SJT', 'airport_SJU', 'airport_SLC', 'airport_SLN', 'airport_SMF', 'airport_SMX', 'airport_SNA', 'airport_SPI', 'airport_SPN', 'airport_SPS', 'airport_SRQ', 'airport_STC', 'airport_STL', 'airport_STS', 'airport_STT', 'airport_STX', 'airport_SUN', 'airport_SUX', 'airport_SWF', 'airport_SWO', 'airport_SYR', 'airport_TBN', 'airport_TLH', 'airport_TOL', 'airport_TPA', 'airport_TRI', 'airport_TTN', 'airport_TUL', 'airport_TUS', 'airport_TVC', 'airport_TWF', 'airport_TXK', 'airport_TYR', 'airport_TYS', 'airport_UIN', 'airport_USA', 'airport_UST', 'airport_VCT', 'airport_VEL', 'airport_VLD', 'airport_VPS', 'airport_WRG', 'airport_WYS', 'airport_XNA', 'airport_XWA', 'airport_YAK', 'airport_YKM', 'airport_YNG', 'airport_YUM', 'season_Fall', 'season_Spring', 'season_Summer', 'season_Winter', 'dominant_delay_cause_carrier_delay', 'dominant_delay_cause_late_aircraft_delay', 'dominant_delay_cause_nas_delay', 'dominant_delay_cause_security_delay', 'dominant_delay_cause_weather_delay']\n",
      "🔢 Columns that were one-hot encoded: ['carrier_9E' 'carrier_AA' 'carrier_AS' 'carrier_B6' 'carrier_DL'\n",
      " 'carrier_EV' 'carrier_F9' 'carrier_FL' 'carrier_G4' 'carrier_HA'\n",
      " 'carrier_MQ' 'carrier_NK' 'carrier_OH' 'carrier_OO' 'carrier_QX'\n",
      " 'carrier_UA' 'carrier_US' 'carrier_VX' 'carrier_WN' 'carrier_YV'\n",
      " 'carrier_YX' 'airport_ABE' 'airport_ABI' 'airport_ABQ' 'airport_ABR'\n",
      " 'airport_ABY' 'airport_ACK' 'airport_ACT' 'airport_ACV' 'airport_ACY'\n",
      " 'airport_ADK' 'airport_ADQ' 'airport_AEX' 'airport_AGS' 'airport_AKN'\n",
      " 'airport_ALB' 'airport_ALO' 'airport_ALS' 'airport_ALW' 'airport_AMA'\n",
      " 'airport_ANC' 'airport_APN' 'airport_ART' 'airport_ASE' 'airport_ATL'\n",
      " 'airport_ATW' 'airport_ATY' 'airport_AUS' 'airport_AVL' 'airport_AVP'\n",
      " 'airport_AZA' 'airport_AZO' 'airport_BDL' 'airport_BET' 'airport_BFF'\n",
      " 'airport_BFL' 'airport_BFM' 'airport_BGM' 'airport_BGR' 'airport_BHM'\n",
      " 'airport_BIH' 'airport_BIL' 'airport_BIS' 'airport_BJI' 'airport_BKG'\n",
      " 'airport_BLI' 'airport_BLV' 'airport_BMI' 'airport_BNA' 'airport_BOI'\n",
      " 'airport_BOS' 'airport_BPT' 'airport_BQK' 'airport_BQN' 'airport_BRD'\n",
      " 'airport_BRO' 'airport_BRW' 'airport_BTM' 'airport_BTR' 'airport_BTV'\n",
      " 'airport_BUF' 'airport_BUR' 'airport_BWI' 'airport_BZN' 'airport_CAE'\n",
      " 'airport_CAK' 'airport_CDB' 'airport_CDC' 'airport_CDV' 'airport_CEC'\n",
      " 'airport_CGI' 'airport_CHA' 'airport_CHO' 'airport_CHS' 'airport_CIC'\n",
      " 'airport_CID' 'airport_CIU' 'airport_CKB' 'airport_CLD' 'airport_CLE'\n",
      " 'airport_CLL' 'airport_CLT' 'airport_CMH' 'airport_CMI' 'airport_CMX'\n",
      " 'airport_CNY' 'airport_COD' 'airport_COS' 'airport_COU' 'airport_CPR'\n",
      " 'airport_CRP' 'airport_CRW' 'airport_CSG' 'airport_CVG' 'airport_CWA'\n",
      " 'airport_CYS' 'airport_DAB' 'airport_DAL' 'airport_DAY' 'airport_DBQ'\n",
      " 'airport_DCA' 'airport_DDC' 'airport_DEC' 'airport_DEN' 'airport_DFW'\n",
      " 'airport_DHN' 'airport_DIK' 'airport_DLG' 'airport_DLH' 'airport_DRO'\n",
      " 'airport_DRT' 'airport_DSM' 'airport_DTW' 'airport_DVL' 'airport_EAR'\n",
      " 'airport_EAT' 'airport_EAU' 'airport_ECP' 'airport_EGE' 'airport_EKO'\n",
      " 'airport_ELM' 'airport_ELP' 'airport_ERI' 'airport_ESC' 'airport_EUG'\n",
      " 'airport_EVV' 'airport_EWN' 'airport_EWR' 'airport_EYW' 'airport_FAI'\n",
      " 'airport_FAR' 'airport_FAT' 'airport_FAY' 'airport_FCA' 'airport_FLG'\n",
      " 'airport_FLL' 'airport_FLO' 'airport_FNT' 'airport_FOD' 'airport_FOE'\n",
      " 'airport_FSD' 'airport_FSM' 'airport_FWA' 'airport_GCC' 'airport_GCK'\n",
      " 'airport_GEG' 'airport_GFK' 'airport_GGG' 'airport_GJT' 'airport_GNV'\n",
      " 'airport_GPT' 'airport_GRB' 'airport_GRI' 'airport_GRK' 'airport_GRR'\n",
      " 'airport_GSO' 'airport_GSP' 'airport_GST' 'airport_GTF' 'airport_GTR'\n",
      " 'airport_GUC' 'airport_GUM' 'airport_HDN' 'airport_HGR' 'airport_HHH'\n",
      " 'airport_HIB' 'airport_HLN' 'airport_HNL' 'airport_HOB' 'airport_HOU'\n",
      " 'airport_HPN' 'airport_HRL' 'airport_HSV' 'airport_HTS' 'airport_HVN'\n",
      " 'airport_HYA' 'airport_HYS' 'airport_IAD' 'airport_IAG' 'airport_IAH'\n",
      " 'airport_ICT' 'airport_IDA' 'airport_IFP' 'airport_ILG' 'airport_ILM'\n",
      " 'airport_IMT' 'airport_IND' 'airport_INL' 'airport_IPT' 'airport_ISN'\n",
      " 'airport_ISP' 'airport_ITH' 'airport_ITO' 'airport_IYK' 'airport_JAC'\n",
      " 'airport_JAN' 'airport_JAX' 'airport_JFK' 'airport_JLN' 'airport_JMS'\n",
      " 'airport_JNU' 'airport_JST' 'airport_KOA' 'airport_KTN' 'airport_LAN'\n",
      " 'airport_LAR' 'airport_LAS' 'airport_LAW' 'airport_LAX' 'airport_LBB'\n",
      " 'airport_LBE' 'airport_LBF' 'airport_LBL' 'airport_LCH' 'airport_LCK'\n",
      " 'airport_LEX' 'airport_LFT' 'airport_LGA' 'airport_LGB' 'airport_LIH'\n",
      " 'airport_LIT' 'airport_LMT' 'airport_LNK' 'airport_LRD' 'airport_LSE'\n",
      " 'airport_LWB' 'airport_LWS' 'airport_LYH' 'airport_MAF' 'airport_MBS'\n",
      " 'airport_MCI' 'airport_MCO' 'airport_MCW' 'airport_MDT' 'airport_MDW'\n",
      " 'airport_MEI' 'airport_MEM' 'airport_MFE' 'airport_MFR' 'airport_MGM'\n",
      " 'airport_MHK' 'airport_MHT' 'airport_MIA' 'airport_MKE' 'airport_MKG'\n",
      " 'airport_MLB' 'airport_MLI' 'airport_MLU' 'airport_MMH' 'airport_MOB'\n",
      " 'airport_MOD' 'airport_MOT' 'airport_MQT' 'airport_MRY' 'airport_MSN'\n",
      " 'airport_MSO' 'airport_MSP' 'airport_MSY' 'airport_MTJ' 'airport_MVY'\n",
      " 'airport_MYR' 'airport_OAJ' 'airport_OAK' 'airport_OGD' 'airport_OGG'\n",
      " 'airport_OGS' 'airport_OKC' 'airport_OMA' 'airport_OME' 'airport_ONT'\n",
      " 'airport_ORD' 'airport_ORF' 'airport_ORH' 'airport_OTH' 'airport_OTZ'\n",
      " 'airport_OWB' 'airport_PAE' 'airport_PAH' 'airport_PBG' 'airport_PBI'\n",
      " 'airport_PDX' 'airport_PGD' 'airport_PGV' 'airport_PHF' 'airport_PHL'\n",
      " 'airport_PHX' 'airport_PIA' 'airport_PIB' 'airport_PIE' 'airport_PIH'\n",
      " 'airport_PIR' 'airport_PIT' 'airport_PLN' 'airport_PNS' 'airport_PPG'\n",
      " 'airport_PRC' 'airport_PSC' 'airport_PSE' 'airport_PSG' 'airport_PSM'\n",
      " 'airport_PSP' 'airport_PUB' 'airport_PUW' 'airport_PVD' 'airport_PVU'\n",
      " 'airport_PWM' 'airport_RAP' 'airport_RDD' 'airport_RDM' 'airport_RDU'\n",
      " 'airport_RFD' 'airport_RHI' 'airport_RIC' 'airport_RIW' 'airport_RKS'\n",
      " 'airport_RNO' 'airport_ROA' 'airport_ROC' 'airport_ROW' 'airport_RST'\n",
      " 'airport_RSW' 'airport_SAF' 'airport_SAN' 'airport_SAT' 'airport_SAV'\n",
      " 'airport_SBA' 'airport_SBN' 'airport_SBP' 'airport_SCC' 'airport_SCE'\n",
      " 'airport_SCK' 'airport_SDF' 'airport_SEA' 'airport_SFB' 'airport_SFO'\n",
      " 'airport_SGF' 'airport_SGU' 'airport_SHD' 'airport_SHR' 'airport_SHV'\n",
      " 'airport_SIT' 'airport_SJC' 'airport_SJT' 'airport_SJU' 'airport_SLC'\n",
      " 'airport_SLN' 'airport_SMF' 'airport_SMX' 'airport_SNA' 'airport_SPI'\n",
      " 'airport_SPN' 'airport_SPS' 'airport_SRQ' 'airport_STC' 'airport_STL'\n",
      " 'airport_STS' 'airport_STT' 'airport_STX' 'airport_SUN' 'airport_SUX'\n",
      " 'airport_SWF' 'airport_SWO' 'airport_SYR' 'airport_TBN' 'airport_TLH'\n",
      " 'airport_TOL' 'airport_TPA' 'airport_TRI' 'airport_TTN' 'airport_TUL'\n",
      " 'airport_TUS' 'airport_TVC' 'airport_TWF' 'airport_TXK' 'airport_TYR'\n",
      " 'airport_TYS' 'airport_UIN' 'airport_USA' 'airport_UST' 'airport_VCT'\n",
      " 'airport_VEL' 'airport_VLD' 'airport_VPS' 'airport_WRG' 'airport_WYS'\n",
      " 'airport_XNA' 'airport_XWA' 'airport_YAK' 'airport_YKM' 'airport_YNG'\n",
      " 'airport_YUM' 'season_Fall' 'season_Spring' 'season_Summer'\n",
      " 'season_Winter' 'dominant_delay_cause_carrier_delay'\n",
      " 'dominant_delay_cause_late_aircraft_delay'\n",
      " 'dominant_delay_cause_nas_delay' 'dominant_delay_cause_security_delay'\n",
      " 'dominant_delay_cause_weather_delay']\n"
     ]
    }
   ],
   "source": [
    "print(\"🧠 Final training features:\")\n",
    "print(X_train_class_processed.dtypes)\n",
    "print(\"✅ Columns used:\", list(X_train_class_processed.columns))\n",
    "         \n",
    "print(\"🔢 Columns that were one-hot encoded:\", saved_encoder.get_feature_names_out())\n"
   ]
  },
  {
   "cell_type": "markdown",
   "id": "475a3e31",
   "metadata": {},
   "source": [
    "### checking for class imbalance"
   ]
  },
  {
   "cell_type": "code",
   "execution_count": 11,
   "id": "e7e87ac1",
   "metadata": {},
   "outputs": [
    {
     "name": "stdout",
     "output_type": "stream",
     "text": [
      "📊 Class Distribution (%)\n"
     ]
    },
    {
     "data": {
      "text/html": [
       "<div>\n",
       "<style scoped>\n",
       "    .dataframe tbody tr th:only-of-type {\n",
       "        vertical-align: middle;\n",
       "    }\n",
       "\n",
       "    .dataframe tbody tr th {\n",
       "        vertical-align: top;\n",
       "    }\n",
       "\n",
       "    .dataframe thead th {\n",
       "        text-align: right;\n",
       "    }\n",
       "</style>\n",
       "<table border=\"1\" class=\"dataframe\">\n",
       "  <thead>\n",
       "    <tr style=\"text-align: right;\">\n",
       "      <th></th>\n",
       "      <th>Low Risk (0)</th>\n",
       "      <th>Moderate Risk (1)</th>\n",
       "      <th>High Risk (2)</th>\n",
       "    </tr>\n",
       "  </thead>\n",
       "  <tbody>\n",
       "    <tr>\n",
       "      <th>Train</th>\n",
       "      <td>61.989470</td>\n",
       "      <td>34.738968</td>\n",
       "      <td>3.271562</td>\n",
       "    </tr>\n",
       "    <tr>\n",
       "      <th>Validation</th>\n",
       "      <td>61.947213</td>\n",
       "      <td>34.685456</td>\n",
       "      <td>3.367331</td>\n",
       "    </tr>\n",
       "    <tr>\n",
       "      <th>Test</th>\n",
       "      <td>62.186575</td>\n",
       "      <td>34.285937</td>\n",
       "      <td>3.527488</td>\n",
       "    </tr>\n",
       "  </tbody>\n",
       "</table>\n",
       "</div>"
      ],
      "text/plain": [
       "            Low Risk (0)  Moderate Risk (1)  High Risk (2)\n",
       "Train          61.989470          34.738968       3.271562\n",
       "Validation     61.947213          34.685456       3.367331\n",
       "Test           62.186575          34.285937       3.527488"
      ]
     },
     "metadata": {},
     "output_type": "display_data"
    }
   ],
   "source": [
    "#class imbalance check\n",
    "import pandas as pd\n",
    "\n",
    "# Calculate class distribution for each split\n",
    "class_distribution = {\n",
    "    \"Train\": y_train_class.value_counts(normalize=True).sort_index(),\n",
    "    \"Validation\": y_val_class.value_counts(normalize=True).sort_index(),\n",
    "    \"Test\": y_test_class.value_counts(normalize=True).sort_index()\n",
    "}\n",
    "\n",
    "# Convert to DataFrame (in percentage)\n",
    "class_dist_df = pd.DataFrame(class_distribution).T\n",
    "class_dist_df.columns = ['Low Risk (0)', 'Moderate Risk (1)', 'High Risk (2)']\n",
    "class_dist_df = class_dist_df * 100  # Convert to %\n",
    "\n",
    "# Show as table\n",
    "print(\"📊 Class Distribution (%)\")\n",
    "display(class_dist_df)\n"
   ]
  },
  {
   "cell_type": "markdown",
   "id": "a32f00c7",
   "metadata": {},
   "source": [
    "### Applying smote"
   ]
  },
  {
   "cell_type": "code",
   "execution_count": 13,
   "id": "f22ac466",
   "metadata": {},
   "outputs": [
    {
     "name": "stdout",
     "output_type": "stream",
     "text": [
      "✅ Resampled training set class distribution:\n",
      "delay_risk_level\n",
      "0    74295\n",
      "1    74295\n",
      "2    74295\n",
      "Name: count, dtype: int64\n"
     ]
    }
   ],
   "source": [
    "#due to heavy imbalance smote is applied\n",
    "from imblearn.over_sampling import SMOTE\n",
    "from collections import Counter\n",
    "\n",
    "# Apply SMOTE on classifier training data only\n",
    "smote = SMOTE(random_state=42)\n",
    "X_train_balanced, y_train_balanced = smote.fit_resample(X_train_class_processed, y_train_class)\n",
    "\n",
    "# Optional: Check new class distribution\n",
    "print(\"✅ Resampled training set class distribution:\")\n",
    "print(pd.Series(y_train_balanced).value_counts())\n"
   ]
  },
  {
   "cell_type": "markdown",
   "id": "240f4297",
   "metadata": {},
   "source": [
    "### Applying ADASYN and compairing to smote"
   ]
  },
  {
   "cell_type": "code",
   "execution_count": 14,
   "id": "576d8aae",
   "metadata": {},
   "outputs": [
    {
     "data": {
      "text/plain": [
       "'\\nfrom imblearn.over_sampling import ADASYN\\nfrom collections import Counter\\n\\n# Apply SMOTE on classifier training data only\\nsmote = ADASYN(random_state=42)\\nX_train_balanced, y_train_balanced = smote.fit_resample(X_train_class_processed, y_train_class)\\n\\n# Optional: Check new class distribution\\nprint(\"✅ Resampled training set class distribution:\")\\nprint(pd.Series(y_train_balanced).value_counts())\\n'"
      ]
     },
     "execution_count": 14,
     "metadata": {},
     "output_type": "execute_result"
    }
   ],
   "source": [
    "'''\n",
    "from imblearn.over_sampling import ADASYN\n",
    "from collections import Counter\n",
    "\n",
    "# Apply SMOTE on classifier training data only\n",
    "smote = ADASYN(random_state=42)\n",
    "X_train_balanced, y_train_balanced = smote.fit_resample(X_train_class_processed, y_train_class)\n",
    "\n",
    "# Optional: Check new class distribution\n",
    "print(\"✅ Resampled training set class distribution:\")\n",
    "print(pd.Series(y_train_balanced).value_counts())\n",
    "'''"
   ]
  },
  {
   "cell_type": "markdown",
   "id": "c9a54a43",
   "metadata": {},
   "source": [
    "### Applying ADASYN and comparing to Smote"
   ]
  },
  {
   "cell_type": "code",
   "execution_count": 15,
   "id": "4bae9a92",
   "metadata": {},
   "outputs": [
    {
     "data": {
      "text/plain": [
       "'#due to heavy imbalance smote is applied\\nfrom imblearn.over_sampling import BorderlineSMOTE\\nfrom collections import Counter\\n\\n# Apply SMOTE on classifier training data only\\nsmote = BorderlineSMOTE(random_state=42)\\nX_train_balanced, y_train_balanced = smote.fit_resample(X_train_class_processed, y_train_class)\\n\\n# Optional: Check new class distribution\\nprint(\"✅ Resampled training set class distribution:\")\\nprint(pd.Series(y_train_balanced).value_counts())\\n'"
      ]
     },
     "execution_count": 15,
     "metadata": {},
     "output_type": "execute_result"
    }
   ],
   "source": [
    "'''#due to heavy imbalance smote is applied\n",
    "from imblearn.over_sampling import BorderlineSMOTE\n",
    "from collections import Counter\n",
    "\n",
    "# Apply SMOTE on classifier training data only\n",
    "smote = BorderlineSMOTE(random_state=42)\n",
    "X_train_balanced, y_train_balanced = smote.fit_resample(X_train_class_processed, y_train_class)\n",
    "\n",
    "# Optional: Check new class distribution\n",
    "print(\"✅ Resampled training set class distribution:\")\n",
    "print(pd.Series(y_train_balanced).value_counts())\n",
    "'''"
   ]
  },
  {
   "cell_type": "markdown",
   "id": "6fe5fec4",
   "metadata": {},
   "source": [
    "### Optimizing with optuna"
   ]
  },
  {
   "cell_type": "code",
   "execution_count": null,
   "id": "15f6c1d6",
   "metadata": {},
   "outputs": [
    {
     "name": "stderr",
     "output_type": "stream",
     "text": [
      "[I 2025-06-11 15:50:43,330] A new study created in memory with name: no-name-cb46da7c-20b4-4866-a60d-9a1046e8ad2a\n",
      "[I 2025-06-11 15:51:55,946] Trial 0 finished with value: 0.7100381381465838 and parameters: {'n_estimators': 174, 'max_depth': 4, 'learning_rate': 0.08517968818853446, 'subsample': 0.9635798214102181, 'colsample_bytree': 0.8412347296103792}. Best is trial 0 with value: 0.7100381381465838.\n"
     ]
    }
   ],
   "source": [
    "from xgboost import XGBClassifier\n",
    "from sklearn.utils.class_weight import compute_class_weight\n",
    "from sklearn.metrics import f1_score\n",
    "import numpy as np\n",
    "import pandas as pd\n",
    "\n",
    "def objective(trial):\n",
    "    params = {\n",
    "        \"n_estimators\": trial.suggest_int(\"n_estimators\", 50, 200),  # smaller range = faster\n",
    "        \"max_depth\": trial.suggest_int(\"max_depth\", 3, 8),\n",
    "        \"learning_rate\": trial.suggest_float(\"learning_rate\", 0.05, 0.3),\n",
    "        \"subsample\": trial.suggest_float(\"subsample\", 0.6, 1.0),\n",
    "        \"colsample_bytree\": trial.suggest_float(\"colsample_bytree\", 0.6, 1.0),\n",
    "        \"tree_method\": \"hist\",\n",
    "        \"objective\": \"multi:softprob\",\n",
    "        \"eval_metric\": \"mlogloss\",\n",
    "        \"num_class\": 3,\n",
    "        \"random_state\": 42,\n",
    "        \"n_jobs\": -1,\n",
    "        \"verbosity\": 0\n",
    "    }\n",
    "\n",
    "    weights = compute_class_weight(\"balanced\", classes=np.array([0, 1, 2]), y=y_train_balanced)\n",
    "    sample_weights = pd.Series(y_train_balanced).map(dict(enumerate(weights)))\n",
    "\n",
    "    model = XGBClassifier(**params)\n",
    "    model.fit(\n",
    "        X_train_balanced, y_train_balanced,\n",
    "        sample_weight=sample_weights,\n",
    "        eval_set=[(X_val_class_processed, y_val_class)],\n",
    "        verbose=False\n",
    "    )\n",
    "\n",
    "    preds = model.predict(X_val_class_processed)\n",
    "    return f1_score(y_val_class, preds, average=\"macro\")\n",
    "\n",
    "\n",
    "study = optuna.create_study(direction=\"maximize\")\n",
    "study.optimize(objective, n_trials=50)  # ⬅️ NOT 1\n"
   ]
  },
  {
   "cell_type": "markdown",
   "id": "7d5a6e4a",
   "metadata": {},
   "source": [
    "### Model training"
   ]
  },
  {
   "cell_type": "code",
   "execution_count": 17,
   "id": "19d02437",
   "metadata": {},
   "outputs": [
    {
     "name": "stdout",
     "output_type": "stream",
     "text": [
      "[0]\tvalidation_0-mlogloss:1.03092\n",
      "[1]\tvalidation_0-mlogloss:0.99476\n",
      "[2]\tvalidation_0-mlogloss:0.94123\n",
      "[3]\tvalidation_0-mlogloss:0.91244\n",
      "[4]\tvalidation_0-mlogloss:0.89292\n",
      "[5]\tvalidation_0-mlogloss:0.85183\n",
      "[6]\tvalidation_0-mlogloss:0.81549\n",
      "[7]\tvalidation_0-mlogloss:0.78382\n",
      "[8]\tvalidation_0-mlogloss:0.75521\n",
      "[9]\tvalidation_0-mlogloss:0.72958\n",
      "[10]\tvalidation_0-mlogloss:0.70634\n",
      "[11]\tvalidation_0-mlogloss:0.69468\n",
      "[12]\tvalidation_0-mlogloss:0.67804\n",
      "[13]\tvalidation_0-mlogloss:0.66280\n",
      "[14]\tvalidation_0-mlogloss:0.64906\n",
      "[15]\tvalidation_0-mlogloss:0.63615\n",
      "[16]\tvalidation_0-mlogloss:0.62470\n",
      "[17]\tvalidation_0-mlogloss:0.61412\n",
      "[18]\tvalidation_0-mlogloss:0.60425\n",
      "[19]\tvalidation_0-mlogloss:0.59308\n",
      "[20]\tvalidation_0-mlogloss:0.58410\n",
      "[21]\tvalidation_0-mlogloss:0.57594\n",
      "[22]\tvalidation_0-mlogloss:0.56853\n",
      "[23]\tvalidation_0-mlogloss:0.56316\n",
      "[24]\tvalidation_0-mlogloss:0.55531\n",
      "[25]\tvalidation_0-mlogloss:0.54928\n",
      "[26]\tvalidation_0-mlogloss:0.54251\n",
      "[27]\tvalidation_0-mlogloss:0.53636\n",
      "[28]\tvalidation_0-mlogloss:0.53201\n",
      "[29]\tvalidation_0-mlogloss:0.52735\n",
      "[30]\tvalidation_0-mlogloss:0.52312\n",
      "[31]\tvalidation_0-mlogloss:0.52026\n",
      "[32]\tvalidation_0-mlogloss:0.51670\n",
      "[33]\tvalidation_0-mlogloss:0.51236\n",
      "[34]\tvalidation_0-mlogloss:0.50839\n",
      "[35]\tvalidation_0-mlogloss:0.50497\n",
      "[36]\tvalidation_0-mlogloss:0.50142\n",
      "[37]\tvalidation_0-mlogloss:0.49906\n",
      "[38]\tvalidation_0-mlogloss:0.49598\n",
      "[39]\tvalidation_0-mlogloss:0.49307\n",
      "[40]\tvalidation_0-mlogloss:0.49064\n",
      "[41]\tvalidation_0-mlogloss:0.48806\n",
      "[42]\tvalidation_0-mlogloss:0.48564\n",
      "[43]\tvalidation_0-mlogloss:0.48395\n",
      "[44]\tvalidation_0-mlogloss:0.48167\n",
      "[45]\tvalidation_0-mlogloss:0.47952\n",
      "[46]\tvalidation_0-mlogloss:0.47786\n",
      "[47]\tvalidation_0-mlogloss:0.47614\n",
      "[48]\tvalidation_0-mlogloss:0.47438\n",
      "[49]\tvalidation_0-mlogloss:0.47239\n",
      "[50]\tvalidation_0-mlogloss:0.47067\n",
      "[51]\tvalidation_0-mlogloss:0.46917\n",
      "[52]\tvalidation_0-mlogloss:0.46784\n",
      "[53]\tvalidation_0-mlogloss:0.46619\n",
      "[54]\tvalidation_0-mlogloss:0.46480\n",
      "[55]\tvalidation_0-mlogloss:0.46343\n",
      "[56]\tvalidation_0-mlogloss:0.46213\n",
      "[57]\tvalidation_0-mlogloss:0.46077\n",
      "[58]\tvalidation_0-mlogloss:0.45923\n",
      "[59]\tvalidation_0-mlogloss:0.45821\n",
      "[60]\tvalidation_0-mlogloss:0.45687\n",
      "[61]\tvalidation_0-mlogloss:0.45592\n",
      "[62]\tvalidation_0-mlogloss:0.45464\n",
      "[63]\tvalidation_0-mlogloss:0.45357\n",
      "[64]\tvalidation_0-mlogloss:0.45223\n",
      "[65]\tvalidation_0-mlogloss:0.45115\n",
      "[66]\tvalidation_0-mlogloss:0.45013\n",
      "[67]\tvalidation_0-mlogloss:0.44912\n",
      "[68]\tvalidation_0-mlogloss:0.44820\n",
      "[69]\tvalidation_0-mlogloss:0.44715\n",
      "[70]\tvalidation_0-mlogloss:0.44620\n",
      "[71]\tvalidation_0-mlogloss:0.44524\n",
      "[72]\tvalidation_0-mlogloss:0.44432\n",
      "[73]\tvalidation_0-mlogloss:0.44338\n",
      "[74]\tvalidation_0-mlogloss:0.44249\n",
      "[75]\tvalidation_0-mlogloss:0.44160\n",
      "[76]\tvalidation_0-mlogloss:0.44090\n",
      "[77]\tvalidation_0-mlogloss:0.44016\n",
      "[78]\tvalidation_0-mlogloss:0.43927\n",
      "[79]\tvalidation_0-mlogloss:0.43836\n",
      "[80]\tvalidation_0-mlogloss:0.43747\n",
      "[81]\tvalidation_0-mlogloss:0.43666\n",
      "[82]\tvalidation_0-mlogloss:0.43595\n",
      "[83]\tvalidation_0-mlogloss:0.43499\n",
      "[84]\tvalidation_0-mlogloss:0.43429\n",
      "[85]\tvalidation_0-mlogloss:0.43370\n",
      "[86]\tvalidation_0-mlogloss:0.43307\n",
      "[87]\tvalidation_0-mlogloss:0.43246\n",
      "[88]\tvalidation_0-mlogloss:0.43189\n",
      "[89]\tvalidation_0-mlogloss:0.43240\n",
      "[90]\tvalidation_0-mlogloss:0.43196\n",
      "[91]\tvalidation_0-mlogloss:0.43112\n",
      "[92]\tvalidation_0-mlogloss:0.43037\n",
      "[93]\tvalidation_0-mlogloss:0.43086\n",
      "[94]\tvalidation_0-mlogloss:0.43005\n",
      "[95]\tvalidation_0-mlogloss:0.42932\n",
      "[96]\tvalidation_0-mlogloss:0.42881\n",
      "[97]\tvalidation_0-mlogloss:0.42820\n",
      "[98]\tvalidation_0-mlogloss:0.42766\n",
      "[99]\tvalidation_0-mlogloss:0.42698\n",
      "[100]\tvalidation_0-mlogloss:0.42636\n",
      "[101]\tvalidation_0-mlogloss:0.42590\n",
      "[102]\tvalidation_0-mlogloss:0.42533\n",
      "[103]\tvalidation_0-mlogloss:0.42471\n",
      "[104]\tvalidation_0-mlogloss:0.42549\n",
      "[105]\tvalidation_0-mlogloss:0.42491\n",
      "[106]\tvalidation_0-mlogloss:0.42444\n",
      "[107]\tvalidation_0-mlogloss:0.42389\n",
      "[108]\tvalidation_0-mlogloss:0.42487\n",
      "[109]\tvalidation_0-mlogloss:0.42419\n",
      "[110]\tvalidation_0-mlogloss:0.42364\n",
      "[111]\tvalidation_0-mlogloss:0.42320\n",
      "[112]\tvalidation_0-mlogloss:0.42270\n",
      "[113]\tvalidation_0-mlogloss:0.42222\n",
      "[114]\tvalidation_0-mlogloss:0.42176\n",
      "[115]\tvalidation_0-mlogloss:0.42129\n",
      "[116]\tvalidation_0-mlogloss:0.42201\n",
      "[117]\tvalidation_0-mlogloss:0.42137\n",
      "[118]\tvalidation_0-mlogloss:0.42083\n",
      "[119]\tvalidation_0-mlogloss:0.42037\n",
      "[120]\tvalidation_0-mlogloss:0.42001\n",
      "[121]\tvalidation_0-mlogloss:0.41965\n",
      "[122]\tvalidation_0-mlogloss:0.41927\n",
      "[123]\tvalidation_0-mlogloss:0.41876\n",
      "[124]\tvalidation_0-mlogloss:0.41829\n",
      "[125]\tvalidation_0-mlogloss:0.41928\n",
      "[126]\tvalidation_0-mlogloss:0.41868\n",
      "[127]\tvalidation_0-mlogloss:0.41842\n",
      "[128]\tvalidation_0-mlogloss:0.41804\n",
      "[129]\tvalidation_0-mlogloss:0.41770\n",
      "[130]\tvalidation_0-mlogloss:0.41734\n",
      "[131]\tvalidation_0-mlogloss:0.41699\n",
      "[132]\tvalidation_0-mlogloss:0.41670\n",
      "[133]\tvalidation_0-mlogloss:0.41632\n",
      "[134]\tvalidation_0-mlogloss:0.41715\n",
      "[135]\tvalidation_0-mlogloss:0.41672\n",
      "[136]\tvalidation_0-mlogloss:0.41642\n",
      "[137]\tvalidation_0-mlogloss:0.41593\n",
      "[138]\tvalidation_0-mlogloss:0.41549\n",
      "[139]\tvalidation_0-mlogloss:0.41522\n",
      "[140]\tvalidation_0-mlogloss:0.41469\n",
      "[141]\tvalidation_0-mlogloss:0.41435\n",
      "[142]\tvalidation_0-mlogloss:0.41405\n",
      "[143]\tvalidation_0-mlogloss:0.41383\n",
      "[144]\tvalidation_0-mlogloss:0.41488\n",
      "[145]\tvalidation_0-mlogloss:0.41450\n",
      "[146]\tvalidation_0-mlogloss:0.41403\n",
      "[147]\tvalidation_0-mlogloss:0.41355\n",
      "[148]\tvalidation_0-mlogloss:0.41311\n",
      "[149]\tvalidation_0-mlogloss:0.41273\n",
      "[150]\tvalidation_0-mlogloss:0.41230\n",
      "[151]\tvalidation_0-mlogloss:0.41204\n",
      "[152]\tvalidation_0-mlogloss:0.41165\n",
      "[153]\tvalidation_0-mlogloss:0.41189\n",
      "[154]\tvalidation_0-mlogloss:0.41156\n",
      "[155]\tvalidation_0-mlogloss:0.41274\n",
      "[156]\tvalidation_0-mlogloss:0.41446\n",
      "[157]\tvalidation_0-mlogloss:0.41416\n",
      "[158]\tvalidation_0-mlogloss:0.41397\n",
      "[159]\tvalidation_0-mlogloss:0.41364\n",
      "[160]\tvalidation_0-mlogloss:0.41334\n",
      "[161]\tvalidation_0-mlogloss:0.41295\n",
      "[162]\tvalidation_0-mlogloss:0.41276\n",
      "[163]\tvalidation_0-mlogloss:0.41239\n",
      "[164]\tvalidation_0-mlogloss:0.41197\n",
      "[165]\tvalidation_0-mlogloss:0.41172\n",
      "[166]\tvalidation_0-mlogloss:0.41152\n",
      "[167]\tvalidation_0-mlogloss:0.41121\n",
      "[168]\tvalidation_0-mlogloss:0.41245\n",
      "[169]\tvalidation_0-mlogloss:0.41216\n",
      "[170]\tvalidation_0-mlogloss:0.41161\n",
      "[171]\tvalidation_0-mlogloss:0.41159\n",
      "[172]\tvalidation_0-mlogloss:0.41140\n",
      "[173]\tvalidation_0-mlogloss:0.41117\n",
      "\n",
      "📊 Classification Report (Train):\n",
      "              precision    recall  f1-score   support\n",
      "\n",
      "           0       0.93      0.87      0.90     74295\n",
      "           1       0.76      0.76      0.76     41635\n",
      "           2       0.38      0.85      0.53      3921\n",
      "\n",
      "    accuracy                           0.83    119851\n",
      "   macro avg       0.69      0.83      0.73    119851\n",
      "weighted avg       0.85      0.83      0.84    119851\n",
      "\n",
      "\n",
      "📊 Classification Report (Val):\n",
      "              precision    recall  f1-score   support\n",
      "\n",
      "           0       0.93      0.84      0.89     15913\n",
      "           1       0.73      0.76      0.75      8910\n",
      "           2       0.35      0.83      0.49       865\n",
      "\n",
      "    accuracy                           0.81     25688\n",
      "   macro avg       0.67      0.81      0.71     25688\n",
      "weighted avg       0.84      0.81      0.82     25688\n",
      "\n",
      "\n",
      "📊 Classification Report (Test):\n",
      "              precision    recall  f1-score   support\n",
      "\n",
      "           0       0.93      0.83      0.88     15972\n",
      "           1       0.72      0.78      0.75      8806\n",
      "           2       0.40      0.82      0.53       906\n",
      "\n",
      "    accuracy                           0.81     25684\n",
      "   macro avg       0.68      0.81      0.72     25684\n",
      "weighted avg       0.84      0.81      0.82     25684\n",
      "\n",
      "✅ Model exported to 'models/model_classifier.pkl'\n"
     ]
    }
   ],
   "source": [
    "from xgboost import XGBClassifier\n",
    "from sklearn.utils.class_weight import compute_class_weight\n",
    "from sklearn.metrics import classification_report\n",
    "import joblib\n",
    "import os\n",
    "import numpy as np\n",
    "import pandas as pd\n",
    "\n",
    "# === Define model ===\n",
    "best_model = XGBClassifier(\n",
    "    **study.best_params,\n",
    "    tree_method=\"hist\",\n",
    "    objective=\"multi:softprob\",\n",
    "    num_class=3,\n",
    "    eval_metric=\"mlogloss\"\n",
    ")\n",
    "\n",
    "# === Compute sample weights ===\n",
    "weights = compute_class_weight(\"balanced\", classes=np.array([0, 1, 2]), y=y_train_balanced)\n",
    "sample_weights = pd.Series(y_train_balanced).map(dict(enumerate(weights)))\n",
    "\n",
    "# === Train the model ===\n",
    "best_model.fit(\n",
    "    X_train_balanced,                 # ✅ Must be a DataFrame\n",
    "    y_train_balanced,\n",
    "    sample_weight=sample_weights,\n",
    "    eval_set=[(X_val_class_processed, y_val_class)],  # ✅ Also a DataFrame\n",
    "    verbose=True\n",
    ")\n",
    "\n",
    "\n",
    "# === Evaluate model ===\n",
    "print(\"\\n📊 Classification Report (Train):\")\n",
    "print(classification_report(y_train_class, best_model.predict(X_train_class_processed)))\n",
    "\n",
    "print(\"\\n📊 Classification Report (Val):\")\n",
    "print(classification_report(y_val_class, best_model.predict(X_val_class_processed)))\n",
    "\n",
    "print(\"\\n📊 Classification Report (Test):\")\n",
    "print(classification_report(y_test_class, best_model.predict(X_test_class_processed)))\n",
    "\n",
    "# === Save model with joblib ===\n",
    "models_dir = \"models\"\n",
    "os.makedirs(models_dir, exist_ok=True)\n",
    "joblib.dump(best_model, os.path.join(models_dir, \"model_classifier.pkl\"))\n",
    "print(\"✅ Model exported to 'models/model_classifier.pkl'\")\n",
    "\n"
   ]
  },
  {
   "cell_type": "markdown",
   "id": "ddc5b513",
   "metadata": {},
   "source": [
    "### Tests because the joblib dumb was corrupted"
   ]
  },
  {
   "cell_type": "code",
   "execution_count": 2,
   "id": "af974e4e",
   "metadata": {},
   "outputs": [
    {
     "name": "stdout",
     "output_type": "stream",
     "text": [
      "📊 Quick Evaluation:\n",
      "              precision    recall  f1-score   support\n",
      "\n",
      "           0       0.82      0.91      0.86        35\n",
      "           1       0.91      0.77      0.83        26\n",
      "           2       0.87      0.87      0.87        39\n",
      "\n",
      "    accuracy                           0.86       100\n",
      "   macro avg       0.87      0.85      0.86       100\n",
      "weighted avg       0.86      0.86      0.86       100\n",
      "\n",
      "✅ Model exported safely to models/model_classifier_test.json\n"
     ]
    }
   ],
   "source": [
    "from xgboost import XGBClassifier\n",
    "from sklearn.datasets import make_classification\n",
    "from sklearn.model_selection import train_test_split\n",
    "from sklearn.metrics import classification_report\n",
    "import os\n",
    "\n",
    "# === 1. Create dummy classification data ===\n",
    "X, y = make_classification(\n",
    "    n_samples=500,\n",
    "    n_features=15,\n",
    "    n_informative=10,\n",
    "    n_classes=3,\n",
    "    random_state=42\n",
    ")\n",
    "\n",
    "# === 2. Split data ===\n",
    "X_train, X_test, y_train, y_test = train_test_split(X, y, test_size=0.2, random_state=42)\n",
    "\n",
    "# === 3. Create and train test model ===\n",
    "test_model = XGBClassifier(\n",
    "    objective=\"multi:softprob\",\n",
    "    num_class=3,\n",
    "    eval_metric=\"mlogloss\",\n",
    "    use_label_encoder=False,\n",
    "    verbosity=0,\n",
    "    tree_method=\"hist\"  # fast training\n",
    ")\n",
    "\n",
    "test_model.fit(X_train, y_train)\n",
    "\n",
    "# === 4. Evaluate briefly ===\n",
    "print(\"📊 Quick Evaluation:\")\n",
    "print(classification_report(y_test, test_model.predict(X_test)))\n",
    "\n",
    "# === 5. Export safely using native .json format\n",
    "os.makedirs(\"models\", exist_ok=True)\n",
    "test_model.save_model(\"models/model_classifier_test.json\")\n",
    "print(\"✅ Model exported safely to models/model_classifier_test.json\")\n"
   ]
  },
  {
   "cell_type": "markdown",
   "id": "6aea5360",
   "metadata": {},
   "source": [
    "### Joblib dumb"
   ]
  },
  {
   "cell_type": "code",
   "execution_count": 114,
   "id": "c20699b0",
   "metadata": {},
   "outputs": [
    {
     "name": "stdout",
     "output_type": "stream",
     "text": [
      "<class 'xgboost.sklearn.XGBClassifier'>\n"
     ]
    }
   ],
   "source": [
    "from xgboost import XGBClassifier\n",
    "import joblib\n",
    "\n",
    "print(type(best_model))  # Must output: <class 'xgboost.sklearn.XGBClassifier'>\n"
   ]
  },
  {
   "cell_type": "markdown",
   "id": "2a1ade72",
   "metadata": {},
   "source": [
    "### More tests"
   ]
  },
  {
   "cell_type": "code",
   "execution_count": 121,
   "id": "65ac5271",
   "metadata": {},
   "outputs": [
    {
     "name": "stdout",
     "output_type": "stream",
     "text": [
      "['year', 'month', 'cancellation_rate', 'diversion_rate', 'carrier_delay_pct']\n"
     ]
    }
   ],
   "source": [
    "# Export the model\n",
    "joblib.dump(best_model, \"model_classifier.pkl\")\n",
    "\n",
    "# ✅ Optional: immediately load to verify\n",
    "test_model = joblib.load(\"model_classifier.pkl\")\n",
    "print(test_model.get_booster().feature_names[:5])  # Confirm it has names\n",
    "import os\n",
    "os.getcwd()\n",
    "import zipfile\n",
    "with zipfile.ZipFile(\"model_classifier_OKAYNOW.zip\", \"w\") as zipf:\n",
    "    zipf.write(\"model_classifier_final.pkl\")\n",
    "\n"
   ]
  },
  {
   "cell_type": "code",
   "execution_count": 123,
   "id": "313aecae",
   "metadata": {},
   "outputs": [
    {
     "name": "stdout",
     "output_type": "stream",
     "text": [
      "✅ Booster feature names found.\n",
      "Total features: 434\n",
      "Example: ['year', 'month', 'cancellation_rate', 'diversion_rate', 'carrier_delay_pct', 'weather_delay_pct', 'nas_delay_pct', 'security_delay_pct', 'late_aircraft_delay_pct', 'airport_delay_rate']\n"
     ]
    }
   ],
   "source": [
    "from xgboost import XGBClassifier\n",
    "import joblib\n",
    "\n",
    "model = joblib.load(\"model_classifier_final.pkl\")\n",
    "booster = model.get_booster()\n",
    "\n",
    "if booster.feature_names is None:\n",
    "    print(\"❌ Feature names missing in booster.\")\n",
    "else:\n",
    "    print(\"✅ Booster feature names found.\")\n",
    "    print(\"Total features:\", len(booster.feature_names))\n",
    "    print(\"Example:\", booster.feature_names[:10])\n",
    "\n",
    "import json\n",
    "\n",
    "with open(\"feature_names_classifier.json\", \"w\") as f:\n",
    "    json.dump(booster.feature_names, f)\n"
   ]
  },
  {
   "cell_type": "markdown",
   "id": "1c0c9640",
   "metadata": {},
   "source": [
    "### Import Libraries"
   ]
  },
  {
   "cell_type": "code",
   "execution_count": 101,
   "id": "8b6f18d1",
   "metadata": {},
   "outputs": [],
   "source": [
    "\n",
    "import joblib\n",
    "\n",
    "joblib.dump(saved_encoder, \"encoder_classifier.pkl\")\n",
    "joblib.dump(saved_scaler, \"scaler_classifier.pkl\")\n",
    "joblib.dump(best_model, \"model_classifier.pkl\")\n",
    "\n",
    "best_model.save_model(\"model_classifier.json\")  # Safe format\n",
    "\n"
   ]
  },
  {
   "cell_type": "markdown",
   "id": "b635c56a",
   "metadata": {},
   "source": [
    "### Import Libraries"
   ]
  },
  {
   "cell_type": "code",
   "execution_count": null,
   "id": "efb16d66",
   "metadata": {},
   "outputs": [
    {
     "data": {
      "text/plain": [
       "['xgb_50_optuna_trials_model.pkl']"
      ]
     },
     "execution_count": 23,
     "metadata": {},
     "output_type": "execute_result"
    }
   ],
   "source": [
    "import joblib\n",
    "\n",
    "# Save the trained model to file\n",
    "joblib.dump(best_model, \"xgb_50_optuna_trials_model.pkl\")\n",
    "\n",
    "# You can load it later with:\n",
    "# model = joblib.load(\"xgb_final_model.pkl\")\n"
   ]
  },
  {
   "cell_type": "markdown",
   "id": "25959e28",
   "metadata": {},
   "source": [
    "### Threshold testing as a try to improve the results due to class imbalance"
   ]
  },
  {
   "cell_type": "code",
   "execution_count": 16,
   "id": "9b2fabdd",
   "metadata": {},
   "outputs": [
    {
     "name": "stdout",
     "output_type": "stream",
     "text": [
      "📊 Threshold Tuning: Full Per-Class Report\n"
     ]
    },
    {
     "data": {
      "text/html": [
       "<div>\n",
       "<style scoped>\n",
       "    .dataframe tbody tr th:only-of-type {\n",
       "        vertical-align: middle;\n",
       "    }\n",
       "\n",
       "    .dataframe tbody tr th {\n",
       "        vertical-align: top;\n",
       "    }\n",
       "\n",
       "    .dataframe thead th {\n",
       "        text-align: right;\n",
       "    }\n",
       "</style>\n",
       "<table border=\"1\" class=\"dataframe\">\n",
       "  <thead>\n",
       "    <tr style=\"text-align: right;\">\n",
       "      <th></th>\n",
       "      <th>Threshold Set</th>\n",
       "      <th>Class 0 Precision</th>\n",
       "      <th>Class 0 Recall</th>\n",
       "      <th>Class 0 F1</th>\n",
       "      <th>Class 1 Precision</th>\n",
       "      <th>Class 1 Recall</th>\n",
       "      <th>Class 1 F1</th>\n",
       "      <th>Class 2 Precision</th>\n",
       "      <th>Class 2 Recall</th>\n",
       "      <th>Class 2 F1</th>\n",
       "      <th>Macro F1</th>\n",
       "      <th>Accuracy</th>\n",
       "    </tr>\n",
       "  </thead>\n",
       "  <tbody>\n",
       "    <tr>\n",
       "      <th>0</th>\n",
       "      <td>Penalty Class 2 False Positives</td>\n",
       "      <td>0.9394</td>\n",
       "      <td>0.8426</td>\n",
       "      <td>0.8884</td>\n",
       "      <td>0.7316</td>\n",
       "      <td>0.8673</td>\n",
       "      <td>0.7937</td>\n",
       "      <td>0.5770</td>\n",
       "      <td>0.5676</td>\n",
       "      <td>0.5723</td>\n",
       "      <td>0.7515</td>\n",
       "      <td>0.8419</td>\n",
       "    </tr>\n",
       "    <tr>\n",
       "      <th>1</th>\n",
       "      <td>Favor Class 1</td>\n",
       "      <td>0.9633</td>\n",
       "      <td>0.7744</td>\n",
       "      <td>0.8586</td>\n",
       "      <td>0.6738</td>\n",
       "      <td>0.9102</td>\n",
       "      <td>0.7744</td>\n",
       "      <td>0.5721</td>\n",
       "      <td>0.5688</td>\n",
       "      <td>0.5704</td>\n",
       "      <td>0.7345</td>\n",
       "      <td>0.8146</td>\n",
       "    </tr>\n",
       "    <tr>\n",
       "      <th>2</th>\n",
       "      <td>Default (0.33 each)</td>\n",
       "      <td>0.9398</td>\n",
       "      <td>0.8421</td>\n",
       "      <td>0.8882</td>\n",
       "      <td>0.7342</td>\n",
       "      <td>0.8403</td>\n",
       "      <td>0.7837</td>\n",
       "      <td>0.4789</td>\n",
       "      <td>0.6821</td>\n",
       "      <td>0.5627</td>\n",
       "      <td>0.7449</td>\n",
       "      <td>0.8361</td>\n",
       "    </tr>\n",
       "    <tr>\n",
       "      <th>3</th>\n",
       "      <td>Balance Class 1 &amp; 2</td>\n",
       "      <td>0.9634</td>\n",
       "      <td>0.7740</td>\n",
       "      <td>0.8583</td>\n",
       "      <td>0.6748</td>\n",
       "      <td>0.8825</td>\n",
       "      <td>0.7648</td>\n",
       "      <td>0.4740</td>\n",
       "      <td>0.6855</td>\n",
       "      <td>0.5605</td>\n",
       "      <td>0.7279</td>\n",
       "      <td>0.8086</td>\n",
       "    </tr>\n",
       "    <tr>\n",
       "      <th>4</th>\n",
       "      <td>Sharpen Class 2</td>\n",
       "      <td>0.9398</td>\n",
       "      <td>0.8421</td>\n",
       "      <td>0.8882</td>\n",
       "      <td>0.7349</td>\n",
       "      <td>0.8320</td>\n",
       "      <td>0.7804</td>\n",
       "      <td>0.4583</td>\n",
       "      <td>0.7110</td>\n",
       "      <td>0.5573</td>\n",
       "      <td>0.7420</td>\n",
       "      <td>0.8342</td>\n",
       "    </tr>\n",
       "    <tr>\n",
       "      <th>5</th>\n",
       "      <td>Soft Boost for Class 2</td>\n",
       "      <td>0.9400</td>\n",
       "      <td>0.8418</td>\n",
       "      <td>0.8882</td>\n",
       "      <td>0.7357</td>\n",
       "      <td>0.8249</td>\n",
       "      <td>0.7777</td>\n",
       "      <td>0.4416</td>\n",
       "      <td>0.7387</td>\n",
       "      <td>0.5528</td>\n",
       "      <td>0.7396</td>\n",
       "      <td>0.8325</td>\n",
       "    </tr>\n",
       "    <tr>\n",
       "      <th>6</th>\n",
       "      <td>Aggressive Boost for Class 2</td>\n",
       "      <td>0.9405</td>\n",
       "      <td>0.8409</td>\n",
       "      <td>0.8879</td>\n",
       "      <td>0.7354</td>\n",
       "      <td>0.7987</td>\n",
       "      <td>0.7657</td>\n",
       "      <td>0.3890</td>\n",
       "      <td>0.8023</td>\n",
       "      <td>0.5240</td>\n",
       "      <td>0.7259</td>\n",
       "      <td>0.8249</td>\n",
       "    </tr>\n",
       "    <tr>\n",
       "      <th>7</th>\n",
       "      <td>High Confidence Class 2</td>\n",
       "      <td>0.9408</td>\n",
       "      <td>0.8402</td>\n",
       "      <td>0.8876</td>\n",
       "      <td>0.7342</td>\n",
       "      <td>0.7692</td>\n",
       "      <td>0.7513</td>\n",
       "      <td>0.3452</td>\n",
       "      <td>0.8543</td>\n",
       "      <td>0.4917</td>\n",
       "      <td>0.7102</td>\n",
       "      <td>0.8161</td>\n",
       "    </tr>\n",
       "  </tbody>\n",
       "</table>\n",
       "</div>"
      ],
      "text/plain": [
       "                     Threshold Set  Class 0 Precision  Class 0 Recall  \\\n",
       "0  Penalty Class 2 False Positives             0.9394          0.8426   \n",
       "1                    Favor Class 1             0.9633          0.7744   \n",
       "2              Default (0.33 each)             0.9398          0.8421   \n",
       "3              Balance Class 1 & 2             0.9634          0.7740   \n",
       "4                  Sharpen Class 2             0.9398          0.8421   \n",
       "5           Soft Boost for Class 2             0.9400          0.8418   \n",
       "6     Aggressive Boost for Class 2             0.9405          0.8409   \n",
       "7          High Confidence Class 2             0.9408          0.8402   \n",
       "\n",
       "   Class 0 F1  Class 1 Precision  Class 1 Recall  Class 1 F1  \\\n",
       "0      0.8884             0.7316          0.8673      0.7937   \n",
       "1      0.8586             0.6738          0.9102      0.7744   \n",
       "2      0.8882             0.7342          0.8403      0.7837   \n",
       "3      0.8583             0.6748          0.8825      0.7648   \n",
       "4      0.8882             0.7349          0.8320      0.7804   \n",
       "5      0.8882             0.7357          0.8249      0.7777   \n",
       "6      0.8879             0.7354          0.7987      0.7657   \n",
       "7      0.8876             0.7342          0.7692      0.7513   \n",
       "\n",
       "   Class 2 Precision  Class 2 Recall  Class 2 F1  Macro F1  Accuracy  \n",
       "0             0.5770          0.5676      0.5723    0.7515    0.8419  \n",
       "1             0.5721          0.5688      0.5704    0.7345    0.8146  \n",
       "2             0.4789          0.6821      0.5627    0.7449    0.8361  \n",
       "3             0.4740          0.6855      0.5605    0.7279    0.8086  \n",
       "4             0.4583          0.7110      0.5573    0.7420    0.8342  \n",
       "5             0.4416          0.7387      0.5528    0.7396    0.8325  \n",
       "6             0.3890          0.8023      0.5240    0.7259    0.8249  \n",
       "7             0.3452          0.8543      0.4917    0.7102    0.8161  "
      ]
     },
     "metadata": {},
     "output_type": "display_data"
    },
    {
     "data": {
      "image/png": "[encoded data removed]",
      "text/plain": [
       "<Figure size 1000x600 with 1 Axes>"
      ]
     },
     "metadata": {},
     "output_type": "display_data"
    }
   ],
   "source": [
    "import numpy as np\n",
    "import pandas as pd\n",
    "from sklearn.metrics import classification_report\n",
    "import matplotlib.pyplot as plt\n",
    "\n",
    "# Predict class probabilities on the validation set\n",
    "val_probs = best_model.predict_proba(X_val_class_processed)\n",
    "\n",
    "# Define threshold sets to try\n",
    "threshold_sets = {\n",
    "    \"Default (0.33 each)\": [0.33, 0.33, 0.33],\n",
    "    \"Soft Boost for Class 2\": [0.3, 0.3, 0.4],\n",
    "    \"Aggressive Boost for Class 2\": [0.25, 0.25, 0.5],\n",
    "    \"High Confidence Class 2\": [0.2, 0.2, 0.6],\n",
    "    \"Penalty Class 2 False Positives\": [0.4, 0.4, 0.2],\n",
    "    \"Favor Class 1\": [0.25, 0.5, 0.25],\n",
    "    \"Sharpen Class 2\": [0.3, 0.3, 0.35],\n",
    "    \"Balance Class 1 & 2\": [0.2, 0.4, 0.4],\n",
    "}\n",
    "\n",
    "# Collect all results\n",
    "all_results = []\n",
    "\n",
    "for label, weights in threshold_sets.items():\n",
    "    weights = np.array(weights) / np.sum(weights)  # normalize\n",
    "    preds = np.argmax(val_probs * weights, axis=1)\n",
    "    report = classification_report(y_val_class, preds, output_dict=True, zero_division=0)\n",
    "\n",
    "    all_results.append({\n",
    "        \"Threshold Set\": label,\n",
    "        \"Class 0 Precision\": round(report[\"0\"][\"precision\"], 4),\n",
    "        \"Class 0 Recall\": round(report[\"0\"][\"recall\"], 4),\n",
    "        \"Class 0 F1\": round(report[\"0\"][\"f1-score\"], 4),\n",
    "        \"Class 1 Precision\": round(report[\"1\"][\"precision\"], 4),\n",
    "        \"Class 1 Recall\": round(report[\"1\"][\"recall\"], 4),\n",
    "        \"Class 1 F1\": round(report[\"1\"][\"f1-score\"], 4),\n",
    "        \"Class 2 Precision\": round(report[\"2\"][\"precision\"], 4),\n",
    "        \"Class 2 Recall\": round(report[\"2\"][\"recall\"], 4),\n",
    "        \"Class 2 F1\": round(report[\"2\"][\"f1-score\"], 4),\n",
    "        \"Macro F1\": round(report[\"macro avg\"][\"f1-score\"], 4),\n",
    "        \"Accuracy\": round(report[\"accuracy\"], 4),\n",
    "    })\n",
    "\n",
    "# Convert to DataFrame and sort by Class 2 F1\n",
    "df_results = pd.DataFrame(all_results)\n",
    "df_sorted = df_results.sort_values(\"Class 2 F1\", ascending=False).reset_index(drop=True)\n",
    "\n",
    "# Display full results\n",
    "print(\"📊 Threshold Tuning: Full Per-Class Report\")\n",
    "display(df_sorted)\n",
    "\n",
    "# Optional: Plot class-wise F1-scores for each threshold set\n",
    "fig, ax = plt.subplots(figsize=(10, 6))\n",
    "for cls in [\"Class 0 F1\", \"Class 1 F1\", \"Class 2 F1\"]:\n",
    "    ax.plot(df_sorted[\"Threshold Set\"], df_sorted[cls], marker='o', label=cls)\n",
    "plt.title(\"Per-Class F1 Scores by Threshold Strategy\")\n",
    "plt.ylabel(\"F1 Score\")\n",
    "plt.xticks(rotation=45, ha=\"right\")\n",
    "plt.ylim(0, 1)\n",
    "plt.legend()\n",
    "plt.grid(True)\n",
    "plt.tight_layout()\n",
    "plt.show()\n"
   ]
  },
  {
   "cell_type": "markdown",
   "id": "7c96a4ee",
   "metadata": {},
   "source": [
    "### Output the best thresholds for the backend code"
   ]
  },
  {
   "cell_type": "code",
   "execution_count": 17,
   "id": "5f3617ca",
   "metadata": {},
   "outputs": [
    {
     "name": "stdout",
     "output_type": "stream",
     "text": [
      "✅ Thresholds saved to best_thresholds.json\n"
     ]
    }
   ],
   "source": [
    "import json\n",
    "\n",
    "# Define the top 3 threshold sets\n",
    "best_thresholds = {\n",
    "    \"Best Overall (Penalty Class 2 False Positives)\": [0.4, 0.4, 0.2],\n",
    "    \"Best Recall (High Confidence Class 2)\": [0.2, 0.2, 0.6],\n",
    "    \"Best Precision (Penalty Class 2 False Positives)\": [0.4, 0.4, 0.2]\n",
    "}\n",
    "\n",
    "# Save to JSON file\n",
    "with open(\"best_thresholds.json\", \"w\") as f:\n",
    "    json.dump(best_thresholds, f, indent=4)\n",
    "\n",
    "print(\"✅ Thresholds saved to best_thresholds.json\")\n"
   ]
  },
  {
   "cell_type": "markdown",
   "id": "ae5a770d",
   "metadata": {},
   "source": [
    "### Import Libraries"
   ]
  },
  {
   "cell_type": "code",
   "execution_count": 18,
   "id": "46cf6c0c",
   "metadata": {},
   "outputs": [
    {
     "name": "stdout",
     "output_type": "stream",
     "text": [
      "📊 Classification Report (Custom Thresholds):\n",
      "              precision    recall  f1-score   support\n",
      "\n",
      "           0     0.9400    0.8418    0.8882     15913\n",
      "           1     0.7357    0.8249    0.7777      8910\n",
      "           2     0.4416    0.7387    0.5528       865\n",
      "\n",
      "    accuracy                         0.8325     25688\n",
      "   macro avg     0.7058    0.8018    0.7396     25688\n",
      "weighted avg     0.8523    0.8325    0.8386     25688\n",
      "\n"
     ]
    },
    {
     "data": {
      "image/png": "[encoded data removed]",
      "text/plain": [
       "<Figure size 600x400 with 2 Axes>"
      ]
     },
     "metadata": {},
     "output_type": "display_data"
    }
   ],
   "source": [
    "import numpy as np\n",
    "from sklearn.metrics import classification_report, confusion_matrix\n",
    "\n",
    "y_probs = best_model.predict_proba(X_val_class_processed)\n",
    "\n",
    "# Adjust threshold to boost class 2 detection\n",
    "thresholds = [0.3, 0.3, 0.4]\n",
    "adjusted_preds = np.argmax(y_probs * thresholds, axis=1)\n",
    "\n",
    "print(\"📊 Classification Report (Custom Thresholds):\")\n",
    "print(classification_report(y_val_class, adjusted_preds, digits=4))\n",
    "import seaborn as sns\n",
    "import matplotlib.pyplot as plt\n",
    "\n",
    "cm = confusion_matrix(y_val_class, adjusted_preds)\n",
    "plt.figure(figsize=(6, 4))\n",
    "sns.heatmap(cm, annot=True, fmt='d', cmap='Oranges',\n",
    "            xticklabels=['Low', 'Moderate', 'High'],\n",
    "            yticklabels=['Low', 'Moderate', 'High'])\n",
    "plt.title(\"Confusion Matrix (Custom Class 2 Threshold)\")\n",
    "plt.xlabel(\"Predicted\")\n",
    "plt.ylabel(\"Actual\")\n",
    "plt.tight_layout()\n",
    "plt.show()\n"
   ]
  },
  {
   "cell_type": "markdown",
   "id": "cf9368d5",
   "metadata": {},
   "source": [
    "### Import Libraries"
   ]
  },
  {
   "cell_type": "markdown",
   "id": "7f44516b",
   "metadata": {},
   "source": [
    "### tests"
   ]
  },
  {
   "cell_type": "code",
   "execution_count": 20,
   "id": "5700e3e9",
   "metadata": {},
   "outputs": [
    {
     "name": "stdout",
     "output_type": "stream",
     "text": [
      "📊 Classification Report (Test Set with Custom Thresholds):\n",
      "              precision    recall  f1-score   support\n",
      "\n",
      "           0     0.9376    0.8454    0.8891     15972\n",
      "           1     0.7297    0.8661    0.7921      8806\n",
      "           2     0.6166    0.5662    0.5903       906\n",
      "\n",
      "    accuracy                         0.8426     25684\n",
      "   macro avg     0.7613    0.7592    0.7572     25684\n",
      "weighted avg     0.8550    0.8426    0.8453     25684\n",
      "\n"
     ]
    },
    {
     "data": {
      "image/png": "[encoded data removed]",
      "text/plain": [
       "<Figure size 640x480 with 2 Axes>"
      ]
     },
     "metadata": {},
     "output_type": "display_data"
    }
   ],
   "source": [
    "import numpy as np\n",
    "from sklearn.metrics import classification_report, confusion_matrix, ConfusionMatrixDisplay\n",
    "import matplotlib.pyplot as plt\n",
    "\n",
    "# Use your chosen thresholds\n",
    "best_thresholds = [0.4, 0.4, 0.2]\n",
    "\n",
    "# Get predicted probabilities on test set\n",
    "y_test_probs = best_model.predict_proba(X_test_class_processed)\n",
    "\n",
    "# Apply threshold scaling\n",
    "y_test_preds = np.argmax(y_test_probs * best_thresholds, axis=1)\n",
    "\n",
    "# Print detailed classification report\n",
    "print(\"📊 Classification Report (Test Set with Custom Thresholds):\")\n",
    "print(classification_report(y_test_class, y_test_preds, digits=4))\n",
    "\n",
    "# Plot confusion matrix\n",
    "cm = confusion_matrix(y_test_class, y_test_preds)\n",
    "disp = ConfusionMatrixDisplay(confusion_matrix=cm, display_labels=[\"Low\", \"Moderate\", \"High\"])\n",
    "disp.plot(cmap=\"Oranges\")\n",
    "plt.title(\"Test Set Confusion Matrix (Custom Thresholds)\")\n",
    "plt.tight_layout()\n",
    "plt.show()\n"
   ]
  },
  {
   "cell_type": "markdown",
   "id": "4a342e9e",
   "metadata": {},
   "source": [
    "### Import Libraries"
   ]
  },
  {
   "cell_type": "code",
   "execution_count": 21,
   "id": "ffb7ea26",
   "metadata": {},
   "outputs": [
    {
     "data": {
      "text/plain": [
       "<Figure size 1000x600 with 0 Axes>"
      ]
     },
     "metadata": {},
     "output_type": "display_data"
    },
    {
     "data": {
      "image/png": "[encoded data removed]",
      "text/plain": [
       "<Figure size 640x480 with 1 Axes>"
      ]
     },
     "metadata": {},
     "output_type": "display_data"
    }
   ],
   "source": [
    "from xgboost import plot_importance\n",
    "import matplotlib.pyplot as plt\n",
    "\n",
    "# Plot top 15 features by importance (gain-based)\n",
    "plt.figure(figsize=(10, 6))\n",
    "plot_importance(best_model, max_num_features=15, importance_type=\"gain\", show_values=False)\n",
    "plt.title(\"Top 15 Important Features (by Gain)\")\n",
    "plt.tight_layout()\n",
    "plt.show()\n"
   ]
  }
 ],
 "metadata": {
  "kernelspec": {
   "display_name": "dashboard_env",
   "language": "python",
   "name": "python3"
  },
  "language_info": {
   "codemirror_mode": {
    "name": "ipython",
    "version": 3
   },
   "file_extension": ".py",
   "mimetype": "text/x-python",
   "name": "python",
   "nbconvert_exporter": "python",
   "pygments_lexer": "ipython3",
   "version": "3.12.1"
  }
 },
 "nbformat": 4,
 "nbformat_minor": 5
}
